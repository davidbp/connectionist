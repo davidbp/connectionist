{
 "cells": [
  {
   "cell_type": "code",
   "execution_count": 1,
   "metadata": {
    "collapsed": true
   },
   "outputs": [],
   "source": [
    "%matplotlib inline\n",
    "%load_ext autoreload\n",
    "%autoreload 2\n",
    "import seaborn as sns"
   ]
  },
  {
   "cell_type": "markdown",
   "metadata": {},
   "source": [
    "# Mixture density networks (MDN)\n",
    "\n",
    "Interesting material:\n",
    "\n",
    "- Bishop pattern recognition and machine learning: Mixture Density Networks page 272\n",
    "- https://amjadmahayri.wordpress.com/2014/04/30/mixture-density-networks/\n",
    "- http://www.cedar.buffalo.edu/~srihari/CSE574/Chap5/\n",
    "- http://static.googleusercontent.com/media/research.google.com/en//pubs/archive/42020.pdf\n",
    "- http://eprints.aston.ac.uk/373/1/NCRG_94_004.pdf\n",
    "- Implementation numpy: https://github.com/karpathy/randomfun/blob/master/MixtureDensityNets.ipynb\n",
    "\n",
    "#### Draw neural net \n",
    "- https://gist.github.com/craffel/2d727968c3aaebd10359\n",
    "\n",
    "#### What is the advantage of a mixture density network ?\n",
    "\n",
    " Instead of using the NN to predict directly the targets, use it to predict the parameters of a conditional distribution over the targets (given the input).\n",
    " \n",
    "- **Mixture density networks learn for each input a conditional distribution over the target**, each has the same form, but with different parameters. \n",
    "\n",
    "For example, we can assume that the target has a Gaussian conditional distribution, and the network predicts the mean of this distribution (we assume here that the variance is independent of the input, but this assumption be relaxed).\n",
    "\n",
    "If we train the network with the mean-squared error loss function we get the same solution as when we train it with the negative log-likelihood of a Gaussian. One might hope that we learn a more complex (multi-modal) conditional distribution for the target. This is actually the goal of Mixture density networks!\n",
    "\n",
    "We want to model the conditional distribution as a mixture of Gaussians, where each Gaussian component parameters are dependent on the input, that is \n",
    "\n",
    "\\begin{equation}\n",
    "P(y^m \\mid x^m) = \\sum_{k=1}^K \\pi_k(x^m) \\mathcal{N} \\left( y^m \\mid \\mu_k(x^m) , \\sigma_k^2(x^m) \\right)\n",
    "\\end{equation}\n",
    "\n",
    "This network has 3 types of outputs:\n",
    "\n",
    "- A mixing coefficient $\\pi_k$\n",
    "- The mean of the Gaussian component $\\mu_k$\n",
    "- The variance of the Gaussian component $\\sigma_k^2$\n",
    "\n",
    "One might think: we don’t have ground truths for those outputs $\\pi_k,\\mu_k, \\sigma_k^2$ , how could make the network learn them?! the answer is we don’t need ground truths, because the loss function we’re going to use is the negative log likelihood given the data, so we just update the parameters of the model as to minimize this loss function.\n",
    "\n",
    "#### Implementation of the mixture density network:\n",
    "\n",
    "Implementation of the mixture density network: https://github.com/aalmah/ift6266amjad/blob/master/experiments/mdn.py\n",
    "\n",
    "This implementation\n",
    "\n",
    "- Accepts multiple samples at once. Therefore Gaussian components are multivariate.\n",
    "- Supports mini batches of data.\n",
    "- $\\mu$ is a 3d tensor\n",
    "\n",
    "Notice that the output layer is a bit different with respect to an standard MLP. The standard MLP uses a matrix as output layer for any regression problem. This network has in the output layer\n",
    "\n",
    "- A tensor for $\\mu$\n",
    "- A matrix for $\\sigma^2$\n",
    "- A matrix for $\\pi$\n",
    "\n",
    "Notice that\n",
    "\n",
    "- The activation function for $\\mu$ is the same as the desired output.\n",
    "- The activation function for $\\sigma^2$ is a softplus.\n",
    "- The activation function for $\\pi$ is a softmax.\n",
    "\n",
    "#### About NANS and the LogSumExp trick\n",
    "\n",
    "A straight implementation of MDN would cause a lot of NaNs.\n",
    "**A very important issue when implementing MDN is that you have the log-sum-exp expression in the log likelihood**, which otherwise can be numerically unstable. This can be fixed using this trick (https://github.com/Theano/Theano/issues/1563).\n",
    "\n",
    " We have to use a **smaller initial learning rate than a the one I used in my previous MLP is important**, otherwise we would get NaN in the likelihood. \n",
    " \n",
    " With these two tricks, we don’t get any NaNs. For the RNADE paper trick, I tried multiplying the mean with the variance in the cost function, but this changes the gradients of the variance and it makes the performance worse. In addition, I didn’t find it helping at all.\n",
    " \n",
    " Multiplying the gradient of the \\mu directly with the \\sigma is a little tricky when you’re using Theano’s automatic differentiation, and that’s probably why when I checked the RNADE code I found that they’re computing the gradients without using Theano’s T.grad\n",
    " \n",
    " \n",
    " \n",
    "#### Experiments \n",
    "\n",
    "- We would like to compare the MDN model with a similar MLP, and we can compare them in terms of the mean negative log-likelihood (Mean NLL) and the MSE on the same set of validation set.\n",
    "\n",
    "\n",
    "- In order to compute the MSE for the MDN model, we need to sample from the target conditional distribution. We do that by doing the following for each input data point: \n",
    "    - we sample the component from the multinomial distribution over the components (parametrized by the mixing coefficients), which gives us a selected component, \n",
    "    - then sample the prediction from the selected Gaussian component. \n",
    "\n",
    "\n",
    "- Computing the log-likelihood of the MLP is easy, it’s just the log of a Gaussian, with the output of the network as the mean, and its variance is the maximum likelihood estimate from the data, which turns out to be the MSE.\n",
    "\n"
   ]
  },
  {
   "cell_type": "code",
   "execution_count": 2,
   "metadata": {
    "collapsed": true
   },
   "outputs": [],
   "source": [
    "#### Code from A.Karpathy"
   ]
  },
  {
   "cell_type": "markdown",
   "metadata": {},
   "source": [
    "## Numpy code"
   ]
  },
  {
   "cell_type": "code",
   "execution_count": 2,
   "metadata": {
    "collapsed": true
   },
   "outputs": [],
   "source": [
    "import h5py\n",
    "import scipy\n",
    "import numpy as np\n",
    "import matplotlib\n",
    "import numpy as np\n",
    "import matplotlib.pyplot as plt\n",
    "import math\n",
    "%matplotlib inline"
   ]
  },
  {
   "cell_type": "code",
   "execution_count": 3,
   "metadata": {
    "collapsed": false
   },
   "outputs": [
    {
     "data": {
      "text/plain": [
       "<matplotlib.collections.PathCollection at 0x7fae6cf794d0>"
      ]
     },
     "execution_count": 3,
     "metadata": {},
     "output_type": "execute_result"
    },
    {
     "data": {
      "image/png": "[encoded data removed]",
      "text/plain": [
       "<matplotlib.figure.Figure at 0x7fae6efd0110>"
      ]
     },
     "metadata": {},
     "output_type": "display_data"
    }
   ],
   "source": [
    "# generate some 1D regression data (reproducing Bishop book data, page 273). \n",
    "# Note that the P(y|x) is not a nice distribution. E.g. it has three modes for x ~= 0.5\n",
    "N = 200\n",
    "X = np.linspace(0,1,N)\n",
    "Y = X + 0.3 * np.sin(2*3.1415926*X) + np.random.uniform(-0.1, 0.2, N)\n",
    "X,Y = Y,X\n",
    "plt.scatter(X,Y,color='g')"
   ]
  },
  {
   "cell_type": "code",
   "execution_count": 28,
   "metadata": {
    "collapsed": true
   },
   "outputs": [],
   "source": [
    "# model intialization\n",
    "input_size = 1\n",
    "hidden_size = 30\n",
    "K = 4 # number of mixture components\n",
    "m = {}\n",
    "m['Wxh'] = np.random.randn(hidden_size, input_size) * 0.1 # input to hidden\n",
    "m['Whu'] = np.random.randn(K, hidden_size) * 0.1 # hidden to means\n",
    "m['Whs'] = np.random.randn(K, hidden_size) * 0.1 # hidden to log standard deviations\n",
    "m['Whp'] = np.random.randn(K, hidden_size) * 0.1 # hidden to mixing coefficients (cluster priors)\n",
    "m['bxh'] = np.random.randn(hidden_size, 1) * 0.01\n",
    "m['bhu'] = np.random.randn(K, 1) * 0.01\n",
    "m['bhs'] = np.random.randn(K, 1) * 0.01\n",
    "m['bhp'] = np.random.randn(K, 1) * 0.01"
   ]
  },
  {
   "cell_type": "code",
   "execution_count": 29,
   "metadata": {
    "collapsed": true
   },
   "outputs": [],
   "source": [
    "def softmax(x):\n",
    "    # softmaxes the columns of x\n",
    "    #z = x - np.max(x, axis=0, keepdims=True) # for safety\n",
    "    e = np.exp(x)\n",
    "    en = e / np.sum(e, axis=0, keepdims=True)\n",
    "    return en\n",
    "\n",
    "def mdn_loss(x, y, m):\n",
    "    # data in X are columns\n",
    "    \n",
    "    # forward pass\n",
    "    h = np.tanh(np.dot(m['Wxh'], x) + m['bxh'])\n",
    "    \n",
    "    # predict mean\n",
    "    mu = np.dot(m['Whu'], h) + m['bhu']\n",
    "    \n",
    "    # predict log variance\n",
    "    logsig = np.dot(m['Whs'], h) + m['bhs']\n",
    "    sig = np.exp(logsig)\n",
    "    \n",
    "    # predict mixture priors\n",
    "    piu = np.dot(m['Whp'], h) + m['bhp'] # unnormalized pi\n",
    "    pi = softmax(piu)\n",
    "    \n",
    "    # compute the loss: mean negative data log likelihood\n",
    "    k,n = mu.shape # number of mixture components\n",
    "    ps = np.exp(-((y - mu)**2)/(2*sig**2))/(sig*np.sqrt(2*math.pi))\n",
    "    pin = ps * pi\n",
    "    lp = -np.log(np.sum(pin, axis=0, keepdims=True))\n",
    "    loss = np.sum(lp)/n\n",
    "    \n",
    "    # compute the gradients on nn outputsmi\n",
    "    grad = {}\n",
    "    gammas = pin / np.sum(pin, axis=0, keepdims = True)\n",
    "    dmu = gammas * ((mu - y)/sig**2) /n\n",
    "    dlogsig = gammas * (1.0 - (y-mu)**2/(sig**2)) /n\n",
    "    dpiu = (pi - gammas) /n\n",
    "    \n",
    "    # backprop to decoder matrices\n",
    "    grad['bhu'] = np.sum(dmu, axis=1, keepdims=True)\n",
    "    grad['bhs'] = np.sum(dlogsig, axis=1, keepdims=True)\n",
    "    grad['bhp'] = np.sum(dpiu, axis=1, keepdims=True)\n",
    "    grad['Whu'] = np.dot(dmu, h.T)\n",
    "    grad['Whs'] = np.dot(dlogsig, h.T)\n",
    "    grad['Whp'] = np.dot(dpiu, h.T)\n",
    "    \n",
    "    # backprop to h\n",
    "    dh = np.dot(m['Whu'].T, dmu) + np.dot(m['Whs'].T, dlogsig) + np.dot(m['Whp'].T, dpiu)\n",
    "    \n",
    "    # backprop tanh\n",
    "    dh = (1.0-h**2)*dh\n",
    "    \n",
    "    # backprop input to hidden\n",
    "    grad['bxh'] = np.sum(dh, axis=1, keepdims=True)\n",
    "    grad['Wxh'] = np.dot(dh, x.T)\n",
    "    \n",
    "    # misc stats\n",
    "    stats = {}\n",
    "    stats['lp'] = lp\n",
    "    return loss, grad, stats\n",
    "    \n",
    "    "
   ]
  },
  {
   "cell_type": "code",
   "execution_count": 30,
   "metadata": {
    "collapsed": false
   },
   "outputs": [],
   "source": [
    "nb = N # full batch\n",
    "xbatch = np.reshape(X[:nb], (1,nb))\n",
    "ybatch = np.reshape(Y[:nb], (1,nb))"
   ]
  },
  {
   "cell_type": "code",
   "execution_count": 31,
   "metadata": {
    "collapsed": false
   },
   "outputs": [
    {
     "data": {
      "text/plain": [
       "(200, 1)"
      ]
     },
     "execution_count": 31,
     "metadata": {},
     "output_type": "execute_result"
    }
   ],
   "source": [
    "xbatch.T.shape"
   ]
  },
  {
   "cell_type": "code",
   "execution_count": null,
   "metadata": {
    "collapsed": false
   },
   "outputs": [
    {
     "name": "stdout",
     "output_type": "stream",
     "text": [
      "(0, ': ', 1.0716429390397726)\n",
      "(1000, ': ', -0.46805437819808804)\n",
      "(2000, ': ', -0.63902758613941757)\n",
      "(3000, ': ', -0.67943513467508609)\n",
      "(4000, ': ', -0.69586483732968807)\n",
      "(5000, ': ', -0.70352980721083513)\n",
      "(6000, ': ', -0.70773306395225943)\n",
      "(7000, ': ', -0.71058356659001121)\n",
      "(8000, ': ', -0.71291210268911587)\n",
      "(9000, ': ', -0.71507612555439837)\n",
      "(10000, ': ', -0.71725073600897071)\n",
      "(11000, ': ', -0.7195290131658042)\n",
      "(12000, ': ', -0.72195628435785619)\n",
      "(13000, ': ', -0.72452807716578205)\n",
      "(14000, ': ', -0.72721027648868641)\n",
      "(15000, ': ', -0.72986392459728922)\n",
      "(16000, ': ', -0.7324549280373952)\n",
      "(17000, ': ', -0.73486715956603832)\n",
      "(18000, ': ', -0.73704214029008597)\n",
      "(19000, ': ', -0.73897014605286304)\n"
     ]
    }
   ],
   "source": [
    "# optimize\n",
    "lr = 1e-2\n",
    "mem = {}\n",
    "for k in m.keys(): mem[k] = np.zeros_like(m[k]) # init adagrad\n",
    "for k in range(20000):\n",
    "    loss, grad, stats = mdn_loss(xbatch, ybatch, m)\n",
    "    if k % 1000 == 0:\n",
    "        print (k, \": \", loss)\n",
    "        \n",
    "    for k,v in grad.items():\n",
    "        mem[k] += grad[k]**2\n",
    "        m[k] += -lr * grad[k] / np.sqrt(mem[k] + 1e-8)\n",
    "        "
   ]
  },
  {
   "cell_type": "code",
   "execution_count": null,
   "metadata": {
    "collapsed": true
   },
   "outputs": [],
   "source": [
    "# utility function for creating contour plot of the predictions\n",
    "def drawContour(m):\n",
    "    n = 50\n",
    "    xx = np.linspace(0,1,n)\n",
    "    yy = np.linspace(0,1,n)\n",
    "    xm, ym = np.meshgrid(xx, yy)\n",
    "    _, _, stats = mdn_loss(xm.reshape(1, xm.size), ym.reshape(1, ym.size), m)\n",
    "    logps = stats['lp']\n",
    "    plt.figure(figsize=(10,10))\n",
    "    plt.scatter(X,Y,color='g')\n",
    "    lp = stats['lp']\n",
    "    plt.contour(xm, ym, np.reshape(logps, (n, n)), levels=np.linspace(lp.min(), lp.max(), 50))\n",
    "    plt.xlabel('x')\n",
    "    plt.ylabel('y')\n",
    "    plt.title('3-component Gaussian Mixture Model for P(y|x)')\n",
    "#drawContour(m)"
   ]
  },
  {
   "cell_type": "code",
   "execution_count": null,
   "metadata": {
    "collapsed": false,
    "scrolled": false
   },
   "outputs": [],
   "source": [
    "drawContour(m)"
   ]
  },
  {
   "cell_type": "code",
   "execution_count": 27,
   "metadata": {
    "collapsed": false
   },
   "outputs": [
    {
     "name": "stdout",
     "output_type": "stream",
     "text": [
      "running gradient check...\n",
      "('checking gradient on parameter', 'bxh', 'of shape ...', '(30, 1)')\n",
      "OK bxh index       13 (val = +0.113087), analytic = -0.033412, numerical = -0.033412, rel error = +0.000000\n",
      "OK bxh index       10 (val = -0.157753), analytic = -0.002271, numerical = -0.002271, rel error = +0.000000\n",
      "OK bxh index       19 (val = -0.579510), analytic = +0.051569, numerical = +0.051569, rel error = +0.000000\n",
      "OK bxh index       16 (val = +0.106845), analytic = +0.025360, numerical = +0.025360, rel error = +0.000000\n",
      "OK bxh index       24 (val = +0.246396), analytic = +0.009760, numerical = +0.009760, rel error = +0.000000\n",
      "OK bxh index       15 (val = -0.341481), analytic = -0.038671, numerical = -0.038671, rel error = +0.000000\n",
      "OK bxh index        5 (val = +0.259327), analytic = -0.015310, numerical = -0.015310, rel error = +0.000000\n",
      "OK bxh index        0 (val = -0.113669), analytic = +0.041825, numerical = +0.041825, rel error = +0.000000\n",
      "OK bxh index       13 (val = +0.113087), analytic = -0.033412, numerical = -0.033412, rel error = +0.000000\n",
      "OK bxh index        3 (val = +0.102851), analytic = -0.015887, numerical = -0.015887, rel error = +0.000000\n",
      "('checking gradient on parameter', 'bhu', 'of shape ...', '(4, 1)')\n",
      "OK bhu index        1 (val = -0.060103), analytic = +0.039910, numerical = +0.039910, rel error = +0.000000\n",
      "OK bhu index        1 (val = -0.060103), analytic = +0.039910, numerical = +0.039910, rel error = +0.000000\n",
      "OK bhu index        3 (val = +0.239519), analytic = +0.001139, numerical = +0.001139, rel error = +0.000000\n",
      "OK bhu index        2 (val = +0.044756), analytic = +0.087753, numerical = +0.087753, rel error = +0.000000\n",
      "OK bhu index        1 (val = -0.060103), analytic = +0.039910, numerical = +0.039910, rel error = +0.000000\n",
      "OK bhu index        2 (val = +0.044756), analytic = +0.087753, numerical = +0.087753, rel error = +0.000000\n",
      "OK bhu index        1 (val = -0.060103), analytic = +0.039910, numerical = +0.039910, rel error = +0.000000\n",
      "OK bhu index        1 (val = -0.060103), analytic = +0.039910, numerical = +0.039910, rel error = +0.000000\n",
      "OK bhu index        0 (val = -0.053471), analytic = -0.183041, numerical = -0.183041, rel error = +0.000000\n",
      "OK bhu index        2 (val = +0.044756), analytic = +0.087753, numerical = +0.087753, rel error = +0.000000\n",
      "('checking gradient on parameter', 'Whu', 'of shape ...', '(4, 30)')\n",
      "OK Whu index       15 (val = +0.144196), analytic = +0.079693, numerical = +0.079693, rel error = +0.000000\n",
      "OK Whu index       63 (val = +0.238369), analytic = +0.013001, numerical = +0.013001, rel error = +0.000000\n",
      "OK Whu index       68 (val = -0.122596), analytic = +0.031838, numerical = +0.031838, rel error = +0.000000\n",
      "OK Whu index       69 (val = -0.193468), analytic = -0.034195, numerical = -0.034195, rel error = +0.000000\n",
      "OK Whu index       85 (val = +0.036259), analytic = +0.004795, numerical = +0.004795, rel error = +0.000000\n",
      "OK Whu index        7 (val = +0.068083), analytic = -0.004494, numerical = -0.004494, rel error = +0.000000\n",
      "OK Whu index      102 (val = -0.237443), analytic = +0.001143, numerical = +0.001143, rel error = +0.000000\n",
      "OK Whu index       74 (val = +0.019882), analytic = +0.027567, numerical = +0.027567, rel error = +0.000000\n",
      "OK Whu index       20 (val = -0.185972), analytic = +0.023529, numerical = +0.023529, rel error = +0.000000\n",
      "OK Whu index        6 (val = +0.030900), analytic = -0.073365, numerical = -0.073365, rel error = +0.000000\n",
      "('checking gradient on parameter', 'Whp', 'of shape ...', '(4, 30)')\n",
      "OK Whp index       96 (val = -0.340767), analytic = +0.000201, numerical = +0.000201, rel error = +0.000000\n",
      "OK Whp index       48 (val = +0.160289), analytic = +0.000048, numerical = +0.000048, rel error = +0.000000\n",
      "OK Whp index       43 (val = +0.248092), analytic = +0.000043, numerical = +0.000043, rel error = +0.000000\n",
      "OK Whp index       63 (val = -0.372267), analytic = -0.000162, numerical = -0.000162, rel error = +0.000000\n",
      "OK Whp index       91 (val = +0.844326), analytic = -0.000164, numerical = -0.000164, rel error = +0.000000\n",
      "OK Whp index        8 (val = -0.881996), analytic = -0.000246, numerical = -0.000246, rel error = +0.000000\n",
      "OK Whp index      115 (val = -0.065271), analytic = +0.000084, numerical = +0.000084, rel error = +0.000000\n",
      "OK Whp index       69 (val = -0.182360), analytic = +0.000188, numerical = +0.000188, rel error = +0.000000\n",
      "OK Whp index       66 (val = +0.603821), analytic = -0.000116, numerical = -0.000116, rel error = +0.000000\n",
      "OK Whp index       99 (val = +0.472409), analytic = -0.000210, numerical = -0.000210, rel error = +0.000000\n",
      "('checking gradient on parameter', 'Whs', 'of shape ...', '(4, 30)')\n",
      "OK Whs index        4 (val = -0.345800), analytic = -0.000286, numerical = -0.000286, rel error = +0.000000\n",
      "OK Whs index      114 (val = -0.284939), analytic = +0.000229, numerical = +0.000229, rel error = +0.000000\n",
      "OK Whs index       20 (val = +0.211603), analytic = +0.000129, numerical = +0.000129, rel error = +0.000000\n",
      "OK Whs index      102 (val = +0.168207), analytic = -0.000208, numerical = -0.000208, rel error = +0.000000\n",
      "OK Whs index       33 (val = -0.345511), analytic = +0.000014, numerical = +0.000014, rel error = +0.000000\n",
      "OK Whs index       14 (val = -0.590798), analytic = -0.000099, numerical = -0.000099, rel error = +0.000000\n",
      "OK Whs index       40 (val = +0.277479), analytic = -0.000020, numerical = -0.000020, rel error = +0.000000\n",
      "OK Whs index       53 (val = -0.269182), analytic = +0.000017, numerical = +0.000017, rel error = +0.000000\n",
      "OK Whs index       59 (val = -0.227226), analytic = +0.000026, numerical = +0.000026, rel error = +0.000000\n",
      "OK Whs index       61 (val = -0.054825), analytic = -0.000549, numerical = -0.000549, rel error = +0.000000\n",
      "('checking gradient on parameter', 'bhp', 'of shape ...', '(4, 1)')\n",
      "OK bhp index        2 (val = +0.771351), analytic = -0.000341, numerical = -0.000341, rel error = +0.000000\n",
      "OK bhp index        2 (val = +0.771351), analytic = -0.000341, numerical = -0.000341, rel error = +0.000000\n",
      "OK bhp index        0 (val = -0.456464), analytic = -0.000370, numerical = -0.000370, rel error = +0.000000\n",
      "OK bhp index        0 (val = -0.456464), analytic = -0.000370, numerical = -0.000370, rel error = +0.000000\n",
      "OK bhp index        1 (val = -0.079733), analytic = +0.000211, numerical = +0.000211, rel error = +0.000000\n",
      "OK bhp index        0 (val = -0.456464), analytic = -0.000370, numerical = -0.000370, rel error = +0.000000\n",
      "OK bhp index        2 (val = +0.771351), analytic = -0.000341, numerical = -0.000341, rel error = +0.000000\n",
      "OK bhp index        3 (val = -0.374979), analytic = +0.000500, numerical = +0.000500, rel error = +0.000000\n",
      "OK bhp index        2 (val = +0.771351), analytic = -0.000341, numerical = -0.000341, rel error = +0.000000\n",
      "OK bhp index        2 (val = +0.771351), analytic = -0.000341, numerical = -0.000341, rel error = +0.000000\n",
      "('checking gradient on parameter', 'bhs', 'of shape ...', '(4, 1)')\n",
      "OK bhs index        0 (val = -0.087106), analytic = -0.000418, numerical = -0.000418, rel error = +0.000000\n",
      "OK bhs index        0 (val = -0.087106), analytic = -0.000418, numerical = -0.000418, rel error = +0.000000\n",
      "OK bhs index        3 (val = -0.254398), analytic = +0.000641, numerical = +0.000641, rel error = +0.000000\n",
      "OK bhs index        2 (val = -0.413771), analytic = -0.000482, numerical = -0.000482, rel error = +0.000000\n",
      "OK bhs index        3 (val = -0.254398), analytic = +0.000641, numerical = +0.000641, rel error = +0.000000\n",
      "OK bhs index        2 (val = -0.413771), analytic = -0.000482, numerical = -0.000482, rel error = +0.000000\n",
      "OK bhs index        3 (val = -0.254398), analytic = +0.000641, numerical = +0.000641, rel error = +0.000000\n",
      "OK bhs index        1 (val = -0.268195), analytic = +0.000104, numerical = +0.000104, rel error = +0.000000\n",
      "OK bhs index        2 (val = -0.413771), analytic = -0.000482, numerical = -0.000482, rel error = +0.000000\n",
      "OK bhs index        3 (val = -0.254398), analytic = +0.000641, numerical = +0.000641, rel error = +0.000000\n",
      "('checking gradient on parameter', 'Wxh', 'of shape ...', '(30, 1)')\n",
      "OK Wxh index       15 (val = -0.126270), analytic = -0.027150, numerical = -0.027150, rel error = +0.000000\n",
      "OK Wxh index       19 (val = +0.594067), analytic = +0.031541, numerical = +0.031541, rel error = +0.000000\n",
      "OK Wxh index       18 (val = +0.297458), analytic = +0.013172, numerical = +0.013172, rel error = +0.000000\n",
      "OK Wxh index        6 (val = -0.048462), analytic = -0.001130, numerical = -0.001130, rel error = +0.000000\n",
      "OK Wxh index       17 (val = +0.110532), analytic = +0.005035, numerical = +0.005035, rel error = +0.000000\n",
      "OK Wxh index       28 (val = -0.531330), analytic = +0.032010, numerical = +0.032010, rel error = +0.000000\n",
      "OK Wxh index       11 (val = +0.003313), analytic = +0.028417, numerical = +0.028417, rel error = +0.000000\n",
      "OK Wxh index       19 (val = +0.594067), analytic = +0.031541, numerical = +0.031541, rel error = +0.000000\n",
      "OK Wxh index       21 (val = -0.325420), analytic = -0.002796, numerical = -0.002796, rel error = +0.000000\n",
      "OK Wxh index       10 (val = -0.202293), analytic = +0.010820, numerical = +0.010820, rel error = +0.000000\n"
     ]
    }
   ],
   "source": [
    "def wrapCost(batch, model):\n",
    "    loss, grad, stats = mdn_loss(batch[0], batch[1], model)\n",
    "    cg = {}\n",
    "    cg['grad'] = grad\n",
    "    cg['cost'] = {}\n",
    "    cg['cost']['total_cost'] = loss\n",
    "    return cg\n",
    "\n",
    "def gradCheck(batch, model, cost_function, **kwargs):\n",
    "    num_checks = kwargs.get('num_checks', 10)\n",
    "    delta = kwargs.get('delta', 1e-5)\n",
    "    rel_error_thr_warning = kwargs.get('rel_error_thr_warning', 1e-2)\n",
    "    rel_error_thr_error = kwargs.get('rel_error_thr_error', 1)\n",
    "\n",
    "    cg = cost_function(batch, model)\n",
    "\n",
    "    print ('running gradient check...')\n",
    "    for p in model.keys():\n",
    "      print('checking gradient on parameter',p,'of shape ...', str(model[p].shape))\n",
    "      mat = model[p]\n",
    "\n",
    "      s0 = cg['grad'][p].shape\n",
    "      s1 = mat.shape\n",
    "      #assert s0 == s1, 'Error dims dont match on %s: grad: %s vs. param: %s.' % (p, `s0`, `s1`)\n",
    "\n",
    "      for i in range(num_checks):\n",
    "        #ri = randi(mat.size)\n",
    "        ri = np.random.randint(0, mat.size)\n",
    "\n",
    "        # evluate cost at [x + delta] and [x - delta]\n",
    "        old_val = mat.flat[ri]\n",
    "        mat.flat[ri] = old_val + delta\n",
    "        cg0 = cost_function(batch, model)\n",
    "        mat.flat[ri] = old_val - delta\n",
    "        cg1 = cost_function(batch, model)\n",
    "        mat.flat[ri] = old_val # reset old value for this parameter\n",
    "\n",
    "        # fetch both numerical and analytic gradient\n",
    "        grad_analytic = cg['grad'][p].flat[ri]\n",
    "        grad_numerical = (cg0['cost']['total_cost'] - cg1['cost']['total_cost']) / ( 2 * delta )\n",
    "\n",
    "        # compare them\n",
    "        if grad_numerical == 0 and grad_analytic == 0:\n",
    "          rel_error = 0 # both are zero, OK.\n",
    "          status = 'OK'\n",
    "        elif abs(grad_numerical) < 1e-7 and abs(grad_analytic) < 1e-7:\n",
    "          rel_error = 0 # not enough precision to check this\n",
    "          status = 'VAL SMALL WARNING'\n",
    "        else:\n",
    "          rel_error = abs(grad_analytic - grad_numerical) / abs(grad_numerical + grad_analytic)\n",
    "          status = 'OK'\n",
    "          if rel_error > rel_error_thr_warning: status = 'WARNING'\n",
    "          if rel_error > rel_error_thr_error: status = '!!!!! NOTOK'\n",
    "\n",
    "        #print stats\n",
    "        print '%s %s index %8d (val = %+8f), analytic = %+8f, numerical = %+8f, rel error = %+8f' \\\n",
    "              % (status, p, ri, old_val, grad_analytic, grad_numerical, rel_error)\n",
    "            \n",
    "gradCheck((xbatch, ybatch), m, wrapCost)"
   ]
  },
  {
   "cell_type": "code",
   "execution_count": null,
   "metadata": {
    "collapsed": true
   },
   "outputs": [],
   "source": []
  },
  {
   "cell_type": "code",
   "execution_count": null,
   "metadata": {
    "collapsed": true
   },
   "outputs": [],
   "source": []
  }
 ],
 "metadata": {
  "kernelspec": {
   "display_name": "Python 2",
   "language": "python",
   "name": "python2"
  },
  "language_info": {
   "codemirror_mode": {
    "name": "ipython",
    "version": 2
   },
   "file_extension": ".py",
   "mimetype": "text/x-python",
   "name": "python",
   "nbconvert_exporter": "python",
   "pygments_lexer": "ipython2",
   "version": "2.7.12"
  }
 },
 "nbformat": 4,
 "nbformat_minor": 0
}
