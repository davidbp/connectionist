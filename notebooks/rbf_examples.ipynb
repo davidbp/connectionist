{
 "cells": [
  {
   "cell_type": "markdown",
   "metadata": {},
   "source": [
    "# Introduction to RBF networks\n",
    "\n",
    "The objective of this notebook is to introduce the reader to radial basis function feedforward neural networks."
   ]
  },
  {
   "cell_type": "code",
   "execution_count": 1,
   "metadata": {
    "collapsed": false
   },
   "outputs": [
    {
     "data": {
      "text/plain": [
       "'0.19.dev0'"
      ]
     },
     "execution_count": 1,
     "metadata": {},
     "output_type": "execute_result"
    }
   ],
   "source": [
    "import sklearn\n",
    "sklearn.__version__"
   ]
  },
  {
   "cell_type": "code",
   "execution_count": 2,
   "metadata": {
    "collapsed": false
   },
   "outputs": [],
   "source": [
    "%load_ext autoreload\n",
    "%autoreload 2\n",
    "%matplotlib inline"
   ]
  },
  {
   "cell_type": "code",
   "execution_count": 3,
   "metadata": {
    "collapsed": false
   },
   "outputs": [],
   "source": [
    "import os\n",
    "import sys\n",
    "import inspect\n",
    "\n",
    "currentdir = os.path.dirname(os.path.abspath(inspect.getfile(inspect.currentframe())))\n",
    "parent =  os.path.dirname(currentdir) + '/RBFClassifier'\n",
    "sys.path.insert(0,parent)\n",
    "\n",
    "import numpy as np"
   ]
  },
  {
   "cell_type": "code",
   "execution_count": 4,
   "metadata": {
    "collapsed": true
   },
   "outputs": [],
   "source": [
    "from sklearn import datasets"
   ]
  },
  {
   "cell_type": "code",
   "execution_count": 5,
   "metadata": {
    "collapsed": false
   },
   "outputs": [],
   "source": [
    "digits = datasets.load_digits()\n",
    "X = digits.data\n",
    "y = digits.target"
   ]
  },
  {
   "cell_type": "markdown",
   "metadata": {},
   "source": [
    "### Parameters of the RBF network"
   ]
  },
  {
   "cell_type": "code",
   "execution_count": 6,
   "metadata": {
    "collapsed": false
   },
   "outputs": [],
   "source": [
    "import rbf_classifier_classic\n",
    "from rbf_classifier_classic import RBFClassifier as RBFClassifierClassic"
   ]
  },
  {
   "cell_type": "code",
   "execution_count": 7,
   "metadata": {
    "collapsed": false
   },
   "outputs": [],
   "source": [
    "rbf_classic = RBFClassifierClassic(n_hidden_basis=20)"
   ]
  },
  {
   "cell_type": "code",
   "execution_count": 8,
   "metadata": {
    "collapsed": false
   },
   "outputs": [
    {
     "data": {
      "text/plain": [
       "{'KMeans_flag': True,\n",
       " 'n_hidden_basis': 20,\n",
       " 'random_state': 1234,\n",
       " 'stratified_basis_selection': True}"
      ]
     },
     "execution_count": 8,
     "metadata": {},
     "output_type": "execute_result"
    }
   ],
   "source": [
    "rbf_classic.get_params()"
   ]
  },
  {
   "cell_type": "markdown",
   "metadata": {},
   "source": [
    "## Train RBF network"
   ]
  },
  {
   "cell_type": "code",
   "execution_count": 9,
   "metadata": {
    "collapsed": false
   },
   "outputs": [
    {
     "data": {
      "text/plain": [
       "((1797, 64), (1797,))"
      ]
     },
     "execution_count": 9,
     "metadata": {},
     "output_type": "execute_result"
    }
   ],
   "source": [
    "X.shape, y.shape"
   ]
  },
  {
   "cell_type": "code",
   "execution_count": 10,
   "metadata": {
    "collapsed": false
   },
   "outputs": [
    {
     "data": {
      "text/plain": [
       "RBFClassifier(KMeans_flag=True, n_hidden_basis=20, random_state=1234,\n",
       "       stratified_basis_selection=True)"
      ]
     },
     "execution_count": 10,
     "metadata": {},
     "output_type": "execute_result"
    }
   ],
   "source": [
    "rbf_classic.fit(X, y)"
   ]
  },
  {
   "cell_type": "markdown",
   "metadata": {},
   "source": [
    "### Making predictions"
   ]
  },
  {
   "cell_type": "code",
   "execution_count": 11,
   "metadata": {
    "collapsed": false
   },
   "outputs": [
    {
     "data": {
      "text/plain": [
       "(20, 10)"
      ]
     },
     "execution_count": 11,
     "metadata": {},
     "output_type": "execute_result"
    }
   ],
   "source": [
    "rbf_classic.forward_propagation(X[0:20]).shape"
   ]
  },
  {
   "cell_type": "code",
   "execution_count": 12,
   "metadata": {
    "collapsed": false
   },
   "outputs": [
    {
     "data": {
      "text/plain": [
       "array([0, 1, 1, 3, 4])"
      ]
     },
     "execution_count": 12,
     "metadata": {},
     "output_type": "execute_result"
    }
   ],
   "source": [
    "rbf_classic.predict(X[0:5])"
   ]
  },
  {
   "cell_type": "code",
   "execution_count": 13,
   "metadata": {
    "collapsed": false
   },
   "outputs": [
    {
     "data": {
      "text/plain": [
       "array([[  4.42883191e-02,   1.70678140e-16,  -7.19906504e-15,\n",
       "         -2.44531610e-17,   5.08643382e-17,  -5.14807425e-16,\n",
       "         -6.38062659e-18,  -7.10508186e-17,  -3.99527099e-17,\n",
       "         -1.72322259e-13],\n",
       "       [ -5.07590911e-25,   1.19133978e-10,  -5.85741548e-25,\n",
       "         -1.13565820e-23,   6.12177380e-27,  -4.19126122e-24,\n",
       "         -1.60854356e-25,  -2.71797290e-24,  -8.51515975e-19,\n",
       "         -1.22041590e-23]])"
      ]
     },
     "execution_count": 13,
     "metadata": {},
     "output_type": "execute_result"
    }
   ],
   "source": [
    "rbf_classic.forward_propagation(X[0:2])"
   ]
  },
  {
   "cell_type": "code",
   "execution_count": 14,
   "metadata": {
    "collapsed": false
   },
   "outputs": [
    {
     "data": {
      "text/plain": [
       "array([[  1.00000000e+00,   3.85379583e-15,  -1.62549972e-13,\n",
       "         -5.52135676e-16,   1.14848202e-15,  -1.16240001e-14,\n",
       "         -1.44070191e-16,  -1.60427896e-15,  -9.02104904e-16,\n",
       "         -3.89091893e-12],\n",
       "       [ -4.26067291e-15,   1.00000001e+00,  -4.91666239e-15,\n",
       "         -9.53261381e-14,   5.13856241e-17,  -3.51810735e-14,\n",
       "         -1.35019714e-15,  -2.28144225e-14,  -7.14754927e-09,\n",
       "         -1.02440624e-13]])"
      ]
     },
     "execution_count": 14,
     "metadata": {},
     "output_type": "execute_result"
    }
   ],
   "source": [
    "rbf_classic.predict_proba(X[0:2])"
   ]
  },
  {
   "cell_type": "code",
   "execution_count": 15,
   "metadata": {
    "collapsed": false
   },
   "outputs": [
    {
     "data": {
      "text/plain": [
       "0.9003895381190874"
      ]
     },
     "execution_count": 15,
     "metadata": {},
     "output_type": "execute_result"
    }
   ],
   "source": [
    "rbf_classic.score(X,y)"
   ]
  },
  {
   "cell_type": "markdown",
   "metadata": {},
   "source": [
    "### Gridsearch n_hidden_basis"
   ]
  },
  {
   "cell_type": "code",
   "execution_count": 16,
   "metadata": {
    "collapsed": true
   },
   "outputs": [],
   "source": [
    "from sklearn.model_selection import GridSearchCV"
   ]
  },
  {
   "cell_type": "code",
   "execution_count": 21,
   "metadata": {
    "collapsed": true
   },
   "outputs": [],
   "source": [
    "param_grid = {\"n_hidden_basis\": list(range(10,100,2))}"
   ]
  },
  {
   "cell_type": "code",
   "execution_count": 22,
   "metadata": {
    "collapsed": false
   },
   "outputs": [
    {
     "data": {
      "text/plain": [
       "{'KMeans_flag': True,\n",
       " 'n_hidden_basis': 50,\n",
       " 'random_state': 1234,\n",
       " 'stratified_basis_selection': True}"
      ]
     },
     "execution_count": 22,
     "metadata": {},
     "output_type": "execute_result"
    }
   ],
   "source": [
    "rbf_classic.get_params()"
   ]
  },
  {
   "cell_type": "code",
   "execution_count": 23,
   "metadata": {
    "collapsed": true
   },
   "outputs": [],
   "source": [
    "rbf_classic = RBFClassifierClassic()"
   ]
  },
  {
   "cell_type": "code",
   "execution_count": 24,
   "metadata": {
    "collapsed": false
   },
   "outputs": [],
   "source": [
    "grid_rbf_classic = GridSearchCV(estimator=rbf_classic, \n",
    "                               param_grid=param_grid,\n",
    "                               n_jobs=-1)"
   ]
  },
  {
   "cell_type": "code",
   "execution_count": 25,
   "metadata": {
    "collapsed": false
   },
   "outputs": [
    {
     "data": {
      "text/plain": [
       "GridSearchCV(cv=None, error_score='raise',\n",
       "       estimator=RBFClassifier(KMeans_flag=True, n_hidden_basis=50, random_state=1234,\n",
       "       stratified_basis_selection=True),\n",
       "       fit_params={}, iid=True, n_jobs=1,\n",
       "       param_grid={'n_hidden_basis': [10, 12, 14, 16, 18, 20, 22, 24, 26, 28, 30, 32, 34, 36, 38, 40, 42, 44, 46, 48, 50, 52, 54, 56, 58, 60, 62, 64, 66, 68, 70, 72, 74, 76, 78, 80, 82, 84, 86, 88, 90, 92, 94, 96, 98]},\n",
       "       pre_dispatch='2*n_jobs', refit=True, return_train_score=True,\n",
       "       scoring=None, verbose=0)"
      ]
     },
     "execution_count": 25,
     "metadata": {},
     "output_type": "execute_result"
    }
   ],
   "source": [
    "grid_rbf_classic.fit(X,y)"
   ]
  },
  {
   "cell_type": "code",
   "execution_count": 44,
   "metadata": {
    "collapsed": false
   },
   "outputs": [
    {
     "data": {
      "text/plain": [
       "dict_keys(['mean_score_time', 'split1_test_score', 'split2_train_score', 'std_score_time', 'mean_test_score', 'split1_train_score', 'std_fit_time', 'split0_test_score', 'std_test_score', 'rank_test_score', 'param_n_hidden_basis', 'split0_train_score', 'mean_train_score', 'mean_fit_time', 'std_train_score', 'split2_test_score', 'params'])"
      ]
     },
     "execution_count": 44,
     "metadata": {},
     "output_type": "execute_result"
    }
   ],
   "source": [
    "grid_rbf_classic.cv_results_.keys()"
   ]
  },
  {
   "cell_type": "code",
   "execution_count": null,
   "metadata": {
    "collapsed": true
   },
   "outputs": [],
   "source": []
  },
  {
   "cell_type": "markdown",
   "metadata": {
    "collapsed": true
   },
   "source": [
    "\n",
    "## Supervised learning for all weights"
   ]
  },
  {
   "cell_type": "markdown",
   "metadata": {},
   "source": [
    "\n",
    "Let us consider a mapping from vectors in a $d$ dimensional space to an $l$ dimensional space.\n",
    "$$\n",
    "F : \\mathbb{R}^d \\longrightarrow \\mathbb{R}^l\n",
    "$$\n",
    "\n",
    "This function will be computed as a composition of functions. We will consider $M$ radial basis functions \n",
    "$$\n",
    "F : \\mathbb{R}^d  \\longrightarrow  \\mathbb{R}^M  \\longrightarrow \\mathbb{R}^l\n",
    "$$\n",
    "\n",
    "We will consider the $i$^th output component of our model to be defined as\n",
    "\n",
    "$$\n",
    "F_i (\\textbf{x}) = \\sum_{\\mu =1}^M w_{ji} \\cdot h( \\| \\textbf{x} -\\textbf{c}_j  \\|) + b_{i} \\,\\,\\,\\,\\,\\,\\,\\, i \\in \\{ 1, \\dots, l\\}\n",
    "$$\n",
    "\n",
    "#### Computing the gradient of the loss \n",
    "\n",
    "\n",
    "\n",
    "\n",
    "#### Updates of the parameters\n",
    "Update of the weights and centroids of an RBF network\n",
    "\n",
    "$$\n",
    "\\Delta w_{jp} = \\eta \\sum_{\\mu =1}^M h_j (\\textbf{x}^\\mu) (y_k^\\mu - F_k^\\mu (\\textbf{x}^\\mu) )\n",
    "$$\n"
   ]
  },
  {
   "cell_type": "code",
   "execution_count": null,
   "metadata": {
    "collapsed": true
   },
   "outputs": [],
   "source": []
  },
  {
   "cell_type": "code",
   "execution_count": null,
   "metadata": {
    "collapsed": true
   },
   "outputs": [],
   "source": []
  },
  {
   "cell_type": "code",
   "execution_count": null,
   "metadata": {
    "collapsed": true
   },
   "outputs": [],
   "source": []
  }
 ],
 "metadata": {
  "kernelspec": {
   "display_name": "Python 3",
   "language": "python",
   "name": "python3"
  },
  "language_info": {
   "codemirror_mode": {
    "name": "ipython",
    "version": 3
   },
   "file_extension": ".py",
   "mimetype": "text/x-python",
   "name": "python",
   "nbconvert_exporter": "python",
   "pygments_lexer": "ipython3",
   "version": "3.5.2"
  }
 },
 "nbformat": 4,
 "nbformat_minor": 0
}
