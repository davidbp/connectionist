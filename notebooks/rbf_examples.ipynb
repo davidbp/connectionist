{
 "cells": [
  {
   "cell_type": "markdown",
   "metadata": {},
   "source": [
    "# Introduction to RBF networks\n",
    "\n",
    "The objective of this notebook is to introduce the reader to radial basis function feedforward neural networks."
   ]
  },
  {
   "cell_type": "code",
   "execution_count": 1,
   "metadata": {
    "collapsed": false
   },
   "outputs": [
    {
     "data": {
      "text/plain": [
       "'0.19.dev0'"
      ]
     },
     "execution_count": 1,
     "metadata": {},
     "output_type": "execute_result"
    }
   ],
   "source": [
    "import sklearn\n",
    "sklearn.__version__"
   ]
  },
  {
   "cell_type": "code",
   "execution_count": 2,
   "metadata": {
    "collapsed": false
   },
   "outputs": [],
   "source": [
    "%load_ext autoreload\n",
    "%autoreload 2\n",
    "%matplotlib inline"
   ]
  },
  {
   "cell_type": "code",
   "execution_count": 38,
   "metadata": {
    "collapsed": false
   },
   "outputs": [],
   "source": [
    "import os\n",
    "import sys\n",
    "import inspect\n",
    "\n",
    "currentdir = os.path.dirname(os.path.abspath(inspect.getfile(inspect.currentframe())))\n",
    "parent =  os.path.dirname(currentdir) + '/RBFClassifier'\n",
    "sys.path.insert(0,parent)\n",
    "\n",
    "import numpy as np"
   ]
  },
  {
   "cell_type": "code",
   "execution_count": 39,
   "metadata": {
    "collapsed": true
   },
   "outputs": [],
   "source": [
    "from sklearn import datasets"
   ]
  },
  {
   "cell_type": "code",
   "execution_count": 40,
   "metadata": {
    "collapsed": false
   },
   "outputs": [],
   "source": [
    "digits = datasets.load_digits()\n",
    "X = digits.data\n",
    "y = digits.target"
   ]
  },
  {
   "cell_type": "markdown",
   "metadata": {},
   "source": [
    "### Parameters of the RBF network"
   ]
  },
  {
   "cell_type": "code",
   "execution_count": 53,
   "metadata": {
    "collapsed": false
   },
   "outputs": [],
   "source": [
    "import rbf_classifier_classic\n",
    "from rbf_classifier_classic import RBFClassifier as RBFClassifierClassic"
   ]
  },
  {
   "cell_type": "code",
   "execution_count": 54,
   "metadata": {
    "collapsed": false
   },
   "outputs": [],
   "source": [
    "rbf_classic = RBFClassifierClassic(n_hidden_basis=20)"
   ]
  },
  {
   "cell_type": "code",
   "execution_count": 55,
   "metadata": {
    "collapsed": false
   },
   "outputs": [
    {
     "data": {
      "text/plain": [
       "{'KMeans_flag': True,\n",
       " 'n_hidden_basis': 20,\n",
       " 'random_state': 1234,\n",
       " 'stratified_basis_selection': True}"
      ]
     },
     "execution_count": 55,
     "metadata": {},
     "output_type": "execute_result"
    }
   ],
   "source": [
    "rbf_classic.get_params()"
   ]
  },
  {
   "cell_type": "markdown",
   "metadata": {},
   "source": [
    "## Train RBF network"
   ]
  },
  {
   "cell_type": "code",
   "execution_count": 56,
   "metadata": {
    "collapsed": false
   },
   "outputs": [
    {
     "data": {
      "text/plain": [
       "((1797, 64), (1797,))"
      ]
     },
     "execution_count": 56,
     "metadata": {},
     "output_type": "execute_result"
    }
   ],
   "source": [
    "X.shape, y.shape"
   ]
  },
  {
   "cell_type": "code",
   "execution_count": 58,
   "metadata": {
    "collapsed": false
   },
   "outputs": [
    {
     "data": {
      "text/plain": [
       "RBFClassifier(KMeans_flag=True, n_hidden_basis=20, random_state=1234,\n",
       "       stratified_basis_selection=True)"
      ]
     },
     "execution_count": 58,
     "metadata": {},
     "output_type": "execute_result"
    }
   ],
   "source": [
    "rbf_classic.fit(X, y)"
   ]
  },
  {
   "cell_type": "markdown",
   "metadata": {},
   "source": [
    "### Making predictions"
   ]
  },
  {
   "cell_type": "code",
   "execution_count": 59,
   "metadata": {
    "collapsed": false
   },
   "outputs": [
    {
     "data": {
      "text/plain": [
       "(20, 10)"
      ]
     },
     "execution_count": 59,
     "metadata": {},
     "output_type": "execute_result"
    }
   ],
   "source": [
    "rbf_classic.forward_propagation(X[0:20]).shape"
   ]
  },
  {
   "cell_type": "code",
   "execution_count": 60,
   "metadata": {
    "collapsed": false
   },
   "outputs": [
    {
     "data": {
      "text/plain": [
       "array([0, 1, 1, 3, 4])"
      ]
     },
     "execution_count": 60,
     "metadata": {},
     "output_type": "execute_result"
    }
   ],
   "source": [
    "rbf_classic.predict(X[0:5])"
   ]
  },
  {
   "cell_type": "code",
   "execution_count": 61,
   "metadata": {
    "collapsed": false
   },
   "outputs": [
    {
     "data": {
      "text/plain": [
       "array([[  4.42883191e-02,   1.70678140e-16,  -7.19906504e-15,\n",
       "         -2.44531610e-17,   5.08643382e-17,  -5.14807425e-16,\n",
       "         -6.38062659e-18,  -7.10508186e-17,  -3.99527099e-17,\n",
       "         -1.72322259e-13],\n",
       "       [ -5.07590911e-25,   1.19133978e-10,  -5.85741548e-25,\n",
       "         -1.13565820e-23,   6.12177380e-27,  -4.19126122e-24,\n",
       "         -1.60854356e-25,  -2.71797290e-24,  -8.51515975e-19,\n",
       "         -1.22041590e-23]])"
      ]
     },
     "execution_count": 61,
     "metadata": {},
     "output_type": "execute_result"
    }
   ],
   "source": [
    "rbf_classic.forward_propagation(X[0:2])"
   ]
  },
  {
   "cell_type": "code",
   "execution_count": 62,
   "metadata": {
    "collapsed": false
   },
   "outputs": [
    {
     "data": {
      "text/plain": [
       "array([[  1.00000000e+00,   3.85379583e-15,  -1.62549972e-13,\n",
       "         -5.52135676e-16,   1.14848202e-15,  -1.16240001e-14,\n",
       "         -1.44070191e-16,  -1.60427896e-15,  -9.02104904e-16,\n",
       "         -3.89091893e-12],\n",
       "       [ -4.26067291e-15,   1.00000001e+00,  -4.91666239e-15,\n",
       "         -9.53261381e-14,   5.13856241e-17,  -3.51810735e-14,\n",
       "         -1.35019714e-15,  -2.28144225e-14,  -7.14754927e-09,\n",
       "         -1.02440624e-13]])"
      ]
     },
     "execution_count": 62,
     "metadata": {},
     "output_type": "execute_result"
    }
   ],
   "source": [
    "rbf_classic.predict_proba(X[0:2])"
   ]
  },
  {
   "cell_type": "code",
   "execution_count": 63,
   "metadata": {
    "collapsed": false
   },
   "outputs": [
    {
     "data": {
      "text/plain": [
       "0.9003895381190874"
      ]
     },
     "execution_count": 63,
     "metadata": {},
     "output_type": "execute_result"
    }
   ],
   "source": [
    "rbf_classic.score(X,y)"
   ]
  },
  {
   "cell_type": "markdown",
   "metadata": {},
   "source": [
    "### Gridsearch n_hidden_basis"
   ]
  },
  {
   "cell_type": "code",
   "execution_count": 64,
   "metadata": {
    "collapsed": true
   },
   "outputs": [],
   "source": [
    "from sklearn.model_selection import GridSearchCV"
   ]
  },
  {
   "cell_type": "code",
   "execution_count": 65,
   "metadata": {
    "collapsed": true
   },
   "outputs": [],
   "source": [
    "param_grid = {\"n_hidden_basis\": list(range(10,100,5))}"
   ]
  },
  {
   "cell_type": "code",
   "execution_count": 66,
   "metadata": {
    "collapsed": false
   },
   "outputs": [
    {
     "data": {
      "text/plain": [
       "{'KMeans_flag': True,\n",
       " 'n_hidden_basis': 20,\n",
       " 'random_state': 1234,\n",
       " 'stratified_basis_selection': True}"
      ]
     },
     "execution_count": 66,
     "metadata": {},
     "output_type": "execute_result"
    }
   ],
   "source": [
    "rbf_classic.get_params()"
   ]
  },
  {
   "cell_type": "code",
   "execution_count": 67,
   "metadata": {
    "collapsed": true
   },
   "outputs": [],
   "source": [
    "rbf_classic = RBFClassifierClassic()"
   ]
  },
  {
   "cell_type": "code",
   "execution_count": 68,
   "metadata": {
    "collapsed": false
   },
   "outputs": [],
   "source": [
    "grid_rbf_classic = GridSearchCV(estimator=rbf_classic, \n",
    "                               param_grid=param_grid,\n",
    "                               n_jobs=1)"
   ]
  },
  {
   "cell_type": "code",
   "execution_count": 71,
   "metadata": {
    "collapsed": false
   },
   "outputs": [
    {
     "data": {
      "text/plain": [
       "GridSearchCV(cv=None, error_score='raise',\n",
       "       estimator=RBFClassifier(KMeans_flag=True, n_hidden_basis=50, random_state=1234,\n",
       "       stratified_basis_selection=True),\n",
       "       fit_params={}, iid=True, n_jobs=1,\n",
       "       param_grid={'n_hidden_basis': [10, 15, 20, 25, 30, 35, 40, 45, 50, 55, 60, 65, 70, 75, 80, 85, 90, 95]},\n",
       "       pre_dispatch='2*n_jobs', refit=True, return_train_score=True,\n",
       "       scoring=None, verbose=0)"
      ]
     },
     "execution_count": 71,
     "metadata": {},
     "output_type": "execute_result"
    }
   ],
   "source": [
    "grid_rbf_classic.fit(X,y)"
   ]
  },
  {
   "cell_type": "code",
   "execution_count": 72,
   "metadata": {
    "collapsed": false
   },
   "outputs": [
    {
     "name": "stderr",
     "output_type": "stream",
     "text": [
      "/Users/david/anaconda/lib/python3.5/site-packages/sklearn/model_selection/_search.py:663: DeprecationWarning: The grid_scores_ attribute was deprecated in version 0.18 in favor of the more elaborate cv_results_ attribute. The grid_scores_ attribute will not be available from 0.20\n",
      "  DeprecationWarning)\n"
     ]
    },
    {
     "data": {
      "text/plain": [
       "[mean: 0.72343, std: 0.04335, params: {'n_hidden_basis': 10},\n",
       " mean: 0.85476, std: 0.00725, params: {'n_hidden_basis': 15},\n",
       " mean: 0.86867, std: 0.02572, params: {'n_hidden_basis': 20},\n",
       " mean: 0.86700, std: 0.03875, params: {'n_hidden_basis': 25},\n",
       " mean: 0.90373, std: 0.02282, params: {'n_hidden_basis': 30},\n",
       " mean: 0.90428, std: 0.01697, params: {'n_hidden_basis': 35},\n",
       " mean: 0.90206, std: 0.02171, params: {'n_hidden_basis': 40},\n",
       " mean: 0.84140, std: 0.06243, params: {'n_hidden_basis': 45},\n",
       " mean: 0.79967, std: 0.10452, params: {'n_hidden_basis': 50},\n",
       " mean: 0.83306, std: 0.02842, params: {'n_hidden_basis': 55},\n",
       " mean: 0.83695, std: 0.05699, params: {'n_hidden_basis': 60},\n",
       " mean: 0.80523, std: 0.05352, params: {'n_hidden_basis': 65},\n",
       " mean: 0.81747, std: 0.07289, params: {'n_hidden_basis': 70},\n",
       " mean: 0.74235, std: 0.03075, params: {'n_hidden_basis': 75},\n",
       " mean: 0.70729, std: 0.01347, params: {'n_hidden_basis': 80},\n",
       " mean: 0.74736, std: 0.03075, params: {'n_hidden_basis': 85},\n",
       " mean: 0.61992, std: 0.23927, params: {'n_hidden_basis': 90},\n",
       " mean: 0.56817, std: 0.15305, params: {'n_hidden_basis': 95}]"
      ]
     },
     "execution_count": 72,
     "metadata": {},
     "output_type": "execute_result"
    }
   ],
   "source": [
    "grid_rbf_classic.grid_scores_"
   ]
  },
  {
   "cell_type": "code",
   "execution_count": null,
   "metadata": {
    "collapsed": true
   },
   "outputs": [],
   "source": []
  }
 ],
 "metadata": {
  "kernelspec": {
   "display_name": "Python 3",
   "language": "python",
   "name": "python3"
  },
  "language_info": {
   "codemirror_mode": {
    "name": "ipython",
    "version": 3
   },
   "file_extension": ".py",
   "mimetype": "text/x-python",
   "name": "python",
   "nbconvert_exporter": "python",
   "pygments_lexer": "ipython3",
   "version": "3.5.2"
  }
 },
 "nbformat": 4,
 "nbformat_minor": 0
}
