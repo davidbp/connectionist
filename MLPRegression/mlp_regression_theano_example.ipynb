{
 "cells": [
  {
   "cell_type": "markdown",
   "metadata": {},
   "source": [
    "## Building a multilayer perceptron for regression in theano"
   ]
  },
  {
   "cell_type": "code",
   "execution_count": 129,
   "metadata": {
    "collapsed": false
   },
   "outputs": [
    {
     "name": "stdout",
     "output_type": "stream",
     "text": [
      "The autoreload extension is already loaded. To reload it, use:\n",
      "  %reload_ext autoreload\n"
     ]
    },
    {
     "name": "stderr",
     "output_type": "stream",
     "text": [
      "/Users/david/Documents/git_stuff/connectionist/MLPRegression/mlp_regression.py:103: SyntaxWarning: assertion is always true, perhaps remove parentheses?\n",
      "  assert(activation in implemented_activations, 'One of the activations was not allowed')\n"
     ]
    }
   ],
   "source": [
    "import theano\n",
    "import numpy as np\n",
    "import pandas as pd\n",
    "\n",
    "%matplotlib inline\n",
    "%load_ext autoreload\n",
    "%autoreload 2"
   ]
  },
  {
   "cell_type": "code",
   "execution_count": 130,
   "metadata": {
    "collapsed": false
   },
   "outputs": [],
   "source": [
    "import sklearn\n",
    "from sklearn import datasets\n",
    "from sklearn import model_selection\n",
    "cali_housing = sklearn.datasets.california_housing.fetch_california_housing()\n",
    "\n",
    "X = cali_housing.data\n",
    "y = cali_housing.target\n",
    "Xy = np.vstack((X.T,y)).T\n",
    "\n",
    "features_and_target = cali_housing.feature_names + [\"target\"]\n",
    "features_to_retrieve = cali_housing.feature_names\n",
    "target_feature = [\"target\"]\n",
    "Xy_df = pd.DataFrame(Xy, columns=features_and_target)"
   ]
  },
  {
   "cell_type": "code",
   "execution_count": 131,
   "metadata": {
    "collapsed": false
   },
   "outputs": [
    {
     "data": {
      "text/plain": [
       "(20640, 8)"
      ]
     },
     "execution_count": 131,
     "metadata": {},
     "output_type": "execute_result"
    }
   ],
   "source": [
    "cali_housing.data.shape"
   ]
  },
  {
   "cell_type": "code",
   "execution_count": 132,
   "metadata": {
    "collapsed": false
   },
   "outputs": [],
   "source": [
    "features = ['MedInc', 'HouseAge', 'AveRooms', 'AveBedrms', 'Population',\n",
    "            'AveOccup', 'Latitude', 'Longitude']\n",
    "\n",
    "target = ['target']"
   ]
  },
  {
   "cell_type": "code",
   "execution_count": 133,
   "metadata": {
    "collapsed": true
   },
   "outputs": [],
   "source": [
    "X_train = Xy_df[features].as_matrix()\n",
    "y_train = Xy_df[target].as_matrix()\n",
    "X_train = sklearn.preprocessing.minmax_scale(X_train)\n",
    "\n",
    "X_train, X_test, y_train, y_test =sklearn.model_selection.train_test_split(X_train, y_train)"
   ]
  },
  {
   "cell_type": "markdown",
   "metadata": {},
   "source": [
    "## Overview mlp"
   ]
  },
  {
   "cell_type": "code",
   "execution_count": 134,
   "metadata": {
    "collapsed": false
   },
   "outputs": [],
   "source": [
    "#Dropout\n",
    "import matplotlib\n",
    "from matplotlib import pyplot as plt\n",
    "import mlp_regression"
   ]
  },
  {
   "cell_type": "code",
   "execution_count": 93,
   "metadata": {
    "collapsed": false
   },
   "outputs": [],
   "source": [
    "n_features = len(features)\n",
    "dims = [n_features, 200, 100, 1]\n",
    "activations = [\"relu\", \"relu\", \"identity\"]\n",
    "\n",
    "model = mlp_regression.MLPRegression(dims, \n",
    "                                     activations=activations , \n",
    "                                     learning_rate=0.0001,\n",
    "                                     dropout_prob=0.3)\n"
   ]
  },
  {
   "cell_type": "code",
   "execution_count": 135,
   "metadata": {
    "collapsed": false
   },
   "outputs": [
    {
     "data": {
      "text/plain": [
       "array([[ 43.66491124],\n",
       "       [ 90.49801267],\n",
       "       [ 49.14091311],\n",
       "       [ 50.4483813 ],\n",
       "       [ 50.18106192]])"
      ]
     },
     "execution_count": 135,
     "metadata": {},
     "output_type": "execute_result"
    }
   ],
   "source": [
    "model.predict(Xy_df[features][0:5])"
   ]
  },
  {
   "cell_type": "markdown",
   "metadata": {},
   "source": [
    "## Testing MLP regression"
   ]
  },
  {
   "cell_type": "code",
   "execution_count": 120,
   "metadata": {
    "collapsed": false
   },
   "outputs": [],
   "source": [
    "#Dropout\n",
    "import matplotlib\n",
    "from matplotlib import pyplot as plt\n",
    "import mlp_regression\n",
    "n_epochs = 500\n",
    "batch_size = 200\n",
    "\n"
   ]
  },
  {
   "cell_type": "code",
   "execution_count": 126,
   "metadata": {
    "collapsed": false,
    "scrolled": false
   },
   "outputs": [],
   "source": [
    "n_features = len(features)\n",
    "dims = [n_features, 400, 400, 1]\n",
    "activations = [\"relu\", \"relu\", \"identity\"]\n",
    "\n",
    "model = mlp_regression.MLPRegression(dims,\n",
    "                                     activations=activations, \n",
    "                                     learning_rate=0.005,\n",
    "                                     dropout_prob=0.2)\n",
    "\n",
    "n_samples = X_train.shape[0]\n",
    "n_batches = n_samples // batch_size \n",
    "\n",
    "import sys\n",
    "cost_evolution = []\n",
    "cost_test_evolution = []\n",
    "\n",
    "for i in range(n_epochs):\n",
    "    cost_minibatch = 0\n",
    "    n_batches = 0\n",
    "    for ind in range(0, n_samples, batch_size):\n",
    "        n_batches +=1\n",
    "        cost_minibatch += model.partial_fit(X_train[ind:ind+batch_size], \n",
    "                                               y_train[ind:ind+batch_size])\n",
    "    \n",
    "    cost_test_evolution.append(model.compute_cost_(X_test, y_test))\n",
    "    cost_evolution.append(cost_minibatch/n_batches )\n",
    "    #print (cost_minibatch/n_batches)"
   ]
  },
  {
   "cell_type": "code",
   "execution_count": 128,
   "metadata": {
    "collapsed": false
   },
   "outputs": [
    {
     "data": {
      "text/plain": [
       "[<matplotlib.lines.Line2D at 0x11c1d2a58>]"
      ]
     },
     "execution_count": 128,
     "metadata": {},
     "output_type": "execute_result"
    },
    {
     "data": {
      "image/png": "[encoded data removed]",
      "text/plain": [
       "<matplotlib.figure.Figure at 0x11c1d2240>"
      ]
     },
     "metadata": {},
     "output_type": "display_data"
    }
   ],
   "source": [
    "plt.plot(cost_evolution[10:],\"--\")\n",
    "plt.plot(cost_test_evolution[10:],\"-\")"
   ]
  },
  {
   "cell_type": "code",
   "execution_count": 123,
   "metadata": {
    "collapsed": false
   },
   "outputs": [],
   "source": [
    "n_features = len(features)\n",
    "dims = [n_features, 400, 400, 1]\n",
    "activations = [\"relu\", \"relu\", \"identity\"]\n",
    "\n",
    "model = mlp_regression.MLPRegression(dims, \n",
    "                                     activations=activations , \n",
    "                                     learning_rate=0.005,\n",
    "                                     dropout_prob=-1)\n",
    "\n",
    "n_samples = X_train.shape[0]\n",
    "batch_size = 200\n",
    "n_batches = n_samples // batch_size \n",
    "\n",
    "import sys\n",
    "cost_evolution_nodropout = []\n",
    "cost_test_evolution_nodropout = []\n",
    "\n",
    "for i in range(n_epochs):\n",
    "    cost_minibatch =0\n",
    "    n_batches = 0\n",
    "    for ind in range(0, n_samples, batch_size):\n",
    "        n_batches +=1\n",
    "        cost_minibatch += model.partial_fit(X_train[ind:ind+batch_size], \n",
    "                                            y_train[ind:ind+batch_size])\n",
    "    \n",
    "    cost_test_evolution_nodropout.append(model.compute_cost_(X_test, y_test))\n",
    "    cost_evolution_nodropout.append(cost_minibatch/n_batches )\n",
    "    #print (cost_minibatch/n_batches)"
   ]
  },
  {
   "cell_type": "code",
   "execution_count": 140,
   "metadata": {
    "collapsed": false
   },
   "outputs": [
    {
     "data": {
      "text/plain": [
       "[<matplotlib.lines.Line2D at 0x11d9a2208>]"
      ]
     },
     "execution_count": 140,
     "metadata": {},
     "output_type": "execute_result"
    },
    {
     "data": {
      "image/png": "[encoded data removed]",
      "text/plain": [
       "<matplotlib.figure.Figure at 0x118b44908>"
      ]
     },
     "metadata": {},
     "output_type": "display_data"
    }
   ],
   "source": [
    "plt.plot(cost_evolution_nodropout[10:],\"--\", color='black')\n",
    "plt.plot(cost_test_evolution_nodropout[10:],\"-\",color='black')\n",
    "\n",
    "plt.plot(cost_evolution[10:],\"--\", color='red')\n",
    "plt.plot(cost_test_evolution[10:],\"-\", color='red')"
   ]
  },
  {
   "cell_type": "code",
   "execution_count": null,
   "metadata": {
    "collapsed": true
   },
   "outputs": [],
   "source": []
  },
  {
   "cell_type": "code",
   "execution_count": null,
   "metadata": {
    "collapsed": true
   },
   "outputs": [],
   "source": []
  },
  {
   "cell_type": "code",
   "execution_count": null,
   "metadata": {
    "collapsed": true
   },
   "outputs": [],
   "source": []
  },
  {
   "cell_type": "code",
   "execution_count": null,
   "metadata": {
    "collapsed": true
   },
   "outputs": [],
   "source": []
  },
  {
   "cell_type": "code",
   "execution_count": null,
   "metadata": {
    "collapsed": true
   },
   "outputs": [],
   "source": []
  },
  {
   "cell_type": "code",
   "execution_count": null,
   "metadata": {
    "collapsed": true
   },
   "outputs": [],
   "source": []
  },
  {
   "cell_type": "code",
   "execution_count": null,
   "metadata": {
    "collapsed": true
   },
   "outputs": [],
   "source": []
  },
  {
   "cell_type": "code",
   "execution_count": 270,
   "metadata": {
    "collapsed": false
   },
   "outputs": [
    {
     "name": "stderr",
     "output_type": "stream",
     "text": [
      "/home/david/Documents/git_stuff/connectionist/MLPRegression/mlp_regression.py:93: SyntaxWarning: assertion is always true, perhaps remove parentheses?\n",
      "  assert(activation in implemented_activations, 'One of the activations was not allowed')\n"
     ]
    }
   ],
   "source": [
    "import mlp_regression"
   ]
  },
  {
   "cell_type": "code",
   "execution_count": 271,
   "metadata": {
    "collapsed": true
   },
   "outputs": [],
   "source": [
    "n_features = len(features)"
   ]
  },
  {
   "cell_type": "code",
   "execution_count": 272,
   "metadata": {
    "collapsed": true
   },
   "outputs": [],
   "source": [
    "dims = [n_features, 200, 100, 1]\n",
    "activations = [\"relu\", \"relu\", \"identity\"]"
   ]
  },
  {
   "cell_type": "code",
   "execution_count": 273,
   "metadata": {
    "collapsed": false
   },
   "outputs": [],
   "source": [
    "model = mlp_regression.MLPRegression(dims, activations, learning_rate=0.0001)"
   ]
  },
  {
   "cell_type": "code",
   "execution_count": 274,
   "metadata": {
    "collapsed": false
   },
   "outputs": [
    {
     "data": {
      "text/plain": [
       "array([[ 0.98005003],\n",
       "       [ 5.79990864],\n",
       "       [ 1.40946817],\n",
       "       [ 1.56663454],\n",
       "       [ 1.57885885]], dtype=float32)"
      ]
     },
     "execution_count": 274,
     "metadata": {},
     "output_type": "execute_result"
    }
   ],
   "source": [
    "model.predict(Xy_df[features][0:5])"
   ]
  },
  {
   "cell_type": "markdown",
   "metadata": {},
   "source": [
    "### Computing MSE\n",
    "\n",
    "- Check that MSE is computed correctly"
   ]
  },
  {
   "cell_type": "code",
   "execution_count": 275,
   "metadata": {
    "collapsed": false
   },
   "outputs": [
    {
     "data": {
      "text/plain": [
       "<function sklearn.metrics.regression.mean_squared_error>"
      ]
     },
     "execution_count": 275,
     "metadata": {},
     "output_type": "execute_result"
    }
   ],
   "source": [
    "from sklearn import metrics\n",
    "sklearn.metrics.mean_squared_error"
   ]
  },
  {
   "cell_type": "code",
   "execution_count": 276,
   "metadata": {
    "collapsed": false
   },
   "outputs": [
    {
     "data": {
      "text/plain": [
       "5.748876570565681"
      ]
     },
     "execution_count": 276,
     "metadata": {},
     "output_type": "execute_result"
    }
   ],
   "source": [
    "yhat = model.predict(Xy_df[features][0:5])\n",
    "y = Xy_df[target][0:5]\n",
    "sklearn.metrics.mean_squared_error(yhat.flatten(), y)"
   ]
  },
  {
   "cell_type": "code",
   "execution_count": 277,
   "metadata": {
    "collapsed": false
   },
   "outputs": [
    {
     "data": {
      "text/plain": [
       "array(5.74887633504458)"
      ]
     },
     "execution_count": 277,
     "metadata": {},
     "output_type": "execute_result"
    }
   ],
   "source": [
    "model.compute_cost(Xy_df[features][0:5], Xy_df[target][0:5])"
   ]
  },
  {
   "cell_type": "code",
   "execution_count": 278,
   "metadata": {
    "collapsed": false
   },
   "outputs": [
    {
     "data": {
      "text/plain": [
       "mean"
      ]
     },
     "execution_count": 278,
     "metadata": {},
     "output_type": "execute_result"
    }
   ],
   "source": [
    "model.compute_sym_cost(Xy_df[features][0:5], Xy_df[target][0:5])"
   ]
  },
  {
   "cell_type": "markdown",
   "metadata": {},
   "source": [
    "### Learning: testing fitting minibatch"
   ]
  },
  {
   "cell_type": "code",
   "execution_count": 279,
   "metadata": {
    "collapsed": false
   },
   "outputs": [
    {
     "data": {
      "text/plain": [
       "array([100,   1])"
      ]
     },
     "execution_count": 279,
     "metadata": {},
     "output_type": "execute_result"
    }
   ],
   "source": [
    "model.W[2].shape.eval()"
   ]
  },
  {
   "cell_type": "code",
   "execution_count": 280,
   "metadata": {
    "collapsed": false
   },
   "outputs": [],
   "source": [
    "model = mlp_regression.MLPRegression(dims, activations, learning_rate=0.001)"
   ]
  },
  {
   "cell_type": "code",
   "execution_count": 281,
   "metadata": {
    "collapsed": false
   },
   "outputs": [
    {
     "data": {
      "text/plain": [
       "array([[ 0.98005003],\n",
       "       [ 5.79990864],\n",
       "       [ 1.40946817],\n",
       "       [ 1.56663454],\n",
       "       [ 1.57885885],\n",
       "       [ 1.20202112],\n",
       "       [ 2.81579208],\n",
       "       [ 2.95755386],\n",
       "       [ 3.05576658],\n",
       "       [ 3.84980774]], dtype=float32)"
      ]
     },
     "execution_count": 281,
     "metadata": {},
     "output_type": "execute_result"
    }
   ],
   "source": [
    "model.predict(X_train[0:10])"
   ]
  },
  {
   "cell_type": "code",
   "execution_count": 282,
   "metadata": {
    "collapsed": false
   },
   "outputs": [
    {
     "data": {
      "text/plain": [
       "2"
      ]
     },
     "execution_count": 282,
     "metadata": {},
     "output_type": "execute_result"
    }
   ],
   "source": [
    "y_train[0:10].ndim"
   ]
  },
  {
   "cell_type": "code",
   "execution_count": 283,
   "metadata": {
    "collapsed": false
   },
   "outputs": [
    {
     "data": {
      "text/plain": [
       "array(3.346264362335205, dtype=float32)"
      ]
     },
     "execution_count": 283,
     "metadata": {},
     "output_type": "execute_result"
    }
   ],
   "source": [
    "#Fits the current minibatch and returns the cost for the current minibatch\n",
    "model.tfunc_fit_mini_batch(X_train[0:10], y_train[0:10])"
   ]
  },
  {
   "cell_type": "code",
   "execution_count": 284,
   "metadata": {
    "collapsed": false
   },
   "outputs": [
    {
     "data": {
      "text/plain": [
       "array([[ -1.03016376],\n",
       "       [-11.15286541],\n",
       "       [ -1.87665629]], dtype=float32)"
      ]
     },
     "execution_count": 284,
     "metadata": {},
     "output_type": "execute_result"
    }
   ],
   "source": [
    "model.predict(X_train[0:3])"
   ]
  },
  {
   "cell_type": "code",
   "execution_count": 285,
   "metadata": {
    "collapsed": false
   },
   "outputs": [
    {
     "data": {
      "text/plain": [
       "array(62.179298400878906, dtype=float32)"
      ]
     },
     "execution_count": 285,
     "metadata": {},
     "output_type": "execute_result"
    }
   ],
   "source": [
    "model.tfunc_fit_mini_batch(X_train[0:10], y_train[0:10])"
   ]
  },
  {
   "cell_type": "code",
   "execution_count": 286,
   "metadata": {
    "collapsed": false
   },
   "outputs": [
    {
     "data": {
      "text/plain": [
       "array([[  34.44775772],\n",
       "       [ 239.35980225],\n",
       "       [  51.73920059],\n",
       "       [  57.81995773],\n",
       "       [  58.48978043],\n",
       "       [  43.53463364],\n",
       "       [ 110.76134491],\n",
       "       [ 116.9796524 ],\n",
       "       [ 121.57762146],\n",
       "       [ 155.89840698]], dtype=float32)"
      ]
     },
     "execution_count": 286,
     "metadata": {},
     "output_type": "execute_result"
    }
   ],
   "source": [
    "model.predict(X_train[0:10])"
   ]
  },
  {
   "cell_type": "code",
   "execution_count": 287,
   "metadata": {
    "collapsed": false
   },
   "outputs": [
    {
     "data": {
      "text/plain": [
       "0.001"
      ]
     },
     "execution_count": 287,
     "metadata": {},
     "output_type": "execute_result"
    }
   ],
   "source": [
    "model.learning_rate"
   ]
  },
  {
   "cell_type": "code",
   "execution_count": null,
   "metadata": {
    "collapsed": true
   },
   "outputs": [],
   "source": []
  },
  {
   "cell_type": "code",
   "execution_count": null,
   "metadata": {
    "collapsed": true
   },
   "outputs": [],
   "source": []
  },
  {
   "cell_type": "code",
   "execution_count": null,
   "metadata": {
    "collapsed": true
   },
   "outputs": [],
   "source": []
  },
  {
   "cell_type": "code",
   "execution_count": null,
   "metadata": {
    "collapsed": true
   },
   "outputs": [],
   "source": []
  },
  {
   "cell_type": "code",
   "execution_count": null,
   "metadata": {
    "collapsed": true
   },
   "outputs": [],
   "source": []
  },
  {
   "cell_type": "code",
   "execution_count": null,
   "metadata": {
    "collapsed": true
   },
   "outputs": [],
   "source": []
  },
  {
   "cell_type": "code",
   "execution_count": null,
   "metadata": {
    "collapsed": true
   },
   "outputs": [],
   "source": []
  },
  {
   "cell_type": "code",
   "execution_count": null,
   "metadata": {
    "collapsed": true
   },
   "outputs": [],
   "source": []
  },
  {
   "cell_type": "code",
   "execution_count": null,
   "metadata": {
    "collapsed": true
   },
   "outputs": [],
   "source": []
  },
  {
   "cell_type": "code",
   "execution_count": null,
   "metadata": {
    "collapsed": true
   },
   "outputs": [],
   "source": []
  },
  {
   "cell_type": "code",
   "execution_count": null,
   "metadata": {
    "collapsed": true
   },
   "outputs": [],
   "source": []
  },
  {
   "cell_type": "code",
   "execution_count": null,
   "metadata": {
    "collapsed": true
   },
   "outputs": [],
   "source": []
  },
  {
   "cell_type": "markdown",
   "metadata": {
    "collapsed": true
   },
   "source": [
    "### 2 Layer MLP "
   ]
  },
  {
   "cell_type": "code",
   "execution_count": 133,
   "metadata": {
    "collapsed": true
   },
   "outputs": [],
   "source": [
    "import theano\n",
    "from theano import tensor as T\n",
    "\n",
    "def floatX(X):\n",
    "    return np.asarray(X, dtype=theano.config.floatX)\n",
    "\n",
    "def relu(X):\n",
    "    return T.maximum(X, 0.)\n",
    "\n",
    "\n",
    "def updates_sgd(cost, params):\n",
    "    \"\"\"\n",
    "    Method used to define a list of symbolic updates for theano\n",
    "    \"\"\"\n",
    "    grads = theano.tensor.grad(cost=cost, wrt=params)\n",
    "    updates = []\n",
    "    for param,grad in zip(params, grads):\n",
    "        updates.append([param, param - grad * 0.01 ])\n",
    "\n",
    "    return updates"
   ]
  },
  {
   "cell_type": "code",
   "execution_count": 134,
   "metadata": {
    "collapsed": false
   },
   "outputs": [],
   "source": [
    "n_features = X_train.shape[1]\n",
    "n_hid = 200\n",
    "n_out = 1\n",
    "\n",
    "sha_W1 = theano.shared(floatX(np.random.normal(np.zeros((n_features,n_hid)), scale=0.1)/np.sqrt(n_features)))\n",
    "sha_b1 = theano.shared(floatX(np.zeros(n_hid)))\n",
    "\n",
    "sha_W2 = theano.shared(floatX(np.random.normal(np.zeros((n_hid,n_out)), scale=0.1)/np.sqrt(n_out)))\n",
    "sha_b2 = theano.shared(floatX(np.zeros(1)))\n",
    "\n",
    "params = [sha_W1, sha_b1, sha_W2, sha_b2]\n",
    "\n",
    "sym_Xbatch = T.matrix(\"sym_Xbatch\")\n",
    "sym_Ybatch = T.matrix(\"sym_Ybatch\")\n",
    "\n",
    "sym_out = T.dot(relu(T.dot(sym_Xbatch, sha_W1) + sha_b1), sha_W2) + sha_b2\n",
    "sym_cost = T.mean((sym_out - sym_Ybatch)**2)\n",
    "sym_updates = updates_sgd(sym_cost, params)\n",
    "\n",
    "tfunc_fitbatch = theano.function(inputs=[sym_Xbatch, sym_Ybatch], \n",
    "                                 outputs=sym_cost,\n",
    "                                 updates=sym_updates,\n",
    "                                 allow_input_downcast = True)\n",
    "\n",
    "\n",
    "tfunc_output = theano.function(inputs=[sym_Xbatch], \n",
    "                                outputs=[sym_out,], \n",
    "                                 allow_input_downcast = True)\n"
   ]
  },
  {
   "cell_type": "code",
   "execution_count": 135,
   "metadata": {
    "collapsed": false
   },
   "outputs": [],
   "source": [
    "#sym_out.eval({\"sym_Xbatch\":X_train[0:100]})"
   ]
  },
  {
   "cell_type": "code",
   "execution_count": 136,
   "metadata": {
    "collapsed": false
   },
   "outputs": [
    {
     "data": {
      "text/plain": [
       "[array([[ 2.60931635],\n",
       "        [ 8.81646347]], dtype=float32)]"
      ]
     },
     "execution_count": 136,
     "metadata": {},
     "output_type": "execute_result"
    }
   ],
   "source": [
    "tfunc_output(X_train[0:2])"
   ]
  },
  {
   "cell_type": "code",
   "execution_count": 137,
   "metadata": {
    "collapsed": true
   },
   "outputs": [],
   "source": [
    "X_train = sklearn.preprocessing.minmax_scale(X_train)"
   ]
  },
  {
   "cell_type": "code",
   "execution_count": 138,
   "metadata": {
    "collapsed": true
   },
   "outputs": [],
   "source": [
    "import sys\n",
    "cost_evo = []\n",
    "for i in range(1000):\n",
    "    cost_evo.append(tfunc_fitbatch(X_train[0:100], y_train[0:100]))"
   ]
  }
 ],
 "metadata": {
  "kernelspec": {
   "display_name": "Python 3",
   "language": "python",
   "name": "python3"
  },
  "language_info": {
   "codemirror_mode": {
    "name": "ipython",
    "version": 3
   },
   "file_extension": ".py",
   "mimetype": "text/x-python",
   "name": "python",
   "nbconvert_exporter": "python",
   "pygments_lexer": "ipython3",
   "version": "3.5.2"
  }
 },
 "nbformat": 4,
 "nbformat_minor": 0
}
