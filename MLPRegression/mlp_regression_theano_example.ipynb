{
 "cells": [
  {
   "cell_type": "markdown",
   "metadata": {},
   "source": [
    "## Building a multilayer perceptron for regression in theano"
   ]
  },
  {
   "cell_type": "code",
   "execution_count": 62,
   "metadata": {
    "collapsed": false,
    "scrolled": true
   },
   "outputs": [
    {
     "name": "stdout",
     "output_type": "stream",
     "text": [
      "The autoreload extension is already loaded. To reload it, use:\n",
      "  %reload_ext autoreload\n"
     ]
    }
   ],
   "source": [
    "import theano\n",
    "import numpy as np\n",
    "import pandas as pd\n",
    "\n",
    "%matplotlib inline\n",
    "%load_ext autoreload\n",
    "%autoreload 2"
   ]
  },
  {
   "cell_type": "code",
   "execution_count": 63,
   "metadata": {
    "collapsed": false
   },
   "outputs": [],
   "source": [
    "import sklearn\n",
    "from sklearn import datasets\n",
    "from sklearn import model_selection\n",
    "cali_housing = sklearn.datasets.california_housing.fetch_california_housing()\n",
    "\n",
    "X = cali_housing.data\n",
    "y = cali_housing.target\n",
    "Xy = np.vstack((X.T,y)).T\n",
    "\n",
    "features_and_target = cali_housing.feature_names + [\"target\"]\n",
    "features_to_retrieve = cali_housing.feature_names\n",
    "target_feature = [\"target\"]\n",
    "Xy_df = pd.DataFrame(Xy, columns=features_and_target)"
   ]
  },
  {
   "cell_type": "code",
   "execution_count": 64,
   "metadata": {
    "collapsed": false
   },
   "outputs": [
    {
     "data": {
      "text/plain": [
       "(20640, 8)"
      ]
     },
     "execution_count": 64,
     "metadata": {},
     "output_type": "execute_result"
    }
   ],
   "source": [
    "cali_housing.data.shape"
   ]
  },
  {
   "cell_type": "code",
   "execution_count": 65,
   "metadata": {
    "collapsed": false
   },
   "outputs": [],
   "source": [
    "features = ['MedInc', 'HouseAge', 'AveRooms', 'AveBedrms', 'Population',\n",
    "            'AveOccup', 'Latitude', 'Longitude']\n",
    "\n",
    "target = ['target']"
   ]
  },
  {
   "cell_type": "code",
   "execution_count": 66,
   "metadata": {
    "collapsed": true
   },
   "outputs": [],
   "source": [
    "X_train = np.array(Xy_df[features].as_matrix(),dtype=\"float32\")\n",
    "y_train = np.array(Xy_df[target].as_matrix(),dtype=\"float32\")\n",
    "X_train = sklearn.preprocessing.minmax_scale(X_train)\n",
    "\n",
    "X_train, X_test, y_train, y_test =sklearn.model_selection.train_test_split(X_train, y_train)"
   ]
  },
  {
   "cell_type": "code",
   "execution_count": 67,
   "metadata": {
    "collapsed": false
   },
   "outputs": [
    {
     "data": {
      "text/plain": [
       "(15480, 8)"
      ]
     },
     "execution_count": 67,
     "metadata": {},
     "output_type": "execute_result"
    }
   ],
   "source": [
    "X_train.shape"
   ]
  },
  {
   "cell_type": "code",
   "execution_count": 68,
   "metadata": {
    "collapsed": false
   },
   "outputs": [
    {
     "data": {
      "text/plain": [
       "(5160, 8)"
      ]
     },
     "execution_count": 68,
     "metadata": {},
     "output_type": "execute_result"
    }
   ],
   "source": [
    "X_test.shape"
   ]
  },
  {
   "cell_type": "markdown",
   "metadata": {},
   "source": [
    "## Testing MLP regression with different optimizers"
   ]
  },
  {
   "cell_type": "code",
   "execution_count": 74,
   "metadata": {
    "collapsed": false
   },
   "outputs": [],
   "source": [
    "#Dropout\n",
    "import matplotlib\n",
    "from matplotlib import pyplot as plt\n",
    "import mlp_regression\n",
    "import sys\n",
    "\n",
    "n_epochs = 150\n",
    "batch_size = 200\n",
    "results = {}"
   ]
  },
  {
   "cell_type": "markdown",
   "metadata": {},
   "source": [
    "#### Train with dropout"
   ]
  },
  {
   "cell_type": "code",
   "execution_count": 70,
   "metadata": {
    "collapsed": false
   },
   "outputs": [
    {
     "name": "stdout",
     "output_type": "stream",
     "text": [
      "\tUsing SGD optimizer\n"
     ]
    }
   ],
   "source": [
    "n_features = len(features)\n",
    "dims = [n_features, 400, 400, 1]\n",
    "activations = [\"relu\", \"relu\", \"identity\"]\n",
    "\n",
    "model_SGD = mlp_regression.MLPRegression(dims,\n",
    "                                     activations=activations, \n",
    "                                     learning_rate=0.01, \n",
    "                                     seed=1234,\n",
    "                                     max_iter=200,\n",
    "                                     batch_size=200,\n",
    "                                     dropout_prob = 0.005,\n",
    "                                     loss='mean_squared_error',\n",
    "                                     optimizer='SGD',\n",
    "                                     random_state=1234)\n",
    "model_SGD.fit(X_train, y_train,\n",
    "          X_val=X_test, y_val=y_test, n_epochs=n_epochs)"
   ]
  },
  {
   "cell_type": "code",
   "execution_count": 90,
   "metadata": {
    "collapsed": false
   },
   "outputs": [],
   "source": [
    "results['dropout005_SGD_train'] = model_SGD.loss_curve_\n",
    "results['dropout005_SGD_test'] = model_SGD.loss_curve_validation_"
   ]
  },
  {
   "cell_type": "markdown",
   "metadata": {},
   "source": [
    "#### Adding momentum"
   ]
  },
  {
   "cell_type": "code",
   "execution_count": 78,
   "metadata": {
    "collapsed": false,
    "scrolled": true
   },
   "outputs": [
    {
     "name": "stdout",
     "output_type": "stream",
     "text": [
      "\tUsing SGD_momentum optimizer\n"
     ]
    }
   ],
   "source": [
    "n_features = len(features)\n",
    "dims = [n_features, 400, 400, 1]\n",
    "activations = [\"relu\", \"relu\", \"identity\"]\n",
    "\n",
    "model_SGDmomentum = mlp_regression.MLPRegression(dims,\n",
    "                                     activations=activations, \n",
    "                                     learning_rate=0.01, \n",
    "                                     seed=1234,\n",
    "                                     max_iter=200,\n",
    "                                     batch_size=200,\n",
    "                                     dropout_prob = 0.005,\n",
    "                                     loss='mean_squared_error',\n",
    "                                     optimizer='SGD_momentum',\n",
    "                                     momentum=0.9,\n",
    "                                     random_state=1234)\n",
    "\n",
    "model_SGDmomentum.fit(X_train, y_train,\n",
    "          X_val=X_test, y_val=y_test, n_epochs=n_epochs)"
   ]
  },
  {
   "cell_type": "code",
   "execution_count": 91,
   "metadata": {
    "collapsed": false
   },
   "outputs": [],
   "source": [
    "results['dropout005_SGDmomentum_train'] = model_SGDmomentum.loss_curve_\n",
    "results['dropout005_SGDDmomentum_test'] = model_SGDmomentum.loss_curve_validation_"
   ]
  },
  {
   "cell_type": "markdown",
   "metadata": {},
   "source": [
    "#### Trying RMSprop"
   ]
  },
  {
   "cell_type": "code",
   "execution_count": 113,
   "metadata": {
    "collapsed": false
   },
   "outputs": [
    {
     "name": "stdout",
     "output_type": "stream",
     "text": [
      "\tUsing SGD_momentum optimizer\n"
     ]
    }
   ],
   "source": [
    "n_features = len(features)\n",
    "dims = [n_features, 400, 400, 1]\n",
    "activations = [\"relu\", \"relu\", \"identity\"]\n",
    "\n",
    "model_RMSprop = mlp_regression.MLPRegression(dims,\n",
    "                                     activations=activations, \n",
    "                                     learning_rate=0.01, \n",
    "                                     seed=1234,\n",
    "                                     max_iter=200,\n",
    "                                     batch_size=200,\n",
    "                                     dropout_prob = 0.005,\n",
    "                                     loss='mean_squared_error',\n",
    "                                     optimizer='RMSprop',\n",
    "                                     momentum=0.9,\n",
    "                                     random_state=1234)\n",
    "\n",
    "model_RMSprop.fit(X_train, y_train,\n",
    "          X_val=X_test, y_val=y_test, n_epochs=n_epochs)"
   ]
  },
  {
   "cell_type": "code",
   "execution_count": 114,
   "metadata": {
    "collapsed": true
   },
   "outputs": [],
   "source": [
    "results['dropout005_RMSprop_train'] = model_RMSprop.loss_curve_\n",
    "results['dropout005_RMSprop_test'] = model_RMSprop.loss_curve_validation_"
   ]
  },
  {
   "cell_type": "markdown",
   "metadata": {},
   "source": [
    "#### Trying SGD_nesterov"
   ]
  },
  {
   "cell_type": "code",
   "execution_count": 112,
   "metadata": {
    "collapsed": false
   },
   "outputs": [
    {
     "name": "stdout",
     "output_type": "stream",
     "text": [
      "\tUsing SGD_nesterov optimizer\n"
     ]
    }
   ],
   "source": [
    "n_features = len(features)\n",
    "dims = [n_features, 400, 400, 1]\n",
    "activations = [\"relu\", \"relu\", \"identity\"]\n",
    "\n",
    "model_SGDnesterov = mlp_regression.MLPRegression(dims,\n",
    "                                     activations=activations, \n",
    "                                     learning_rate=0.01, \n",
    "                                     seed=1234,\n",
    "                                     max_iter=200,\n",
    "                                     batch_size=200,\n",
    "                                     dropout_prob = 0.005,\n",
    "                                     loss='mean_squared_error',\n",
    "                                     optimizer='SGD_nesterov',\n",
    "                                     momentum=0.9,\n",
    "                                     random_state=1234)\n",
    "\n",
    "model_SGDnesterov.fit(X_train, y_train,\n",
    "          X_val=X_test, y_val=y_test, n_epochs=n_epochs)"
   ]
  },
  {
   "cell_type": "code",
   "execution_count": 115,
   "metadata": {
    "collapsed": true
   },
   "outputs": [],
   "source": [
    "results['dropout005_SGDnesterov_train'] = model_SGDnesterov.loss_curve_\n",
    "results['dropout005_SGDnesterov_test'] = model_SGDnesterov.loss_curve_validation_"
   ]
  },
  {
   "cell_type": "markdown",
   "metadata": {},
   "source": [
    "#### Compare SGD , SGD with momentum, RMSprop"
   ]
  },
  {
   "cell_type": "code",
   "execution_count": 116,
   "metadata": {
    "collapsed": true
   },
   "outputs": [],
   "source": [
    "# SGD vs SGD_momentum\n",
    "results_df = pd.DataFrame(results)\n",
    "cols = ['dropout005_SGD_train','dropout005_SGDmomentum_train',\n",
    "        'dropout005_RMSprop_train','dropout005_SGDnesterov_train']"
   ]
  },
  {
   "cell_type": "code",
   "execution_count": 117,
   "metadata": {
    "collapsed": false
   },
   "outputs": [
    {
     "data": {
      "text/html": [
       "<div>\n",
       "<table border=\"1\" class=\"dataframe\">\n",
       "  <thead>\n",
       "    <tr style=\"text-align: right;\">\n",
       "      <th></th>\n",
       "      <th>dropout005_SGD_train</th>\n",
       "      <th>dropout005_SGDmomentum_train</th>\n",
       "      <th>dropout005_RMSprop_train</th>\n",
       "      <th>dropout005_SGDnesterov_train</th>\n",
       "    </tr>\n",
       "  </thead>\n",
       "  <tbody>\n",
       "    <tr>\n",
       "      <th>0</th>\n",
       "      <td>2.483875</td>\n",
       "      <td>1.702228</td>\n",
       "      <td>2.039301</td>\n",
       "      <td>1.636785</td>\n",
       "    </tr>\n",
       "    <tr>\n",
       "      <th>1</th>\n",
       "      <td>1.302173</td>\n",
       "      <td>1.305065</td>\n",
       "      <td>0.802226</td>\n",
       "      <td>1.098019</td>\n",
       "    </tr>\n",
       "    <tr>\n",
       "      <th>2</th>\n",
       "      <td>1.278910</td>\n",
       "      <td>0.912930</td>\n",
       "      <td>0.671930</td>\n",
       "      <td>0.582193</td>\n",
       "    </tr>\n",
       "    <tr>\n",
       "      <th>3</th>\n",
       "      <td>1.253276</td>\n",
       "      <td>0.541816</td>\n",
       "      <td>0.646374</td>\n",
       "      <td>0.536660</td>\n",
       "    </tr>\n",
       "    <tr>\n",
       "      <th>4</th>\n",
       "      <td>1.220407</td>\n",
       "      <td>0.519731</td>\n",
       "      <td>0.611670</td>\n",
       "      <td>0.515785</td>\n",
       "    </tr>\n",
       "  </tbody>\n",
       "</table>\n",
       "</div>"
      ],
      "text/plain": [
       "   dropout005_SGD_train  dropout005_SGDmomentum_train  \\\n",
       "0              2.483875                      1.702228   \n",
       "1              1.302173                      1.305065   \n",
       "2              1.278910                      0.912930   \n",
       "3              1.253276                      0.541816   \n",
       "4              1.220407                      0.519731   \n",
       "\n",
       "   dropout005_RMSprop_train  dropout005_SGDnesterov_train  \n",
       "0                  2.039301                      1.636785  \n",
       "1                  0.802226                      1.098019  \n",
       "2                  0.671930                      0.582193  \n",
       "3                  0.646374                      0.536660  \n",
       "4                  0.611670                      0.515785  "
      ]
     },
     "execution_count": 117,
     "metadata": {},
     "output_type": "execute_result"
    }
   ],
   "source": [
    "results_df[cols][0:5]"
   ]
  },
  {
   "cell_type": "code",
   "execution_count": 118,
   "metadata": {
    "collapsed": false
   },
   "outputs": [
    {
     "data": {
      "text/plain": [
       "<matplotlib.axes._subplots.AxesSubplot at 0x117ba7ef0>"
      ]
     },
     "execution_count": 118,
     "metadata": {},
     "output_type": "execute_result"
    },
    {
     "data": {
      "image/png": "[encoded data removed]",
      "text/plain": [
       "<matplotlib.figure.Figure at 0x1164c4780>"
      ]
     },
     "metadata": {},
     "output_type": "display_data"
    }
   ],
   "source": [
    "cols = ['dropout005_SGD_train','dropout005_SGDmomentum_train',\n",
    "        'dropout005_RMSprop_train','dropout005_SGDnesterov_train']\n",
    "\n",
    "results_df[cols].plot()"
   ]
  },
  {
   "cell_type": "markdown",
   "metadata": {},
   "source": [
    "## Relevant hyperparameters:\n",
    "\n",
    "- Should we use dropout or not?\n"
   ]
  },
  {
   "cell_type": "code",
   "execution_count": null,
   "metadata": {
    "collapsed": true
   },
   "outputs": [],
   "source": []
  },
  {
   "cell_type": "code",
   "execution_count": null,
   "metadata": {
    "collapsed": true
   },
   "outputs": [],
   "source": []
  },
  {
   "cell_type": "markdown",
   "metadata": {},
   "source": [
    "#### Try another dropout prob.\n",
    "\n",
    "This one does not seem very reasonable"
   ]
  },
  {
   "cell_type": "code",
   "execution_count": 100,
   "metadata": {
    "collapsed": false
   },
   "outputs": [
    {
     "name": "stdout",
     "output_type": "stream",
     "text": [
      "\tUsing SGD_momentum optimizer\n"
     ]
    },
    {
     "data": {
      "text/plain": [
       "[<matplotlib.lines.Line2D at 0x1178a0668>]"
      ]
     },
     "execution_count": 100,
     "metadata": {},
     "output_type": "execute_result"
    },
    {
     "data": {
      "image/png": "[encoded data removed]",
      "text/plain": [
       "<matplotlib.figure.Figure at 0x1178a03c8>"
      ]
     },
     "metadata": {},
     "output_type": "display_data"
    }
   ],
   "source": [
    "n_features = len(features)\n",
    "dims = [n_features, 400, 400, 1]\n",
    "activations = [\"relu\", \"relu\", \"identity\"]\n",
    "\n",
    "model = mlp_regression.MLPRegression(dims,\n",
    "                                     activations=activations, \n",
    "                                     learning_rate=0.005,\n",
    "                                     dropout_prob=0.005,\n",
    "                                     loss='mean_squared_error',\n",
    "                                     batch_size=200,\n",
    "                                     seed=1234)\n",
    "\n",
    "model.fit(X_train, y_train, X_val=X_test,\n",
    "          y_val=y_test, n_epochs = n_epochs)\n",
    "\n",
    "plt.plot(model.loss_curve_)\n",
    "plt.plot(model.loss_curve_validation_)"
   ]
  },
  {
   "cell_type": "markdown",
   "metadata": {},
   "source": [
    "#### No dropout"
   ]
  },
  {
   "cell_type": "code",
   "execution_count": null,
   "metadata": {
    "collapsed": false
   },
   "outputs": [],
   "source": [
    "n_features = len(features)\n",
    "dims = [n_features, 400, 400, 1]\n",
    "activations = [\"relu\", \"relu\", \"identity\"]\n",
    "\n",
    "model_nodropout = mlp_regression.MLPRegression(dims,\n",
    "                                     activations=activations,\n",
    "                                     learning_rate=0.005,\n",
    "                                     dropout_prob=-1,\n",
    "                                     loss='mean_squared_error')"
   ]
  },
  {
   "cell_type": "code",
   "execution_count": null,
   "metadata": {
    "collapsed": true
   },
   "outputs": [],
   "source": [
    "model_nodropout.fit(X_train, y_train, X_val=X_test,\n",
    "                    y_val=y_test, n_epochs = n_epochs)"
   ]
  },
  {
   "cell_type": "code",
   "execution_count": null,
   "metadata": {
    "collapsed": false
   },
   "outputs": [],
   "source": [
    "plt.plot(model_nodropout.loss_curve_)\n",
    "plt.plot(model_nodropout.loss_curve_validation_)"
   ]
  },
  {
   "cell_type": "code",
   "execution_count": null,
   "metadata": {
    "collapsed": false
   },
   "outputs": [],
   "source": [
    "plt.plot(model_nodropout.loss_curve_)\n",
    "plt.plot(model_nodropout.loss_curve_validation_)\n",
    "\n",
    "plt.plot(model.loss_curve_)\n",
    "plt.plot(model.loss_curve_validation_)"
   ]
  },
  {
   "cell_type": "markdown",
   "metadata": {},
   "source": [
    "## Comparison vs sklearn MLPRegressor"
   ]
  },
  {
   "cell_type": "code",
   "execution_count": null,
   "metadata": {
    "collapsed": true
   },
   "outputs": [],
   "source": [
    "from sklearn.neural_network import MLPRegressor "
   ]
  },
  {
   "cell_type": "code",
   "execution_count": null,
   "metadata": {
    "collapsed": true
   },
   "outputs": [],
   "source": [
    "mlp = MLPRegressor()"
   ]
  },
  {
   "cell_type": "code",
   "execution_count": null,
   "metadata": {
    "collapsed": false,
    "scrolled": true
   },
   "outputs": [],
   "source": [
    "mlp.fit(X_train,y_train)"
   ]
  },
  {
   "cell_type": "code",
   "execution_count": null,
   "metadata": {
    "collapsed": false,
    "scrolled": true
   },
   "outputs": [],
   "source": [
    "#mlp.loss_curve_"
   ]
  },
  {
   "cell_type": "markdown",
   "metadata": {},
   "source": [
    "### MLP using partial fit\n",
    "\n",
    "- The code allows to build a custom loop over the data and train in minibatches.\n",
    "\n",
    "- In fact this is what the fit function does"
   ]
  },
  {
   "cell_type": "code",
   "execution_count": null,
   "metadata": {
    "collapsed": false,
    "scrolled": false
   },
   "outputs": [],
   "source": [
    "n_features = len(features)\n",
    "dims = [n_features, 400, 400, 1]\n",
    "activations = [\"relu\", \"relu\", \"identity\"]\n",
    "\n",
    "model = mlp_regression.MLPRegression(dims,\n",
    "                                     activations=activations, \n",
    "                                     learning_rate=0.005,\n",
    "                                     dropout_prob=0.05)\n",
    "\n",
    "n_samples = X_train.shape[0]\n",
    "n_batches = n_samples // batch_size \n",
    "\n",
    "cost_evolution = []\n",
    "cost_test_evolution = []\n",
    "cost_train_evolution = []\n",
    "\n",
    "for i in range(n_epochs):\n",
    "    cost_minibatch = 0\n",
    "    n_batches = 0\n",
    "    for ind in range(0, n_samples, batch_size):\n",
    "        n_batches += 1\n",
    "        cost_minibatch += model.partial_fit(X_train[ind:ind+batch_size], \n",
    "                                            y_train[ind:ind+batch_size])\n",
    "    \n",
    "    cost_test_evolution.append(model.compute_cost_(X_test, y_test))\n",
    "    cost_train_evolution.append(model.compute_cost_(X_train, y_train))\n",
    "\n",
    "    cost_evolution.append(cost_minibatch/n_batches )\n",
    "    #print (cost_minibatch/n_batches)"
   ]
  },
  {
   "cell_type": "code",
   "execution_count": null,
   "metadata": {
    "collapsed": false
   },
   "outputs": [],
   "source": [
    "plt.plot(cost_evolution,\"--\")\n",
    "plt.plot(cost_test_evolution,\"-\")"
   ]
  },
  {
   "cell_type": "code",
   "execution_count": null,
   "metadata": {
    "collapsed": false
   },
   "outputs": [],
   "source": [
    "srng = theano.tensor.shared_randomstreams.RandomStreams()"
   ]
  },
  {
   "cell_type": "code",
   "execution_count": null,
   "metadata": {
    "collapsed": false
   },
   "outputs": [],
   "source": [
    "p=0.3\n",
    "mask = srng.binomial(n=1, p=1-p, size=list([5]), dtype= theano.config.floatX)"
   ]
  },
  {
   "cell_type": "code",
   "execution_count": null,
   "metadata": {
    "collapsed": false
   },
   "outputs": [],
   "source": [
    "srng.binomial(n=1, p=0.1, size=[20]).eval()"
   ]
  },
  {
   "cell_type": "code",
   "execution_count": null,
   "metadata": {
    "collapsed": false
   },
   "outputs": [],
   "source": [
    "srng.binomial(n=1, p=0.2, size=[3,100]).eval().sum(axis=1)"
   ]
  },
  {
   "cell_type": "code",
   "execution_count": null,
   "metadata": {
    "collapsed": false
   },
   "outputs": [],
   "source": [
    "help(srng.binomial)"
   ]
  },
  {
   "cell_type": "markdown",
   "metadata": {},
   "source": [
    "#### Train without dropot"
   ]
  },
  {
   "cell_type": "code",
   "execution_count": null,
   "metadata": {
    "collapsed": false
   },
   "outputs": [],
   "source": [
    "n_features = len(features)\n",
    "dims = [n_features, 400, 400, 1]\n",
    "activations = [\"relu\", \"relu\", \"identity\"]\n",
    "\n",
    "model = mlp_regression.MLPRegression(dims, \n",
    "                                     activations=activations , \n",
    "                                     learning_rate=0.005,\n",
    "                                     dropout_prob=-1)\n",
    "\n",
    "n_samples = X_train.shape[0]\n",
    "batch_size = 200\n",
    "n_batches = n_samples // batch_size \n",
    "\n",
    "import sys\n",
    "cost_evolution_nodropout = []\n",
    "cost_test_evolution_nodropout = []\n",
    "\n",
    "for i in range(n_epochs):\n",
    "    cost_minibatch =0\n",
    "    n_batches = 0\n",
    "    for ind in range(0, n_samples, batch_size):\n",
    "        n_batches +=1\n",
    "        cost_minibatch += model.partial_fit(X_train[ind:ind+batch_size], \n",
    "                                            y_train[ind:ind+batch_size])\n",
    "    \n",
    "    cost_test_evolution_nodropout.append(model.compute_cost_(X_test, y_test))\n",
    "    cost_evolution_nodropout.append(cost_minibatch/n_batches )\n",
    "    #print (cost_minibatch/n_batches)"
   ]
  },
  {
   "cell_type": "code",
   "execution_count": null,
   "metadata": {
    "collapsed": false
   },
   "outputs": [],
   "source": [
    "plt.plot(cost_evolution_nodropout[10:],\"-\", color='black')\n",
    "plt.plot(cost_test_evolution_nodropout[10:],\"--\",color='black')\n",
    "\n",
    "plt.plot(cost_evolution[10:],\"-\", color='red')\n",
    "plt.plot(cost_test_evolution[10:],\"--\", color='red')"
   ]
  },
  {
   "cell_type": "code",
   "execution_count": null,
   "metadata": {
    "collapsed": true
   },
   "outputs": [],
   "source": [
    "sklearn.loss"
   ]
  },
  {
   "cell_type": "code",
   "execution_count": null,
   "metadata": {
    "collapsed": true
   },
   "outputs": [],
   "source": []
  },
  {
   "cell_type": "code",
   "execution_count": null,
   "metadata": {
    "collapsed": true
   },
   "outputs": [],
   "source": []
  },
  {
   "cell_type": "code",
   "execution_count": null,
   "metadata": {
    "collapsed": true
   },
   "outputs": [],
   "source": []
  },
  {
   "cell_type": "code",
   "execution_count": null,
   "metadata": {
    "collapsed": true
   },
   "outputs": [],
   "source": []
  },
  {
   "cell_type": "code",
   "execution_count": null,
   "metadata": {
    "collapsed": true
   },
   "outputs": [],
   "source": []
  },
  {
   "cell_type": "code",
   "execution_count": null,
   "metadata": {
    "collapsed": true
   },
   "outputs": [],
   "source": []
  },
  {
   "cell_type": "code",
   "execution_count": null,
   "metadata": {
    "collapsed": true
   },
   "outputs": [],
   "source": []
  },
  {
   "cell_type": "code",
   "execution_count": null,
   "metadata": {
    "collapsed": false
   },
   "outputs": [],
   "source": [
    "import mlp_regression"
   ]
  },
  {
   "cell_type": "code",
   "execution_count": null,
   "metadata": {
    "collapsed": true
   },
   "outputs": [],
   "source": [
    "n_features = len(features)"
   ]
  },
  {
   "cell_type": "code",
   "execution_count": null,
   "metadata": {
    "collapsed": true
   },
   "outputs": [],
   "source": [
    "dims = [n_features, 200, 100, 1]\n",
    "activations = [\"relu\", \"relu\", \"identity\"]"
   ]
  },
  {
   "cell_type": "code",
   "execution_count": null,
   "metadata": {
    "collapsed": false
   },
   "outputs": [],
   "source": [
    "model = mlp_regression.MLPRegression(dims, activations, learning_rate=0.0001)"
   ]
  },
  {
   "cell_type": "code",
   "execution_count": null,
   "metadata": {
    "collapsed": false
   },
   "outputs": [],
   "source": [
    "model.predict(Xy_df[features][0:5])"
   ]
  },
  {
   "cell_type": "markdown",
   "metadata": {},
   "source": [
    "### Computing MSE\n",
    "\n",
    "- Check that MSE is computed correctly"
   ]
  },
  {
   "cell_type": "code",
   "execution_count": null,
   "metadata": {
    "collapsed": false
   },
   "outputs": [],
   "source": [
    "from sklearn import metrics\n",
    "sklearn.metrics.mean_squared_error"
   ]
  },
  {
   "cell_type": "code",
   "execution_count": null,
   "metadata": {
    "collapsed": false
   },
   "outputs": [],
   "source": [
    "yhat = model.predict(Xy_df[features][0:5])\n",
    "y = Xy_df[target][0:5]\n",
    "sklearn.metrics.mean_squared_error(yhat.flatten(), y)"
   ]
  },
  {
   "cell_type": "code",
   "execution_count": null,
   "metadata": {
    "collapsed": false
   },
   "outputs": [],
   "source": [
    "model.compute_cost(Xy_df[features][0:5], Xy_df[target][0:5])"
   ]
  },
  {
   "cell_type": "code",
   "execution_count": null,
   "metadata": {
    "collapsed": false
   },
   "outputs": [],
   "source": [
    "model.compute_sym_cost(Xy_df[features][0:5], Xy_df[target][0:5])"
   ]
  },
  {
   "cell_type": "markdown",
   "metadata": {},
   "source": [
    "### Learning: testing fitting minibatch"
   ]
  },
  {
   "cell_type": "code",
   "execution_count": null,
   "metadata": {
    "collapsed": false
   },
   "outputs": [],
   "source": [
    "model.W[2].shape.eval()"
   ]
  },
  {
   "cell_type": "code",
   "execution_count": null,
   "metadata": {
    "collapsed": false
   },
   "outputs": [],
   "source": [
    "model = mlp_regression.MLPRegression(dims, activations, learning_rate=0.001)"
   ]
  },
  {
   "cell_type": "code",
   "execution_count": null,
   "metadata": {
    "collapsed": false
   },
   "outputs": [],
   "source": [
    "model.predict(X_train[0:10])"
   ]
  },
  {
   "cell_type": "code",
   "execution_count": null,
   "metadata": {
    "collapsed": false
   },
   "outputs": [],
   "source": [
    "y_train[0:10].ndim"
   ]
  },
  {
   "cell_type": "code",
   "execution_count": null,
   "metadata": {
    "collapsed": false
   },
   "outputs": [],
   "source": [
    "#Fits the current minibatch and returns the cost for the current minibatch\n",
    "model.tfunc_fit_mini_batch(X_train[0:10], y_train[0:10])"
   ]
  },
  {
   "cell_type": "code",
   "execution_count": null,
   "metadata": {
    "collapsed": false
   },
   "outputs": [],
   "source": [
    "model.predict(X_train[0:3])"
   ]
  },
  {
   "cell_type": "code",
   "execution_count": null,
   "metadata": {
    "collapsed": false
   },
   "outputs": [],
   "source": [
    "model.tfunc_fit_mini_batch(X_train[0:10], y_train[0:10])"
   ]
  },
  {
   "cell_type": "code",
   "execution_count": null,
   "metadata": {
    "collapsed": false
   },
   "outputs": [],
   "source": [
    "model.predict(X_train[0:10])"
   ]
  },
  {
   "cell_type": "code",
   "execution_count": null,
   "metadata": {
    "collapsed": false
   },
   "outputs": [],
   "source": [
    "model.learning_rate"
   ]
  },
  {
   "cell_type": "code",
   "execution_count": null,
   "metadata": {
    "collapsed": true
   },
   "outputs": [],
   "source": []
  },
  {
   "cell_type": "code",
   "execution_count": null,
   "metadata": {
    "collapsed": true
   },
   "outputs": [],
   "source": []
  },
  {
   "cell_type": "code",
   "execution_count": null,
   "metadata": {
    "collapsed": true
   },
   "outputs": [],
   "source": []
  },
  {
   "cell_type": "code",
   "execution_count": null,
   "metadata": {
    "collapsed": true
   },
   "outputs": [],
   "source": []
  },
  {
   "cell_type": "code",
   "execution_count": null,
   "metadata": {
    "collapsed": true
   },
   "outputs": [],
   "source": []
  },
  {
   "cell_type": "code",
   "execution_count": null,
   "metadata": {
    "collapsed": true
   },
   "outputs": [],
   "source": []
  },
  {
   "cell_type": "code",
   "execution_count": null,
   "metadata": {
    "collapsed": true
   },
   "outputs": [],
   "source": []
  },
  {
   "cell_type": "code",
   "execution_count": null,
   "metadata": {
    "collapsed": true
   },
   "outputs": [],
   "source": []
  },
  {
   "cell_type": "code",
   "execution_count": null,
   "metadata": {
    "collapsed": true
   },
   "outputs": [],
   "source": []
  },
  {
   "cell_type": "code",
   "execution_count": null,
   "metadata": {
    "collapsed": true
   },
   "outputs": [],
   "source": []
  },
  {
   "cell_type": "code",
   "execution_count": null,
   "metadata": {
    "collapsed": true
   },
   "outputs": [],
   "source": []
  },
  {
   "cell_type": "code",
   "execution_count": null,
   "metadata": {
    "collapsed": true
   },
   "outputs": [],
   "source": []
  },
  {
   "cell_type": "markdown",
   "metadata": {
    "collapsed": true
   },
   "source": [
    "### 2 Layer MLP "
   ]
  },
  {
   "cell_type": "code",
   "execution_count": null,
   "metadata": {
    "collapsed": true
   },
   "outputs": [],
   "source": [
    "import theano\n",
    "from theano import tensor as T\n",
    "\n",
    "def floatX(X):\n",
    "    return np.asarray(X, dtype=theano.config.floatX)\n",
    "\n",
    "def relu(X):\n",
    "    return T.maximum(X, 0.)\n",
    "\n",
    "\n",
    "def updates_sgd(cost, params):\n",
    "    \"\"\"\n",
    "    Method used to define a list of symbolic updates for theano\n",
    "    \"\"\"\n",
    "    grads = theano.tensor.grad(cost=cost, wrt=params)\n",
    "    updates = []\n",
    "    for param,grad in zip(params, grads):\n",
    "        updates.append([param, param - grad * 0.01 ])\n",
    "\n",
    "    return updates"
   ]
  },
  {
   "cell_type": "code",
   "execution_count": null,
   "metadata": {
    "collapsed": false
   },
   "outputs": [],
   "source": [
    "n_features = X_train.shape[1]\n",
    "n_hid = 200\n",
    "n_out = 1\n",
    "\n",
    "sha_W1 = theano.shared(floatX(np.random.normal(np.zeros((n_features,n_hid)), scale=0.1)/np.sqrt(n_features)))\n",
    "sha_b1 = theano.shared(floatX(np.zeros(n_hid)))\n",
    "\n",
    "sha_W2 = theano.shared(floatX(np.random.normal(np.zeros((n_hid,n_out)), scale=0.1)/np.sqrt(n_out)))\n",
    "sha_b2 = theano.shared(floatX(np.zeros(1)))\n",
    "\n",
    "params = [sha_W1, sha_b1, sha_W2, sha_b2]\n",
    "\n",
    "sym_Xbatch = T.matrix(\"sym_Xbatch\")\n",
    "sym_Ybatch = T.matrix(\"sym_Ybatch\")\n",
    "\n",
    "sym_out = T.dot(relu(T.dot(sym_Xbatch, sha_W1) + sha_b1), sha_W2) + sha_b2\n",
    "sym_cost = T.mean((sym_out - sym_Ybatch)**2)\n",
    "sym_updates = updates_sgd(sym_cost, params)\n",
    "\n",
    "tfunc_fitbatch = theano.function(inputs=[sym_Xbatch, sym_Ybatch], \n",
    "                                 outputs=sym_cost,\n",
    "                                 updates=sym_updates,\n",
    "                                 allow_input_downcast = True)\n",
    "\n",
    "\n",
    "tfunc_output = theano.function(inputs=[sym_Xbatch], \n",
    "                                outputs=[sym_out,], \n",
    "                                 allow_input_downcast = True)\n"
   ]
  },
  {
   "cell_type": "code",
   "execution_count": null,
   "metadata": {
    "collapsed": false
   },
   "outputs": [],
   "source": [
    "#sym_out.eval({\"sym_Xbatch\":X_train[0:100]})"
   ]
  },
  {
   "cell_type": "code",
   "execution_count": null,
   "metadata": {
    "collapsed": false
   },
   "outputs": [],
   "source": [
    "tfunc_output(X_train[0:2])"
   ]
  },
  {
   "cell_type": "code",
   "execution_count": null,
   "metadata": {
    "collapsed": true
   },
   "outputs": [],
   "source": [
    "X_train = sklearn.preprocessing.minmax_scale(X_train)"
   ]
  },
  {
   "cell_type": "code",
   "execution_count": null,
   "metadata": {
    "collapsed": true
   },
   "outputs": [],
   "source": [
    "import sys\n",
    "cost_evo = []\n",
    "for i in range(1000):\n",
    "    cost_evo.append(tfunc_fitbatch(X_train[0:100], y_train[0:100]))"
   ]
  }
 ],
 "metadata": {
  "anaconda-cloud": {},
  "kernelspec": {
   "display_name": "Python 3",
   "language": "python",
   "name": "python3"
  },
  "language_info": {
   "codemirror_mode": {
    "name": "ipython",
    "version": 3
   },
   "file_extension": ".py",
   "mimetype": "text/x-python",
   "name": "python",
   "nbconvert_exporter": "python",
   "pygments_lexer": "ipython3",
   "version": "3.5.2"
  }
 },
 "nbformat": 4,
 "nbformat_minor": 0
}
