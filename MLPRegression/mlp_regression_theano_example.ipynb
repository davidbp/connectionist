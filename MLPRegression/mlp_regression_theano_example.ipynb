{
 "cells": [
  {
   "cell_type": "markdown",
   "metadata": {},
   "source": [
    "## Building a multilayer perceptron for regression in theano"
   ]
  },
  {
   "cell_type": "code",
   "execution_count": 1,
   "metadata": {
    "collapsed": false,
    "scrolled": true
   },
   "outputs": [],
   "source": [
    "import theano\n",
    "import numpy as np\n",
    "import pandas as pd\n",
    "\n",
    "%matplotlib inline\n",
    "%load_ext autoreload\n",
    "%autoreload 2"
   ]
  },
  {
   "cell_type": "code",
   "execution_count": 2,
   "metadata": {
    "collapsed": false
   },
   "outputs": [],
   "source": [
    "import sklearn\n",
    "from sklearn import datasets\n",
    "from sklearn import model_selection\n",
    "cali_housing = sklearn.datasets.california_housing.fetch_california_housing()\n",
    "\n",
    "X = cali_housing.data\n",
    "y = cali_housing.target\n",
    "Xy = np.vstack((X.T,y)).T\n",
    "\n",
    "features_and_target = cali_housing.feature_names + [\"target\"]\n",
    "features_to_retrieve = cali_housing.feature_names\n",
    "target_feature = [\"target\"]\n",
    "Xy_df = pd.DataFrame(Xy, columns=features_and_target)"
   ]
  },
  {
   "cell_type": "code",
   "execution_count": 3,
   "metadata": {
    "collapsed": false
   },
   "outputs": [
    {
     "data": {
      "text/plain": [
       "(20640, 8)"
      ]
     },
     "execution_count": 3,
     "metadata": {},
     "output_type": "execute_result"
    }
   ],
   "source": [
    "cali_housing.data.shape"
   ]
  },
  {
   "cell_type": "code",
   "execution_count": 4,
   "metadata": {
    "collapsed": false
   },
   "outputs": [],
   "source": [
    "features = ['MedInc', 'HouseAge', 'AveRooms', 'AveBedrms', 'Population',\n",
    "            'AveOccup', 'Latitude', 'Longitude']\n",
    "\n",
    "target = ['target']"
   ]
  },
  {
   "cell_type": "code",
   "execution_count": 5,
   "metadata": {
    "collapsed": true
   },
   "outputs": [],
   "source": [
    "X_train = np.array(Xy_df[features].as_matrix(),dtype=\"float32\")\n",
    "y_train = np.array(Xy_df[target].as_matrix(),dtype=\"float32\")\n",
    "X_train = sklearn.preprocessing.minmax_scale(X_train)\n",
    "\n",
    "X_train, X_test, y_train, y_test =sklearn.model_selection.train_test_split(X_train, y_train)"
   ]
  },
  {
   "cell_type": "markdown",
   "metadata": {},
   "source": [
    "## Testing MLP regression"
   ]
  },
  {
   "cell_type": "code",
   "execution_count": 236,
   "metadata": {
    "collapsed": false
   },
   "outputs": [],
   "source": [
    "#Dropout\n",
    "import matplotlib\n",
    "from matplotlib import pyplot as plt\n",
    "import mlp_regression\n",
    "import sys\n",
    "\n",
    "n_epochs = 300\n",
    "batch_size = 200"
   ]
  },
  {
   "cell_type": "markdown",
   "metadata": {},
   "source": [
    "#### Train with dropout"
   ]
  },
  {
   "cell_type": "code",
   "execution_count": 237,
   "metadata": {
    "collapsed": false
   },
   "outputs": [],
   "source": [
    "permutation = np.array(range(0,100))"
   ]
  },
  {
   "cell_type": "code",
   "execution_count": 238,
   "metadata": {
    "collapsed": false
   },
   "outputs": [],
   "source": [
    "ind = np.random.permutation(100)"
   ]
  },
  {
   "cell_type": "code",
   "execution_count": 257,
   "metadata": {
    "collapsed": false
   },
   "outputs": [],
   "source": [
    "n_features = len(features)\n",
    "dims = [n_features, 400, 400, 1]\n",
    "activations = [\"relu\", \"relu\", \"identity\"]\n",
    "\n",
    "model = mlp_regression.MLPRegression(dims,\n",
    "                                     activations=activations, \n",
    "                                     learning_rate=0.001,\n",
    "                                     dropout_prob=0.5,\n",
    "                                     loss='mean_squared_error',\n",
    "                                     batch_size=200,\n",
    "                                     seed=1234)"
   ]
  },
  {
   "cell_type": "code",
   "execution_count": 258,
   "metadata": {
    "collapsed": false,
    "scrolled": false
   },
   "outputs": [],
   "source": [
    "model.fit(X_train, y_train, X_val=X_test, y_val=y_test, n_epochs = 1000)"
   ]
  },
  {
   "cell_type": "code",
   "execution_count": 259,
   "metadata": {
    "collapsed": false
   },
   "outputs": [
    {
     "name": "stderr",
     "output_type": "stream",
     "text": [
      "/Users/macpro/Documents/git_stuff/connectionist/MLPRegression/mlp_regression.py:117: SyntaxWarning: assertion is always true, perhaps remove parentheses?\n",
      "  assert(activation in implemented_activations, 'One of the activations was not allowed')\n"
     ]
    },
    {
     "data": {
      "text/plain": [
       "[<matplotlib.lines.Line2D at 0x122fddf60>]"
      ]
     },
     "execution_count": 259,
     "metadata": {},
     "output_type": "execute_result"
    },
    {
     "data": {
      "image/png": "[encoded data removed]",
      "text/plain": [
       "<matplotlib.figure.Figure at 0x122fddb70>"
      ]
     },
     "metadata": {},
     "output_type": "display_data"
    }
   ],
   "source": [
    "plt.plot(model.loss_curve_)\n",
    "plt.plot(model.loss_curve_validation_)"
   ]
  },
  {
   "cell_type": "code",
   "execution_count": 260,
   "metadata": {
    "collapsed": true
   },
   "outputs": [],
   "source": [
    "n_features = len(features)\n",
    "dims = [n_features, 400, 400, 1]\n",
    "activations = [\"relu\", \"relu\", \"identity\"]\n",
    "\n",
    "model_nodropout = mlp_regression.MLPRegression(dims,\n",
    "                                     activations=activations, \n",
    "                                     learning_rate=0.01,\n",
    "                                     dropout_prob=-1,\n",
    "                                     loss='mean_squared_error')"
   ]
  },
  {
   "cell_type": "code",
   "execution_count": 261,
   "metadata": {
    "collapsed": true
   },
   "outputs": [],
   "source": [
    "model_nodropout.fit(X_train, y_train, X_val=X_test, y_val=y_test, n_epochs = 1000)"
   ]
  },
  {
   "cell_type": "code",
   "execution_count": 262,
   "metadata": {
    "collapsed": false
   },
   "outputs": [
    {
     "data": {
      "text/plain": [
       "[<matplotlib.lines.Line2D at 0x127502978>]"
      ]
     },
     "execution_count": 262,
     "metadata": {},
     "output_type": "execute_result"
    },
    {
     "data": {
      "image/png": "[encoded data removed]",
      "text/plain": [
       "<matplotlib.figure.Figure at 0x127502940>"
      ]
     },
     "metadata": {},
     "output_type": "display_data"
    }
   ],
   "source": [
    "plt.plot(model_nodropout.loss_curve_)\n",
    "plt.plot(model_nodropout.loss_curve_validation_)"
   ]
  },
  {
   "cell_type": "code",
   "execution_count": 263,
   "metadata": {
    "collapsed": false
   },
   "outputs": [
    {
     "data": {
      "text/plain": [
       "[<matplotlib.lines.Line2D at 0x11bc2c7f0>]"
      ]
     },
     "execution_count": 263,
     "metadata": {},
     "output_type": "execute_result"
    },
    {
     "data": {
      "image/png": "[encoded data removed]",
      "text/plain": [
       "<matplotlib.figure.Figure at 0x126e7f3c8>"
      ]
     },
     "metadata": {},
     "output_type": "display_data"
    }
   ],
   "source": [
    "plt.plot(model_nodropout.loss_curve_)\n",
    "plt.plot(model_nodropout.loss_curve_validation_)\n",
    "\n",
    "plt.plot(model.loss_curve_)\n",
    "plt.plot(model.loss_curve_validation_)"
   ]
  },
  {
   "cell_type": "markdown",
   "metadata": {},
   "source": [
    "## Beeing bigger"
   ]
  },
  {
   "cell_type": "code",
   "execution_count": null,
   "metadata": {
    "collapsed": true
   },
   "outputs": [],
   "source": []
  },
  {
   "cell_type": "markdown",
   "metadata": {},
   "source": [
    "## Comparison vs sklearn MLPRegressor"
   ]
  },
  {
   "cell_type": "code",
   "execution_count": 53,
   "metadata": {
    "collapsed": true
   },
   "outputs": [],
   "source": [
    "from sklearn.neural_network import MLPRegressor "
   ]
  },
  {
   "cell_type": "code",
   "execution_count": 54,
   "metadata": {
    "collapsed": true
   },
   "outputs": [],
   "source": [
    "mlp = MLPRegressor()"
   ]
  },
  {
   "cell_type": "code",
   "execution_count": 56,
   "metadata": {
    "collapsed": false
   },
   "outputs": [
    {
     "name": "stderr",
     "output_type": "stream",
     "text": [
      "/Users/macpro/anaconda/lib/python3.5/site-packages/sklearn/neural_network/multilayer_perceptron.py:1266: DataConversionWarning: A column-vector y was passed when a 1d array was expected. Please change the shape of y to (n_samples, ), for example using ravel().\n",
      "  y = column_or_1d(y, warn=True)\n"
     ]
    },
    {
     "data": {
      "text/plain": [
       "MLPRegressor(activation='relu', alpha=0.0001, batch_size='auto', beta_1=0.9,\n",
       "       beta_2=0.999, early_stopping=False, epsilon=1e-08,\n",
       "       hidden_layer_sizes=(100,), learning_rate='constant',\n",
       "       learning_rate_init=0.001, max_iter=200, momentum=0.9,\n",
       "       nesterovs_momentum=True, power_t=0.5, random_state=None,\n",
       "       shuffle=True, solver='adam', tol=0.0001, validation_fraction=0.1,\n",
       "       verbose=False, warm_start=False)"
      ]
     },
     "execution_count": 56,
     "metadata": {},
     "output_type": "execute_result"
    }
   ],
   "source": [
    "mlp.fit(X_train,y_train)"
   ]
  },
  {
   "cell_type": "code",
   "execution_count": 57,
   "metadata": {
    "collapsed": false
   },
   "outputs": [
    {
     "data": {
      "text/plain": [
       "[1.8818491229228409,\n",
       " 0.60457715077057128,\n",
       " 0.539166883420786,\n",
       " 0.46837063088155534,\n",
       " 0.3936674152639823,\n",
       " 0.33738013329176836,\n",
       " 0.30839365331203022,\n",
       " 0.2956813773012259,\n",
       " 0.28938668968159936,\n",
       " 0.28545420073306244,\n",
       " 0.28208911590652153,\n",
       " 0.27868526370490287,\n",
       " 0.27630153616869629,\n",
       " 0.27398657732642384,\n",
       " 0.27129171333552071,\n",
       " 0.26908820008763901,\n",
       " 0.26651668200493533,\n",
       " 0.26455072146424741,\n",
       " 0.26266967066740132,\n",
       " 0.26106588176016488,\n",
       " 0.25955359553436957,\n",
       " 0.2581067395826791,\n",
       " 0.25628752686006684,\n",
       " 0.25544448712637569,\n",
       " 0.25375824863526736,\n",
       " 0.25247210690923655,\n",
       " 0.25125998119160825,\n",
       " 0.25038903070128898,\n",
       " 0.24984716339405483,\n",
       " 0.24853703904244287,\n",
       " 0.24843281449445076,\n",
       " 0.24712518862474372,\n",
       " 0.24620961590597343,\n",
       " 0.24537851177095829,\n",
       " 0.24479563383790068,\n",
       " 0.24447119698328793,\n",
       " 0.24363782495542877,\n",
       " 0.2426425320319649,\n",
       " 0.24223513668169788,\n",
       " 0.24139138211210115,\n",
       " 0.24077345558450527,\n",
       " 0.23987416757163574,\n",
       " 0.23996253691062136,\n",
       " 0.23870092497855078,\n",
       " 0.23797048080345948,\n",
       " 0.23742260980318283,\n",
       " 0.23701214771629356,\n",
       " 0.23642203082549224,\n",
       " 0.23550936928928917,\n",
       " 0.2350440269128328,\n",
       " 0.23440204441512871,\n",
       " 0.23378860413095712,\n",
       " 0.23361612459496084,\n",
       " 0.23254528421720314,\n",
       " 0.23292937979290837,\n",
       " 0.23285255915906133,\n",
       " 0.23139022183650806,\n",
       " 0.23144770556686406,\n",
       " 0.23044823050797045,\n",
       " 0.22985727928108915,\n",
       " 0.22900892105257581,\n",
       " 0.22879623177825115,\n",
       " 0.22894456993132342,\n",
       " 0.22811857611444641,\n",
       " 0.22763630368520785,\n",
       " 0.22664889523523513,\n",
       " 0.22619472325656559,\n",
       " 0.22582151369440598,\n",
       " 0.22530427563438049,\n",
       " 0.22525820627046433,\n",
       " 0.22461307021803781,\n",
       " 0.22395091330628211,\n",
       " 0.22372484521059585,\n",
       " 0.2234944391711432,\n",
       " 0.22324764923552634,\n",
       " 0.22237320001023717,\n",
       " 0.22212632506497076,\n",
       " 0.22196622672880886,\n",
       " 0.22182132922207873,\n",
       " 0.22197653741988321,\n",
       " 0.22070235415947412,\n",
       " 0.2202739836556227,\n",
       " 0.21969012306554947,\n",
       " 0.21930860614737879,\n",
       " 0.21966401451632259,\n",
       " 0.21954145417089141,\n",
       " 0.2178311145750228,\n",
       " 0.21774303922654661,\n",
       " 0.2170951330305281,\n",
       " 0.21685759783248998,\n",
       " 0.21707164285631797,\n",
       " 0.21699327039537303,\n",
       " 0.21691564031564289]"
      ]
     },
     "execution_count": 57,
     "metadata": {},
     "output_type": "execute_result"
    }
   ],
   "source": [
    "mlp.loss_curve_"
   ]
  },
  {
   "cell_type": "markdown",
   "metadata": {},
   "source": [
    "### MLP using partial fit\n",
    "\n",
    "- The code allows to build a custom loop over the data and train in minibatches.\n",
    "\n",
    "- In fact this is what the fit function does"
   ]
  },
  {
   "cell_type": "code",
   "execution_count": 195,
   "metadata": {
    "collapsed": false,
    "scrolled": false
   },
   "outputs": [
    {
     "name": "stderr",
     "output_type": "stream",
     "text": [
      "/home/david/Documents/git_stuff/connectionist/MLPRegression/mlp_regression.py:107: SyntaxWarning: assertion is always true, perhaps remove parentheses?\n",
      "  assert(activation in implemented_activations, 'One of the activations was not allowed')\n"
     ]
    }
   ],
   "source": [
    "n_features = len(features)\n",
    "dims = [n_features, 400, 400, 1]\n",
    "activations = [\"relu\", \"relu\", \"identity\"]\n",
    "\n",
    "model = mlp_regression.MLPRegression(dims,\n",
    "                                     activations=activations, \n",
    "                                     learning_rate=0.005,\n",
    "                                     dropout_prob=0.05)\n",
    "\n",
    "n_samples = X_train.shape[0]\n",
    "n_batches = n_samples // batch_size \n",
    "\n",
    "cost_evolution = []\n",
    "cost_test_evolution = []\n",
    "cost_train_evolution = []\n",
    "\n",
    "for i in range(n_epochs):\n",
    "    cost_minibatch = 0\n",
    "    n_batches = 0\n",
    "    for ind in range(0, n_samples, batch_size):\n",
    "        n_batches += 1\n",
    "        cost_minibatch += model.partial_fit(X_train[ind:ind+batch_size], \n",
    "                                            y_train[ind:ind+batch_size])\n",
    "    \n",
    "    cost_test_evolution.append(model.compute_cost_(X_test, y_test))\n",
    "    cost_train_evolution.append(model.compute_cost_(X_train, y_train))\n",
    "\n",
    "    cost_evolution.append(cost_minibatch/n_batches )\n",
    "    #print (cost_minibatch/n_batches)"
   ]
  },
  {
   "cell_type": "code",
   "execution_count": 196,
   "metadata": {
    "collapsed": false
   },
   "outputs": [
    {
     "data": {
      "text/plain": [
       "[<matplotlib.lines.Line2D at 0x7f8829d200b8>]"
      ]
     },
     "execution_count": 196,
     "metadata": {},
     "output_type": "execute_result"
    },
    {
     "data": {
      "image/png": "[encoded data removed]",
      "text/plain": [
       "<matplotlib.figure.Figure at 0x7f8829f347b8>"
      ]
     },
     "metadata": {},
     "output_type": "display_data"
    }
   ],
   "source": [
    "plt.plot(cost_evolution,\"--\")\n",
    "plt.plot(cost_test_evolution,\"-\")"
   ]
  },
  {
   "cell_type": "code",
   "execution_count": 197,
   "metadata": {
    "collapsed": false
   },
   "outputs": [],
   "source": [
    "srng = theano.tensor.shared_randomstreams.RandomStreams()"
   ]
  },
  {
   "cell_type": "code",
   "execution_count": 175,
   "metadata": {
    "collapsed": false
   },
   "outputs": [],
   "source": [
    "p=0.3\n",
    "mask = srng.binomial(n=1, p=1-p, size=list([5]), dtype= theano.config.floatX)"
   ]
  },
  {
   "cell_type": "code",
   "execution_count": 176,
   "metadata": {
    "collapsed": false
   },
   "outputs": [
    {
     "data": {
      "text/plain": [
       "array([0, 0, 0, 1, 0, 0, 0, 0, 0, 0, 0, 0, 0, 0, 1, 0, 0, 0, 0, 1])"
      ]
     },
     "execution_count": 176,
     "metadata": {},
     "output_type": "execute_result"
    }
   ],
   "source": [
    "srng.binomial(n=1, p=0.1, size=[20]).eval()"
   ]
  },
  {
   "cell_type": "code",
   "execution_count": 177,
   "metadata": {
    "collapsed": false
   },
   "outputs": [
    {
     "data": {
      "text/plain": [
       "array([23, 24, 21])"
      ]
     },
     "execution_count": 177,
     "metadata": {},
     "output_type": "execute_result"
    }
   ],
   "source": [
    "srng.binomial(n=1, p=0.2, size=[3,100]).eval().sum(axis=1)"
   ]
  },
  {
   "cell_type": "code",
   "execution_count": 178,
   "metadata": {
    "collapsed": false
   },
   "outputs": [
    {
     "name": "stdout",
     "output_type": "stream",
     "text": [
      "Help on method binomial in module theano.tensor.raw_random:\n",
      "\n",
      "binomial(size=None, n=1, p=0.5, ndim=None, dtype='int64', prob=None) method of theano.tensor.shared_randomstreams.RandomStreams instance\n",
      "    Sample n times with probability of success p for each trial and\n",
      "    return the number of successes.\n",
      "    \n",
      "    If the size argument is ambiguous on the number of dimensions,\n",
      "    ndim may be a plain integer to supplement the missing information.\n",
      "\n"
     ]
    }
   ],
   "source": [
    "help(srng.binomial)"
   ]
  },
  {
   "cell_type": "markdown",
   "metadata": {},
   "source": [
    "#### Train without dropot"
   ]
  },
  {
   "cell_type": "code",
   "execution_count": 185,
   "metadata": {
    "collapsed": false
   },
   "outputs": [],
   "source": [
    "n_features = len(features)\n",
    "dims = [n_features, 400, 400, 1]\n",
    "activations = [\"relu\", \"relu\", \"identity\"]\n",
    "\n",
    "model = mlp_regression.MLPRegression(dims, \n",
    "                                     activations=activations , \n",
    "                                     learning_rate=0.005,\n",
    "                                     dropout_prob=-1)\n",
    "\n",
    "n_samples = X_train.shape[0]\n",
    "batch_size = 200\n",
    "n_batches = n_samples // batch_size \n",
    "\n",
    "import sys\n",
    "cost_evolution_nodropout = []\n",
    "cost_test_evolution_nodropout = []\n",
    "\n",
    "for i in range(n_epochs):\n",
    "    cost_minibatch =0\n",
    "    n_batches = 0\n",
    "    for ind in range(0, n_samples, batch_size):\n",
    "        n_batches +=1\n",
    "        cost_minibatch += model.partial_fit(X_train[ind:ind+batch_size], \n",
    "                                            y_train[ind:ind+batch_size])\n",
    "    \n",
    "    cost_test_evolution_nodropout.append(model.compute_cost_(X_test, y_test))\n",
    "    cost_evolution_nodropout.append(cost_minibatch/n_batches )\n",
    "    #print (cost_minibatch/n_batches)"
   ]
  },
  {
   "cell_type": "code",
   "execution_count": 194,
   "metadata": {
    "collapsed": false
   },
   "outputs": [
    {
     "data": {
      "text/plain": [
       "[<matplotlib.lines.Line2D at 0x7f8829cde1d0>]"
      ]
     },
     "execution_count": 194,
     "metadata": {},
     "output_type": "execute_result"
    },
    {
     "data": {
      "image/png": "[encoded data removed]",
      "text/plain": [
       "<matplotlib.figure.Figure at 0x7f882ab824e0>"
      ]
     },
     "metadata": {},
     "output_type": "display_data"
    }
   ],
   "source": [
    "plt.plot(cost_evolution_nodropout[10:],\"-\", color='black')\n",
    "plt.plot(cost_test_evolution_nodropout[10:],\"--\",color='black')\n",
    "\n",
    "plt.plot(cost_evolution[10:],\"-\", color='red')\n",
    "plt.plot(cost_test_evolution[10:],\"--\", color='red')"
   ]
  },
  {
   "cell_type": "code",
   "execution_count": null,
   "metadata": {
    "collapsed": true
   },
   "outputs": [],
   "source": [
    "sklearn.loss"
   ]
  },
  {
   "cell_type": "code",
   "execution_count": null,
   "metadata": {
    "collapsed": true
   },
   "outputs": [],
   "source": []
  },
  {
   "cell_type": "code",
   "execution_count": null,
   "metadata": {
    "collapsed": true
   },
   "outputs": [],
   "source": []
  },
  {
   "cell_type": "code",
   "execution_count": null,
   "metadata": {
    "collapsed": true
   },
   "outputs": [],
   "source": []
  },
  {
   "cell_type": "code",
   "execution_count": null,
   "metadata": {
    "collapsed": true
   },
   "outputs": [],
   "source": []
  },
  {
   "cell_type": "code",
   "execution_count": null,
   "metadata": {
    "collapsed": true
   },
   "outputs": [],
   "source": []
  },
  {
   "cell_type": "code",
   "execution_count": null,
   "metadata": {
    "collapsed": true
   },
   "outputs": [],
   "source": []
  },
  {
   "cell_type": "code",
   "execution_count": null,
   "metadata": {
    "collapsed": true
   },
   "outputs": [],
   "source": []
  },
  {
   "cell_type": "code",
   "execution_count": 270,
   "metadata": {
    "collapsed": false
   },
   "outputs": [
    {
     "name": "stderr",
     "output_type": "stream",
     "text": [
      "/home/david/Documents/git_stuff/connectionist/MLPRegression/mlp_regression.py:93: SyntaxWarning: assertion is always true, perhaps remove parentheses?\n",
      "  assert(activation in implemented_activations, 'One of the activations was not allowed')\n"
     ]
    }
   ],
   "source": [
    "import mlp_regression"
   ]
  },
  {
   "cell_type": "code",
   "execution_count": 271,
   "metadata": {
    "collapsed": true
   },
   "outputs": [],
   "source": [
    "n_features = len(features)"
   ]
  },
  {
   "cell_type": "code",
   "execution_count": 272,
   "metadata": {
    "collapsed": true
   },
   "outputs": [],
   "source": [
    "dims = [n_features, 200, 100, 1]\n",
    "activations = [\"relu\", \"relu\", \"identity\"]"
   ]
  },
  {
   "cell_type": "code",
   "execution_count": 273,
   "metadata": {
    "collapsed": false
   },
   "outputs": [],
   "source": [
    "model = mlp_regression.MLPRegression(dims, activations, learning_rate=0.0001)"
   ]
  },
  {
   "cell_type": "code",
   "execution_count": 274,
   "metadata": {
    "collapsed": false
   },
   "outputs": [
    {
     "data": {
      "text/plain": [
       "array([[ 0.98005003],\n",
       "       [ 5.79990864],\n",
       "       [ 1.40946817],\n",
       "       [ 1.56663454],\n",
       "       [ 1.57885885]], dtype=float32)"
      ]
     },
     "execution_count": 274,
     "metadata": {},
     "output_type": "execute_result"
    }
   ],
   "source": [
    "model.predict(Xy_df[features][0:5])"
   ]
  },
  {
   "cell_type": "markdown",
   "metadata": {},
   "source": [
    "### Computing MSE\n",
    "\n",
    "- Check that MSE is computed correctly"
   ]
  },
  {
   "cell_type": "code",
   "execution_count": 275,
   "metadata": {
    "collapsed": false
   },
   "outputs": [
    {
     "data": {
      "text/plain": [
       "<function sklearn.metrics.regression.mean_squared_error>"
      ]
     },
     "execution_count": 275,
     "metadata": {},
     "output_type": "execute_result"
    }
   ],
   "source": [
    "from sklearn import metrics\n",
    "sklearn.metrics.mean_squared_error"
   ]
  },
  {
   "cell_type": "code",
   "execution_count": 276,
   "metadata": {
    "collapsed": false
   },
   "outputs": [
    {
     "data": {
      "text/plain": [
       "5.748876570565681"
      ]
     },
     "execution_count": 276,
     "metadata": {},
     "output_type": "execute_result"
    }
   ],
   "source": [
    "yhat = model.predict(Xy_df[features][0:5])\n",
    "y = Xy_df[target][0:5]\n",
    "sklearn.metrics.mean_squared_error(yhat.flatten(), y)"
   ]
  },
  {
   "cell_type": "code",
   "execution_count": 277,
   "metadata": {
    "collapsed": false
   },
   "outputs": [
    {
     "data": {
      "text/plain": [
       "array(5.74887633504458)"
      ]
     },
     "execution_count": 277,
     "metadata": {},
     "output_type": "execute_result"
    }
   ],
   "source": [
    "model.compute_cost(Xy_df[features][0:5], Xy_df[target][0:5])"
   ]
  },
  {
   "cell_type": "code",
   "execution_count": 278,
   "metadata": {
    "collapsed": false
   },
   "outputs": [
    {
     "data": {
      "text/plain": [
       "mean"
      ]
     },
     "execution_count": 278,
     "metadata": {},
     "output_type": "execute_result"
    }
   ],
   "source": [
    "model.compute_sym_cost(Xy_df[features][0:5], Xy_df[target][0:5])"
   ]
  },
  {
   "cell_type": "markdown",
   "metadata": {},
   "source": [
    "### Learning: testing fitting minibatch"
   ]
  },
  {
   "cell_type": "code",
   "execution_count": 279,
   "metadata": {
    "collapsed": false
   },
   "outputs": [
    {
     "data": {
      "text/plain": [
       "array([100,   1])"
      ]
     },
     "execution_count": 279,
     "metadata": {},
     "output_type": "execute_result"
    }
   ],
   "source": [
    "model.W[2].shape.eval()"
   ]
  },
  {
   "cell_type": "code",
   "execution_count": 280,
   "metadata": {
    "collapsed": false
   },
   "outputs": [],
   "source": [
    "model = mlp_regression.MLPRegression(dims, activations, learning_rate=0.001)"
   ]
  },
  {
   "cell_type": "code",
   "execution_count": 281,
   "metadata": {
    "collapsed": false
   },
   "outputs": [
    {
     "data": {
      "text/plain": [
       "array([[ 0.98005003],\n",
       "       [ 5.79990864],\n",
       "       [ 1.40946817],\n",
       "       [ 1.56663454],\n",
       "       [ 1.57885885],\n",
       "       [ 1.20202112],\n",
       "       [ 2.81579208],\n",
       "       [ 2.95755386],\n",
       "       [ 3.05576658],\n",
       "       [ 3.84980774]], dtype=float32)"
      ]
     },
     "execution_count": 281,
     "metadata": {},
     "output_type": "execute_result"
    }
   ],
   "source": [
    "model.predict(X_train[0:10])"
   ]
  },
  {
   "cell_type": "code",
   "execution_count": 282,
   "metadata": {
    "collapsed": false
   },
   "outputs": [
    {
     "data": {
      "text/plain": [
       "2"
      ]
     },
     "execution_count": 282,
     "metadata": {},
     "output_type": "execute_result"
    }
   ],
   "source": [
    "y_train[0:10].ndim"
   ]
  },
  {
   "cell_type": "code",
   "execution_count": 283,
   "metadata": {
    "collapsed": false
   },
   "outputs": [
    {
     "data": {
      "text/plain": [
       "array(3.346264362335205, dtype=float32)"
      ]
     },
     "execution_count": 283,
     "metadata": {},
     "output_type": "execute_result"
    }
   ],
   "source": [
    "#Fits the current minibatch and returns the cost for the current minibatch\n",
    "model.tfunc_fit_mini_batch(X_train[0:10], y_train[0:10])"
   ]
  },
  {
   "cell_type": "code",
   "execution_count": 284,
   "metadata": {
    "collapsed": false
   },
   "outputs": [
    {
     "data": {
      "text/plain": [
       "array([[ -1.03016376],\n",
       "       [-11.15286541],\n",
       "       [ -1.87665629]], dtype=float32)"
      ]
     },
     "execution_count": 284,
     "metadata": {},
     "output_type": "execute_result"
    }
   ],
   "source": [
    "model.predict(X_train[0:3])"
   ]
  },
  {
   "cell_type": "code",
   "execution_count": 285,
   "metadata": {
    "collapsed": false
   },
   "outputs": [
    {
     "data": {
      "text/plain": [
       "array(62.179298400878906, dtype=float32)"
      ]
     },
     "execution_count": 285,
     "metadata": {},
     "output_type": "execute_result"
    }
   ],
   "source": [
    "model.tfunc_fit_mini_batch(X_train[0:10], y_train[0:10])"
   ]
  },
  {
   "cell_type": "code",
   "execution_count": 286,
   "metadata": {
    "collapsed": false
   },
   "outputs": [
    {
     "data": {
      "text/plain": [
       "array([[  34.44775772],\n",
       "       [ 239.35980225],\n",
       "       [  51.73920059],\n",
       "       [  57.81995773],\n",
       "       [  58.48978043],\n",
       "       [  43.53463364],\n",
       "       [ 110.76134491],\n",
       "       [ 116.9796524 ],\n",
       "       [ 121.57762146],\n",
       "       [ 155.89840698]], dtype=float32)"
      ]
     },
     "execution_count": 286,
     "metadata": {},
     "output_type": "execute_result"
    }
   ],
   "source": [
    "model.predict(X_train[0:10])"
   ]
  },
  {
   "cell_type": "code",
   "execution_count": 287,
   "metadata": {
    "collapsed": false
   },
   "outputs": [
    {
     "data": {
      "text/plain": [
       "0.001"
      ]
     },
     "execution_count": 287,
     "metadata": {},
     "output_type": "execute_result"
    }
   ],
   "source": [
    "model.learning_rate"
   ]
  },
  {
   "cell_type": "code",
   "execution_count": null,
   "metadata": {
    "collapsed": true
   },
   "outputs": [],
   "source": []
  },
  {
   "cell_type": "code",
   "execution_count": null,
   "metadata": {
    "collapsed": true
   },
   "outputs": [],
   "source": []
  },
  {
   "cell_type": "code",
   "execution_count": null,
   "metadata": {
    "collapsed": true
   },
   "outputs": [],
   "source": []
  },
  {
   "cell_type": "code",
   "execution_count": null,
   "metadata": {
    "collapsed": true
   },
   "outputs": [],
   "source": []
  },
  {
   "cell_type": "code",
   "execution_count": null,
   "metadata": {
    "collapsed": true
   },
   "outputs": [],
   "source": []
  },
  {
   "cell_type": "code",
   "execution_count": null,
   "metadata": {
    "collapsed": true
   },
   "outputs": [],
   "source": []
  },
  {
   "cell_type": "code",
   "execution_count": null,
   "metadata": {
    "collapsed": true
   },
   "outputs": [],
   "source": []
  },
  {
   "cell_type": "code",
   "execution_count": null,
   "metadata": {
    "collapsed": true
   },
   "outputs": [],
   "source": []
  },
  {
   "cell_type": "code",
   "execution_count": null,
   "metadata": {
    "collapsed": true
   },
   "outputs": [],
   "source": []
  },
  {
   "cell_type": "code",
   "execution_count": null,
   "metadata": {
    "collapsed": true
   },
   "outputs": [],
   "source": []
  },
  {
   "cell_type": "code",
   "execution_count": null,
   "metadata": {
    "collapsed": true
   },
   "outputs": [],
   "source": []
  },
  {
   "cell_type": "code",
   "execution_count": null,
   "metadata": {
    "collapsed": true
   },
   "outputs": [],
   "source": []
  },
  {
   "cell_type": "markdown",
   "metadata": {
    "collapsed": true
   },
   "source": [
    "### 2 Layer MLP "
   ]
  },
  {
   "cell_type": "code",
   "execution_count": 133,
   "metadata": {
    "collapsed": true
   },
   "outputs": [],
   "source": [
    "import theano\n",
    "from theano import tensor as T\n",
    "\n",
    "def floatX(X):\n",
    "    return np.asarray(X, dtype=theano.config.floatX)\n",
    "\n",
    "def relu(X):\n",
    "    return T.maximum(X, 0.)\n",
    "\n",
    "\n",
    "def updates_sgd(cost, params):\n",
    "    \"\"\"\n",
    "    Method used to define a list of symbolic updates for theano\n",
    "    \"\"\"\n",
    "    grads = theano.tensor.grad(cost=cost, wrt=params)\n",
    "    updates = []\n",
    "    for param,grad in zip(params, grads):\n",
    "        updates.append([param, param - grad * 0.01 ])\n",
    "\n",
    "    return updates"
   ]
  },
  {
   "cell_type": "code",
   "execution_count": 134,
   "metadata": {
    "collapsed": false
   },
   "outputs": [],
   "source": [
    "n_features = X_train.shape[1]\n",
    "n_hid = 200\n",
    "n_out = 1\n",
    "\n",
    "sha_W1 = theano.shared(floatX(np.random.normal(np.zeros((n_features,n_hid)), scale=0.1)/np.sqrt(n_features)))\n",
    "sha_b1 = theano.shared(floatX(np.zeros(n_hid)))\n",
    "\n",
    "sha_W2 = theano.shared(floatX(np.random.normal(np.zeros((n_hid,n_out)), scale=0.1)/np.sqrt(n_out)))\n",
    "sha_b2 = theano.shared(floatX(np.zeros(1)))\n",
    "\n",
    "params = [sha_W1, sha_b1, sha_W2, sha_b2]\n",
    "\n",
    "sym_Xbatch = T.matrix(\"sym_Xbatch\")\n",
    "sym_Ybatch = T.matrix(\"sym_Ybatch\")\n",
    "\n",
    "sym_out = T.dot(relu(T.dot(sym_Xbatch, sha_W1) + sha_b1), sha_W2) + sha_b2\n",
    "sym_cost = T.mean((sym_out - sym_Ybatch)**2)\n",
    "sym_updates = updates_sgd(sym_cost, params)\n",
    "\n",
    "tfunc_fitbatch = theano.function(inputs=[sym_Xbatch, sym_Ybatch], \n",
    "                                 outputs=sym_cost,\n",
    "                                 updates=sym_updates,\n",
    "                                 allow_input_downcast = True)\n",
    "\n",
    "\n",
    "tfunc_output = theano.function(inputs=[sym_Xbatch], \n",
    "                                outputs=[sym_out,], \n",
    "                                 allow_input_downcast = True)\n"
   ]
  },
  {
   "cell_type": "code",
   "execution_count": 135,
   "metadata": {
    "collapsed": false
   },
   "outputs": [],
   "source": [
    "#sym_out.eval({\"sym_Xbatch\":X_train[0:100]})"
   ]
  },
  {
   "cell_type": "code",
   "execution_count": 136,
   "metadata": {
    "collapsed": false
   },
   "outputs": [
    {
     "data": {
      "text/plain": [
       "[array([[ 2.60931635],\n",
       "        [ 8.81646347]], dtype=float32)]"
      ]
     },
     "execution_count": 136,
     "metadata": {},
     "output_type": "execute_result"
    }
   ],
   "source": [
    "tfunc_output(X_train[0:2])"
   ]
  },
  {
   "cell_type": "code",
   "execution_count": 137,
   "metadata": {
    "collapsed": true
   },
   "outputs": [],
   "source": [
    "X_train = sklearn.preprocessing.minmax_scale(X_train)"
   ]
  },
  {
   "cell_type": "code",
   "execution_count": 138,
   "metadata": {
    "collapsed": true
   },
   "outputs": [],
   "source": [
    "import sys\n",
    "cost_evo = []\n",
    "for i in range(1000):\n",
    "    cost_evo.append(tfunc_fitbatch(X_train[0:100], y_train[0:100]))"
   ]
  }
 ],
 "metadata": {
  "anaconda-cloud": {},
  "kernelspec": {
   "display_name": "Python [Root]",
   "language": "python",
   "name": "Python [Root]"
  },
  "language_info": {
   "codemirror_mode": {
    "name": "ipython",
    "version": 3
   },
   "file_extension": ".py",
   "mimetype": "text/x-python",
   "name": "python",
   "nbconvert_exporter": "python",
   "pygments_lexer": "ipython3",
   "version": "3.5.2"
  }
 },
 "nbformat": 4,
 "nbformat_minor": 0
}
