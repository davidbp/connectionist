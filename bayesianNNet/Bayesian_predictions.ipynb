{
 "cells": [
  {
   "cell_type": "markdown",
   "metadata": {},
   "source": [
    "# Introduction to the Bayesian approach\n",
    "\n",
    "Bayesian theory can be applyed for\n",
    "- **Bayesian learning of network weights**\n",
    "- **Distribution of network outputs: regression**\n",
    "- **Distribution of network outputs: classification**\n",
    "\n",
    "#### Interesting urls\n",
    "\n",
    "- http://www.scielo.br/scielo.php?script=sci_arttext&pid=S0104-65001997000200006\n",
    "- http://twiecki.github.io/\n",
    "- http://dennisprangle.github.io/research/2016/06/07/bayesian-inference-by-neural-networks\n",
    "- general: https://www.analyticsvidhya.com/blog/2015/11/free-resources-beginners-deep-learning-neural-network/\n",
    "- MCMC: http://videolectures.net/mlss09uk_murray_mcmc/\n",
    "- http://sebastianraschka.com/blog/2016/model-evaluation-selection-part2.html\n",
    "- https://blog.quantopian.com/bayesian-deep-learning2/\n",
    "- https://people.eecs.berkeley.edu/~jordan/papers/variational-intro.pdf\n",
    "- https://lingpipe-blog.com/2013/03/25/mean-field-variational-inference-made-easy/\n",
    "\n",
    "#### Code\n",
    "- https://github.com/aloctavodia/Doing_bayesian_data_analysis\n",
    "- Bayesian Neural Network in PyMC3: \n",
    "    - https://gist.github.com/anonymous/d7d6ee33e06ba1845dda94b5137dfba3\n",
    "- https://github.com/gpschool/gprs15b\n",
    "\n",
    "#### videos\n",
    "\n",
    "- pyMC: https://www.youtube.com/watch?v=XbxIo7ScVzc\n",
    "- pyMC3: https://www.youtube.com/watch?v=VVbJ4jEoOfU\n",
    "- pyMC3: https://www.youtube.com/watch?v=coEVZNg_nlA\n",
    "- Variational inference: https://www.youtube.com/watch?v=4toWtb7PRH4\n",
    "- Bayesian regression Neil Lawrence: https://www.youtube.com/watch?v=z0PBxczUx9A\n",
    "\n",
    "#### Books\n",
    "\n",
    "- https://www.amazon.es/Bayesian-Nonparametrics-Paperback-Statistics-Probability/dp/0898715636/ref=sr_1_4?ie=UTF8&qid=1474280093&sr=8-4&keywords=bayesian+neural+networks\n",
    "- https://www.amazon.es/Bayesian-Artificial-Neural-Networks-Applications/dp/3639223241/ref=sr_1_2?ie=UTF8&qid=1474280093&sr=8-2&keywords=bayesian+neural+networks\n",
    "- http://camdavidsonpilon.github.io/Probabilistic-Programming-and-Bayesian-Methods-for-Hackers/\n",
    "\n",
    "#### Error bars non bayesian approach\n",
    "\n",
    "- http://blog.datadive.net/prediction-intervals-for-random-forests/\n",
    "\n",
    "#### Introduction to the Bayesian approach \n",
    "\n",
    "The Bayesian approach  treats the issue of model complexity very differently from cross validation. It allows all of the\n",
    "available data to be used for 'training' (instead of splitting the data into train and validation).\n",
    "\n",
    "To gain insight into why this makes any sence we can consider a hypothetical example where three different models $H_1$,$H_2$ and $H_3$ which have steadily increasing flexibility corresponding with the increasing number of hidden units.  Thus, each model consists of a specification of the network architecture (number of units, type of activation function, etc.) and is governed by a number of adaptive parameters. By varying the values of these parameters, each model can represent a range of input-output functions. The more complex models, with a greater number of hidden units for instance, can represent a greater range of such functions.\n",
    "\n",
    "Let us assume we have a set of input vectors $X= \\{x^1, \\dots, x^M \\}$ and a corresponding set of target vectors $Y= \\{y^1, \\dots, y^M \\}$. We can consider the posterior probability for each of the models given the observed data (targets) $Y$ (shouldn't be X????).\n",
    "\n",
    "Using Bayes' theorem we have:\n",
    "\n",
    "\\begin{equation}\n",
    "p(H_i \\vert Y) = \\frac{p(Y \\vert H_i) p(H_i)}{p(Y)}\n",
    "\\end{equation}\n",
    "\n",
    "- The term $ p(H_i)$ is the prior probability for model $H_i$. If we have no reason to prefer one model over another, then we would assign equal prior probability to all models.\n",
    "\n",
    "- The term $ p(Y)$ does not depend on the model. We will see that different models can be compared by evaluating $p(Y \\vert H_i)$. The term $p(Y \\vert H_i)$ is called the **evidence for model $H_i$**.\n",
    "    - This indicates that the Bayesian approach can be used to select a particular model for which the evidence is largest. We might expect that the model with the greatest evidence is also the one which will have the best generalization performance. The will see it on detail.\n",
    "    \n",
    "    - We shall see that the correct Bayesian approach is to make use of\n",
    "the complete set of models. Predicted outputs for new input vectors are obtained by performing a weighted sum over the predictions of all the models, where the weighting coefficients depend on the evidence. More probable models therefore contribute more strongly to the predicted output. **Since the evidence  $p(Y \\vert H_i)$ can be evaluated using the training data, we see that Bayesian methods are able to deal with the issue of model complexity, without the need to use cross-validation**."
   ]
  },
  {
   "cell_type": "markdown",
   "metadata": {},
   "source": [
    "#### Marginalization\n",
    "\n",
    "Bayesian inference is based on marginalization. The process of marginalization involves integrating out unwanted variables. Imagine we are discussing a model with two variables $w$ and $\\alpha$. The most complete description of these variables is in terms of the joint distribution $p(\\alpha, w)$. Nevertheless if we are interested only in the distribution of $w$ then we can integrate out $\\alpha$ as follows:\n",
    "\n",
    "\\begin{equation}\n",
    "p(w) = \\int p(w,\\alpha) d\\alpha =  \\int p(w \\vert\\alpha) p(\\alpha) d\\alpha \n",
    "\\end{equation}\n",
    "\n",
    "we say that the predictive distribution over $w$ is obtained by averaging the conditional distribution $p(w\\vert \\alpha)$ with a weighting factor $p(\\alpha)$. \n"
   ]
  },
  {
   "cell_type": "markdown",
   "metadata": {},
   "source": [
    "# Examle by Zoubin Ghahramani MLSS\n",
    "\n",
    "\n",
    "- Binary variable $X  \\in \\{0,1\\}$ following a Bernoulli distribution:\n",
    "    $$ P(x | q) = P(x ; q) = q^x (1-q)^{(1-x)} $$\n",
    "    where $q \\in [0,1]$\n",
    "   \n",
    "- Data $D = \\{ x_n : n=1,\\dot,N \\}$\n",
    "- Prior \n",
    "    $$P(q) = 1 \\text{ for } q \\in [0,1]$$\n",
    "\n",
    "Compute the posterior after $x_1 = 1$ has been observed\n",
    "\n"
   ]
  },
  {
   "cell_type": "markdown",
   "metadata": {},
   "source": [
    "#### Solution\n",
    "\n",
    "The posterior $P(q|D=\\{x_1=1\\})$ is \n",
    "\n",
    "$$\n",
    "   P(q|D=\\{x_1=1\\}) =\\frac{P(D|q) P(q)}{P(D)} \n",
    "$$\n",
    "\n",
    "where we can emphasize $q_0$ as the initial $q$ and then find the posterior of $q$ given $q_0$:\n",
    "\n",
    "- $P(D|q)=p( \\{x_1=1\\} |q_0) = q_0^1(1-q_0)^{1-1}= q_0 $\n",
    "- $P(q)= \\mathbb{1}_{q \\in [0,1]} (q)$\n",
    "\n",
    "So far we know:\n",
    "\n",
    "$$\n",
    "   P(q|D=\\{x_1=1\\}) \\propto P(D|q) P(q) =   \\mathbb{1}_{q \\in [0,1]} (q)  \\cdot q_0 = \\mathbb{1}_{q \\in [0,1]} (q) q_0 \n",
    "$$\n",
    "\n",
    "therefore \n",
    "\n",
    "$$\n",
    "   P(q|D=\\{x_1=1\\}) = c \\cdot \\mathbb{1}_{q \\in [0,1]} (q) q_0 \n",
    "$$\n",
    "\n",
    "Since it is a probability distribution it must integrate to 1\n",
    "\n",
    "\n",
    "$$\n",
    "   \\int_{-\\infty}^\\infty P(q|D=\\{x_1=1\\}) \\, dq =  \\int_{-\\infty}^\\infty c \\cdot   q_0 \\cdot \\mathbb{1}_{q \\in [0,1]} (q) \\, dq =1\n",
    "$$\n",
    "therefore \n",
    "$$\n",
    "\\int_{0}^1 c \\cdot   q_0  dq_0 =1 \\Rightarrow \\frac{1}{c} = \\int_{0}^1    q_0   dq_0 = \\left[ \\frac{q_0^2}{2} \\right]_0^1 = \\frac{1}{2} - 0 = \\frac{1}{2} \\Rightarrow c=2\n",
    "$$ \n",
    "\n",
    "Therefore now the posterior $   P(q|D=\\{x_1=1\\})$ is\n",
    "\n",
    "$$\n",
    "   P(q|D=\\{x_1=1\\}) = 2 \\cdot \\mathbb{1}_{q \\in [0,1]} (q) \n",
    "$$\n",
    "\n",
    "That is the line $y=2x$ between 0 and 1.\n",
    "\n",
    "\n",
    "#### MLE of q\n",
    "\n",
    "Notice that the MLE of $q$ is 1 since it is the point where the probability of $q$ is maximized.\n",
    "\n",
    "#### P(x_2 | x_1=1)\n",
    "\n",
    "It is 2/3 (think about it)\n",
    "\n",
    "\n"
   ]
  },
  {
   "cell_type": "markdown",
   "metadata": {},
   "source": [
    "## Bayesian learning of network weights"
   ]
  },
  {
   "cell_type": "markdown",
   "metadata": {},
   "source": [
    "The first problem we shall address is that of learning the weights in a neural network on the basis of a set of training data. The standard approach used for training a neural network consist on maximizing the likelihood function (equivalent to minimizing an error function). This process finds a single set of values for the network weights. By contrast,the Bayesian approach \n",
    "\n",
    "- considers a probability distribution function over weight space, representing the relative degrees of belief in different values for the weight vector. This function is initially set to some prior distribution. \n",
    "- Once the data has been observed it can be converted to a posterior distribution using Bayes' theorem. The posterior distribution can then be used to evaluate the predictions of the trained network for new values of the input variables."
   ]
  },
  {
   "cell_type": "markdown",
   "metadata": {},
   "source": [
    "\n",
    "\n",
    "- https://www.cs.cmu.edu/afs/cs/academic/class/15782-f06/slides/"
   ]
  },
  {
   "cell_type": "markdown",
   "metadata": {},
   "source": [
    "Maximum likelihood estimation is based on finding the (single) most likely value for the parameters of the model $\\Theta$ given the observed data. The Bayesian approach is rather different. In the Bayesian approach the uncertainty in the value of the parameters is captured by a density function.\n",
    "\n",
    "\n",
    "#### Usual names given to the probabilities\n",
    "\n",
    "- $P(\\theta \\vert X)$ is the posterior probability of the parameters given the data. Usually referred to as the posterior probability.\n",
    "\n",
    "\n",
    "- $P(\\theta)$ is the prior probability of the parameters. Usually referred to as the prior.\n",
    "\n",
    "\n",
    "- $P(X \\vert \\theta)$ is the conditional likelihood of the data. \n",
    "\n",
    "\n",
    "- $P(X)$ is the total probability of the data.\n",
    "\n",
    "\n",
    "\n",
    "If we assume  $X= \\{x^1, \\dots, x^M \\}$ and  the data is drawn independently from the same underlying distribution,then we can write\n",
    "\n",
    "\\begin{equation}\n",
    "p(X \\vert \\theta) = \\prod_{m=1}^M p(x^m \\vert \\theta)\n",
    "\\end{equation}\n",
    "\n",
    "\n",
    "#### Brief introduction to bayesian inference for the parameters of the network\n",
    "\n",
    "\n",
    "Before learning, the parameters are described by a prior probability density  $p(\\theta)$. This prior is normally very broad and reflects the fact the we have little idea of what are good values of the parameters. During learning, when the data is observed, we can use Bayes'theorem to find the corresponding posterior proability density $P(\\Theta \\vert X)$. Let us see it in detail\n",
    "\n",
    "\n",
    "We will start by writting the density function of an input vector $\\textbf{x}$ given the training data $X$. That is \n",
    "\n",
    "\\begin{equation}\n",
    "p( \\textbf{x} \\vert X) = \\int p(x, \\theta  \\vert X)  d\\theta\n",
    "\\end{equation}\n",
    "\n",
    "Notice that the probability $p(x, \\theta \\vert X)=p(x \\vert \\theta, X) p(\\theta  \\vert  X)$, therefore\n",
    "\n",
    "\\begin{equation}\n",
    "p( \\textbf{x} \\vert X) = \\int p(x \\vert \\theta, X) p(\\theta  \\vert  X) d\\theta\n",
    "\\end{equation}\n",
    "\n",
    "The first factor $ p(x \\vert \\theta, X)$ is independent of $X$ by construction since we assume that our density is completly specified once the values of the parameters $\\theta$ have been found. Therefore\n",
    "\n",
    "\n",
    "\\begin{equation}\n",
    "p( \\textbf{x} \\vert X) = \\int p(x \\vert \\theta) p(\\theta  \\vert  X) d\\theta\n",
    "\\end{equation}"
   ]
  },
  {
   "cell_type": "markdown",
   "metadata": {},
   "source": [
    "\n",
    "The previous formula tell us that the Bayesian approach instead of choosing a specific value for $\\theta$ performs a weighted average over all values of $\\theta$. The weights are given by the posterior distribution (of the parameters), $p(\\theta \\vert X)$. \n",
    "\n",
    "#### How to compute the posterior distribution  $p(\\theta \\vert X)$\n",
    "\n",
    "This posterior is determined by starting from some assumed prior distribution $p(\\theta)$  and then updating it using Bayes' theorem to take into account the data $X$. Let us concrete the procedure.\n",
    "\n",
    "\\begin{equation}\n",
    "p(\\theta \\vert X) := \\frac{p(\\theta,X)}{p(X)} = \\frac{p(X \\vert \\theta)p(\\theta)}{p(X)} =  \\frac{p(\\theta)}{p(X)} p(X \\vert \\theta) = \n",
    "  \\frac{p(\\theta)}{p(X)} \\prod_{m=1}^M p(x^m \\vert \\theta)\n",
    "\\end{equation}\n",
    "\n"
   ]
  },
  {
   "cell_type": "markdown",
   "metadata": {},
   "source": [
    "The term $P(X)$ is given by\n",
    "\n",
    "\\begin{equation}\n",
    "p(X) = \\int p(\\theta^\\prime) \\prod_{m=1}^M p(x^m \\vert \\theta^\\prime) d \\theta^\\prime\n",
    "\\end{equation}\n",
    "\n",
    "#### The difficulties of the integrals for $p(x \\vert X)$ and  $p( X)$\n",
    "\n",
    "Typically the evaluation of the integrals required to compute  $p(x \\vert X)$ and  $p(X)$ is only analytically feasible for very specific density functions. Those special density functions require the posterior density  $p(\\theta \\vert X) $ to have the same functional form as the prior."
   ]
  },
  {
   "cell_type": "markdown",
   "metadata": {},
   "source": [
    "### Distribution of weights\n",
    "\n",
    "We begin by considering the problem of training a network in which the architecture (number of layers, number of hidden units, choice of activation functions  etc.) is given. In the conventional maximum likelihood approach, a single 'best' set of weight values is determined by minimization of a suitable error function. In the Bayesian framework, however, we consider a probability distribution over\n",
    "weight values. In the absence of any data, this is described by a prior distribution which we shall denote by $p(w)$, and whose form we shall discuss shortly. Here $w = \\{w_1,\\dots, w_K\\}$ denotes the vector of weight and bias parameters.\n",
    "\n",
    "\n",
    "Let us assume we have a set of input vectors $X= \\{x^1, \\dots, x^M \\}$ and a corresponding set of target vectors $Y= \\{y^1, \\dots, y^M \\}$. We can consider the posterior probability:\n",
    "\n",
    "\\begin{equation}\n",
    "p(w \\vert Y ) = \\frac{p(Y\\vert w) p(w)}{p(Y)}\n",
    "\\end{equation}\n",
    "\n",
    "where the denominator is a normalization constant\n",
    "\n",
    "\n",
    "\\begin{equation}\n",
    "p( Y ) = \\int  p(Y\\vert w) p(w) \\, \\text{d} w\n",
    "\\end{equation}\n",
    "\n",
    "which ensures that $p(w \\vert Y )$ defined using Bayes' theorem gives the unity when integrated over all weight space.  We shall see shortly that $p(Y \\vert w)$ (which represents a model for the noise process on the target data) corresponds to the likelihood function. \n",
    "\n",
    "Since the data set consists of input $X$ as well as target data $Y$, the input values should strictly be included in Bayes' theorem which should be written in the form:\n",
    "\n",
    "\n",
    "\\begin{equation}\n",
    "p(w \\vert  X, Y ) = \\frac{p(Y\\vert w, X) p(w \\vert X)}{p(Y \\vert X)}\n",
    "\\end{equation}\n",
    "\n",
    "As we have already noted in earlier, however, feed-forward networks trained by supervised learning do not in general model the distribution p(x) of the input data. Therefore X always appears as a conditioning variable on the right-hand side of the probabilities in the previous equation. **We shall therefore continue to omit it from now on in order to simplify the notation**.\n",
    "\n",
    "\n",
    "The picture of learning provided by the Bayesian formalism is as follows. \n",
    "\n",
    "- We start with some prior distribution over the weights given by p(w). Since we generally have little idea at this stage of what the weight values should be, the prior might express some rather general properties such as smoothness of the network function, but will otherwise leave the weight values fairly unconstrained. The prior will therefore typically be a rather broad distribution.\n",
    "- Once we have observed the data, this prior distribution can be converted to a posterior distribution using Bayes' theorem in the form\n",
    "of  \\begin{equation}\n",
    "p(w \\vert Y ) = \\frac{p(Y\\vert w) p(w)}{p(Y)}\n",
    "\\end{equation}\n",
    "This posterior distribution will be more compact, expressing the fact that we have learned something about the extent to which different weight values are consistent with the observed data. \n",
    "- In order to evaluate the posterior distribution we need to provide expressions for the prior distribution $p(w)$ and for the likelihood function $p(Y\\vert w)$\n",
    "\n"
   ]
  },
  {
   "cell_type": "markdown",
   "metadata": {},
   "source": [
    "\n",
    "#### Distribution of weights: Gaussian prior\n",
    "\n",
    "We first consider the prior probability distribution for the weights. This distribution should reflect any prior knowledge we have about the form of network mapping we expect t o find. In general, we can write this distribution as an exponential of the form\n",
    "\n",
    "\\begin{equation}\n",
    "p(w) = \\frac{1}{Z_W(\\alpha)} \\exp(-\\alpha E_W)\n",
    "\\end{equation}\n",
    "\n",
    "where $Z_W(\\alpha)$ is a normalization factor given by\n",
    "\n",
    "\\begin{equation}\n",
    "Z_W(\\alpha) = \\int \\exp(-\\alpha E_W) \\, \\text{d} w\n",
    "\\end{equation}\n",
    "\n",
    "This ensures that $\\int p(w) \\text{d} w = 1$. The role of the parameter $\\alpha$ will be explained later on.\n",
    "\n",
    "##### L2 regularization for $E_W$\n",
    "\n",
    "We can train the network favouring small values for the network weights. To do so, we can use L2 regularization which consist on considering $E_W$ to be halve the L2 norm of the weights. That is \n",
    "\n",
    "\\begin{equation}\n",
    "E_W = \\frac{1}{2} \\| w \\|^2 = \\frac{1}{2} \\sum_{i=1}^W w_i^2\n",
    "\\end{equation}\n",
    "\n",
    "where $W$ is the total number of weights and biases in the network. Using this regularizer our prior distribution will be:\n",
    "\n",
    "\\begin{equation}\n",
    "p(w) = \\frac{1}{Z_W(\\alpha)} \\exp(- \\frac{\\alpha}{2} \\| w \\|^2)\n",
    "\\end{equation}\n",
    "\n",
    "Notice that  $\\| w \\|^2$ large will imply $E_W $ to be large which will imply $p(w)$ to be small. In fact this prior probability will go to zero as the network weights grow:\n",
    "\n",
    "\\begin{equation}\n",
    "\\lim_{\\| w \\|^2 \\longrightarrow \\infty} p(w) = \\lim_{\\| w \\|^2 \\longrightarrow \\infty} \\frac{1}{Z_W(\\alpha)} \\exp(- \\frac{\\alpha}{2} \\| w \\|^2) = \\lim_{\\| w \\|^2 \\longrightarrow \\infty} \\frac{1}{Z_W(\\alpha)} \\frac{1}{\\exp( \\frac{\\alpha}{2} \\| w \\|^2)}  = \\frac{1}{\\infty} = 0\n",
    "\\end{equation}\n",
    "\n",
    "This choice of prior distribution will foster small weight values rather than large weight values which should help us not to overfit the training data too much. The $\\alpha$ parameter will control how much we penalize the model for having big or small norm on all weights. To begin with, let us assume that the parameter $\\alpha$ is known. Later on, we will see how to treat $\\alpha$ as part of the learning process.\n",
    "\n",
    "Using L2 regularization implies that $p(w)$ has a gaussian function form. If we impose that the integral of $p(w)$ with respect to $w$ has to be one we can find the form for the $Z_W(\\alpha)$ coefficient.\n",
    "\n",
    "\n",
    "\\begin{equation}\n",
    "1 = \\int p(w) \\text{d}w = \\int \\frac{1}{Z_W(\\alpha)} \\exp(- \\frac{\\alpha}{2} \\| w \\|^2)  \\text{d}w \\Rightarrow Z_W(\\alpha) = \\int \\exp(- \\frac{\\alpha}{2} \\| w \\|^2) \\text{d}w\n",
    "\\end{equation}\n",
    "\n",
    "\n",
    "We can could do the integral or just realize the similarity between a multidimensional d-dimensional Gaussian  (Normal) distribution which has the following form:\n",
    "\n",
    "\\begin{equation}\n",
    "N(x ; \\mu,\\Sigma) =  \\frac{1}{(2 \\pi)^{d/2}} |\\Sigma|^{-1/2} \\exp \\left(-\\frac{1}{2}(x-\\mu) \\Sigma^{-1}(x-\\mu)^T \\right)\n",
    "\\end{equation}\n",
    "\n",
    "If we consider the mean vector to be zero and the covariance matrix to be the Identity then the previous formula can be written as\n",
    "\n",
    "\\begin{equation}\n",
    "N(x ; \\mu,\\Sigma) =  \\frac{1}{(2 \\pi)^{d/2}} \\exp \\left(-\\frac{1}{2}x x^T \\right) =   \\frac{1}{(2 \\pi)^{d/2}} \\exp \\left(-\\frac{1}{2} \\|x\\|^2 \\right) \n",
    "\\end{equation}\n",
    "\n",
    "Our expression was\n",
    "\n",
    "\\begin{equation}\n",
    "p(w) = \\frac{1}{Z_W(\\alpha)} \\exp(- \\frac{\\alpha}{2} \\| w \\|^2)\n",
    "\\end{equation}\n",
    "\n",
    "Therefore if we choose $Z_W(\\alpha)$ as follows we get a Normal distribution (WRITE DETAILS)\n",
    "\n",
    "\\begin{equation}\n",
    "Z_W(\\alpha) =  \\left(\\frac{2 \\pi}{\\alpha}\\right)^{W/2}\n",
    "\\end{equation}\n",
    "\n"
   ]
  },
  {
   "cell_type": "markdown",
   "metadata": {},
   "source": [
    "# Summary bayesian learning of weights\n",
    "\n",
    "In order to do bayesian learning of weights we need:\n",
    "\n",
    "- 1) A model, a prior distribution over parameters and a dataset:\n",
    "    - Define a parametreized model assumed to map X to Y\n",
    "    - Define a prior distribution of parameters $p(\\textbf{w})$\n",
    "    - Define a dataset $D = \\{ (x^1,y^1), \\dots,(x^M,y^M)  \\}$\n",
    "    \n",
    "    \n",
    "- 2) **Convert model definition into a standard probabilistic form that is specify the likelihood of output $y^m$ given $x^m$ and  $\\textbf{w}$**. That is $p(y | x ;w)$\n",
    "\n",
    "\n",
    "- 3) **Posterior distribution**: \n",
    "\\begin{equation}\n",
    "p(D | \\textbf{w}) = \\prod_{m=1}^M p(y^m | x^m; \\textbf{w})\n",
    "\\end{equation}\n",
    "\n",
    "\\begin{equation}\n",
    "p(\\textbf{w} | D) = \\frac{\\prod_{m=1}^M p(y^m | x^m; \\textbf{w})}{\\int p(\\textbf{w}^\\prime)\\prod_{m=1}^M p(y^m | x^m;\\textbf{w}^\\prime) d\\textbf{w}^\\prime   }\n",
    "\\end{equation}\n",
    "\n",
    "\n",
    "- 4) **Prediction**: The residual uncertainty in the parameters w gen-\n",
    "erates uncertainty in subsequent data prediction. Prediction of the\n",
    "output t corresponding to a new input $x$ , given our observation of\n",
    "the data D and our choice of model, thus takes the probabilistic form:\n",
    "\n",
    "\\begin{equation}\n",
    "p(y |x ; D) = \\int p(y | x,\\textbf{w}) p(\\textbf{w} | D) d\\textbf{w}\n",
    "\\end{equation}\n",
    "\n",
    "This concludes the description of Bayesian learning for a single model: the problem has in principle been reduced to doing integrals, although how one evaluates these efficiently is quite another matter. Before we move on to the remainder of this section, which deals with implementation and understanding, and with the generalization of the ideas to model selection, two comments on the expression for $p(D | w)$."
   ]
  },
  {
   "cell_type": "markdown",
   "metadata": {},
   "source": [
    "### Example Bayesian learning classification"
   ]
  },
  {
   "cell_type": "markdown",
   "metadata": {},
   "source": [
    "Let us consider the data"
   ]
  },
  {
   "cell_type": "code",
   "execution_count": 3,
   "metadata": {
    "collapsed": false
   },
   "outputs": [],
   "source": [
    "%load_ext autoreload\n",
    "%autoreload 2\n",
    "%matplotlib inline"
   ]
  },
  {
   "cell_type": "code",
   "execution_count": 4,
   "metadata": {
    "collapsed": false
   },
   "outputs": [],
   "source": [
    "import numpy as np\n",
    "X = np.array([[-5,-5], [-1,0], [1,0], [5,5]])\n",
    "Y = np.array([0,1,0,1])"
   ]
  },
  {
   "cell_type": "code",
   "execution_count": 5,
   "metadata": {
    "collapsed": false
   },
   "outputs": [
    {
     "data": {
      "text/plain": [
       "array([[-5, -5],\n",
       "       [-1,  0],\n",
       "       [ 1,  0],\n",
       "       [ 5,  5]])"
      ]
     },
     "execution_count": 5,
     "metadata": {},
     "output_type": "execute_result"
    }
   ],
   "source": [
    "X"
   ]
  },
  {
   "cell_type": "code",
   "execution_count": 6,
   "metadata": {
    "collapsed": false
   },
   "outputs": [
    {
     "data": {
      "text/plain": [
       "array([-5,  0,  0,  5])"
      ]
     },
     "execution_count": 6,
     "metadata": {},
     "output_type": "execute_result"
    }
   ],
   "source": [
    "X[:,1]"
   ]
  },
  {
   "cell_type": "code",
   "execution_count": 7,
   "metadata": {
    "collapsed": false
   },
   "outputs": [
    {
     "data": {
      "text/plain": [
       "<matplotlib.collections.PathCollection at 0x7f4f1f9e9f50>"
      ]
     },
     "execution_count": 7,
     "metadata": {},
     "output_type": "execute_result"
    },
    {
     "data": {
      "image/png": "[encoded data removed]",
      "text/plain": [
       "<matplotlib.figure.Figure at 0x7f4f21a22e90>"
      ]
     },
     "metadata": {},
     "output_type": "display_data"
    }
   ],
   "source": [
    "import matplotlib\n",
    "from matplotlib import pyplot as pyplot\n",
    "\n",
    "pyplot.scatter(X[:,0], X[:,1], s=40)"
   ]
  },
  {
   "cell_type": "markdown",
   "metadata": {},
   "source": [
    "### Pieces needed to perform bayesian learning \n",
    "\n",
    "In this example we are assuming our data $x=(x_1,x_2) \\in \\mathcal{X}$ is 2D and our target takes binary values in $\\{0,1\\}$. \n",
    "\n",
    "- 1) A model, a prior distribution over parameters and a dataset:\n",
    "    - Define a parametreized model assumed to map X to Y\n",
    "        <font color='red'>\n",
    "        - We will assume the model is a logistic regression. That is\n",
    "        \n",
    "        \\begin{equation}\n",
    "          h(x ; w) = \\frac{1}{1 + exp(-w^T x)}\n",
    "        \\end{equation}\n",
    "        </font>\n",
    "    \n",
    "    - Define a prior distribution of parameters $p(\\textbf{w})$:\n",
    "         <font color='red'>\n",
    "        - We will use a 2D gaussian distribution \n",
    "    \n",
    "        \\begin{equation}\n",
    "        p(w) =  \\frac{1}{2\\pi} \\exp( -\\frac{1}{2} \\|w\\|^2)\n",
    "        \\end{equation}\n",
    "        </font>\n",
    "        \n",
    "    - Define a dataset $D = \\{ (x^1,y^1), \\dots,(x^M,y^M)  \\}$\n",
    "        <font color='red'>\n",
    "\n",
    "        - We will start with a dataset with 2 points, $(5,5)$ from class 1 and $(-5,-5)$ from class 0. That is $$D = \\{ ((5, 5),1), ((-5, -5),0) \\}$$\n",
    "            </font>\n",
    "\n",
    "    \n",
    "- 2) **Convert model definition into a standard probabilistic form that is specify the likelihood of output $y^m$ given $x^m$ and  $\\textbf{w}$**. That is $p(y | x ;w)$\n",
    "    \n",
    "    <font color='red'>\n",
    "    - We will use the following definition \n",
    "        \n",
    "        \\begin{equation}\n",
    "        h(x;w):= p(y=1 | x ;w) = \\frac{1}{1 + exp(-w^T x)}\n",
    "        \\end{equation}\n",
    "     </font>\n",
    "\n",
    "- 3) **Posterior distribution**: \n",
    "\\begin{equation}\n",
    "p(D | \\textbf{w}) = \\prod_{m=1}^M p(y^m | x^m; \\textbf{w})\n",
    "\\end{equation}\n",
    "\n",
    "\\begin{equation}\n",
    "p(\\textbf{w} | D) = \\frac{\\prod_{m=1}^M p(y^m | x^m; \\textbf{w})}{\\int p(\\textbf{w}^\\prime)\\prod_{m=1}^M p(y^m | x^m;\\textbf{w}^\\prime) d\\textbf{w}^\\prime   }\n",
    "\\end{equation}\n",
    "\n",
    "\n",
    "- 4) **Prediction**: The residual uncertainty in the parameters w generates uncertainty in subsequent data prediction. Prediction of the\n",
    "output t corresponding to a new input $x$ , given our observation of\n",
    "the data D and our choice of model, thus takes the probabilistic form:\n",
    "\n",
    "\\begin{equation}\n",
    "p(y |x ; D) = \\int p(y | x,\\textbf{w}) p(\\textbf{w} | D) d\\textbf{w}\n",
    "\\end{equation}\n"
   ]
  },
  {
   "cell_type": "markdown",
   "metadata": {},
   "source": [
    "#### Gaussian Prior distribution of the weights\n",
    "\n",
    "We shall choose a Gaussian prior distribution for the weights, in which the parameter α is given a fixed value of α=1. Then $Z_W(\\alpha) =  \\left(\\frac{2 \\pi}{\\alpha}\\right)^{W/2}= 2 \\pi$ and therefore\n",
    "\n",
    "$$\n",
    "p(w) =  \\frac{1}{2\\pi} \\exp( -\\frac{1}{2} \\|w\\|^2)\n",
    "$$"
   ]
  },
  {
   "cell_type": "code",
   "execution_count": 8,
   "metadata": {
    "collapsed": true
   },
   "outputs": [],
   "source": [
    "def prior(w):\n",
    "    return (1/(2*np.pi)) * np.exp(-0.5 * np.linalg.norm(w))"
   ]
  },
  {
   "cell_type": "code",
   "execution_count": 11,
   "metadata": {
    "collapsed": false
   },
   "outputs": [],
   "source": [
    "w_grid = []\n",
    "w_grid_eval = []\n",
    "for w1 in  [x*0.1 for x in range(-100,100,1)]:\n",
    "    for w2 in  [x*0.1 for x in range(-100,100,1)]:\n",
    "        w = np.array([w1,w2])\n",
    "        w_grid.append(w)\n",
    "        w_grid_eval.append(prior(w))\n",
    "        \n",
    "w_grid = np.array(w_grid)"
   ]
  },
  {
   "cell_type": "code",
   "execution_count": 12,
   "metadata": {
    "collapsed": false,
    "scrolled": true
   },
   "outputs": [
    {
     "data": {
      "text/plain": [
       "[<mpl_toolkits.mplot3d.art3d.Line3D at 0x7f4f1f848790>]"
      ]
     },
     "execution_count": 12,
     "metadata": {},
     "output_type": "execute_result"
    },
    {
     "data": {
      "image/png": "[encoded data removed]",
      "text/plain": [
       "<matplotlib.figure.Figure at 0x7f4f1f7a2110>"
      ]
     },
     "metadata": {},
     "output_type": "display_data"
    }
   ],
   "source": [
    "from mpl_toolkits.mplot3d import axes3d, Axes3D\n",
    "\n",
    "fig = pyplot.figure()\n",
    "ax = Axes3D(fig)\n",
    "ax.plot(w_grid[:,0], \n",
    "        w_grid[:,1], \n",
    "        w_grid_eval)"
   ]
  },
  {
   "cell_type": "code",
   "execution_count": 24,
   "metadata": {
    "collapsed": false
   },
   "outputs": [
    {
     "data": {
      "text/plain": [
       "<mpl_toolkits.mplot3d.art3d.Path3DCollection at 0x7f12b43c10d0>"
      ]
     },
     "execution_count": 24,
     "metadata": {},
     "output_type": "execute_result"
    },
    {
     "data": {
      "image/png": "[encoded data removed]",
      "text/plain": [
       "<matplotlib.figure.Figure at 0x7f1289f13290>"
      ]
     },
     "metadata": {},
     "output_type": "display_data"
    }
   ],
   "source": [
    "vals = [x for x in range(-10,10,1)]\n",
    "\n",
    "fig = pyplot.figure()\n",
    "ax = fig.add_subplot(111, projection='3d')\n",
    "ax.scatter(w_grid[:,0],w_grid[:,1], w_grid_eval, s=0.01)"
   ]
  },
  {
   "cell_type": "code",
   "execution_count": 25,
   "metadata": {
    "collapsed": false
   },
   "outputs": [
    {
     "data": {
      "text/plain": [
       "<matplotlib.collections.PathCollection at 0x7f128a0e1f10>"
      ]
     },
     "execution_count": 25,
     "metadata": {},
     "output_type": "execute_result"
    },
    {
     "data": {
      "image/png": "[encoded data removed]",
      "text/plain": [
       "<matplotlib.figure.Figure at 0x7f1289f27150>"
      ]
     },
     "metadata": {},
     "output_type": "display_data"
    }
   ],
   "source": [
    "pyplot.scatter(w_grid[:,0], \n",
    "               w_grid[:,1], \n",
    "               w_grid_eval)"
   ]
  },
  {
   "cell_type": "code",
   "execution_count": 26,
   "metadata": {
    "collapsed": true
   },
   "outputs": [],
   "source": [
    "def output(x,w):\n",
    "    return 1./(1+np.exp(-np.dot(w,x)))"
   ]
  },
  {
   "cell_type": "markdown",
   "metadata": {},
   "source": [
    "\n",
    "\n",
    "##### Computing  $P(Y \\vert w)$\n",
    "\n",
    "\\begin{equation}\n",
    "P(Y \\vert w) = \\prod_{m=1}^M P(y=y^m \\vert w) = P(y=Y[0] \\vert x) P(y=Y[1] \\vert w) P(y=Y[2] \\vert w) P(y=Y[3] \\vert w)\n",
    "\\end{equation}\n",
    "\n",
    "If we assume $P(y=1 \\vert x) = \\lambda$ and $P(y=0 \\vert x) = 1- \\lambda$ then \n",
    "\n",
    "\\begin{equation}\n",
    "P(Y \\vert w) = (1- \\lambda)^2  \\lambda^2\n",
    "\\end{equation}\n"
   ]
  },
  {
   "cell_type": "markdown",
   "metadata": {},
   "source": [
    "#### Gaussian Prior distribution of the weights\n",
    "\n"
   ]
  },
  {
   "cell_type": "markdown",
   "metadata": {},
   "source": [
    "Assume now we have only 2 points, X = [[5,5],[-5,-5]].\n",
    "\n",
    "Let us use the Bayes' theorem to compute the posterior distribution of weights.\n",
    "\n",
    "- Once we have observed the data, this prior distribution can be converted to a posterior distribution using Bayes' theorem in the form\n",
    "of  \\begin{equation}\n",
    "p(w \\vert Y ) = \\frac{p(Y\\vert w) p(w)}{p(Y)}\n",
    "\\end{equation}\n",
    "This posterior distribution will be more compact, expressing the fact that we have learned something about the extent to which different weight values are consistent with the observed data. \n",
    "- In order to evaluate the posterior distribution we need to provide expressions for the prior distribution $p(w)$ and for the likelihood function $p(Y\\vert w)$"
   ]
  },
  {
   "cell_type": "code",
   "execution_count": 33,
   "metadata": {
    "collapsed": true
   },
   "outputs": [],
   "source": [
    "X = np.array([[5, 5], [-5, -5]])\n",
    "Y = np.array([1, 0])"
   ]
  },
  {
   "cell_type": "code",
   "execution_count": 34,
   "metadata": {
    "collapsed": true
   },
   "outputs": [],
   "source": [
    "def prob_target_given_input(x,w):\n",
    "    return 1./(1+np.exp(-np.dot(w,x)))"
   ]
  },
  {
   "cell_type": "code",
   "execution_count": 35,
   "metadata": {
    "collapsed": true
   },
   "outputs": [],
   "source": [
    "def prior(w):\n",
    "    return (1/(2*np.pi)) * np.exp(-0.5 * np.linalg.norm(w))"
   ]
  },
  {
   "cell_type": "code",
   "execution_count": 36,
   "metadata": {
    "collapsed": true
   },
   "outputs": [],
   "source": [
    "def class_prob(y):\n",
    "    return 0.5"
   ]
  },
  {
   "cell_type": "code",
   "execution_count": 37,
   "metadata": {
    "collapsed": false
   },
   "outputs": [],
   "source": [
    "p_Y_given_w = sigmoid\n",
    "p_w = prior\n",
    "p_Y = class_prob"
   ]
  },
  {
   "cell_type": "code",
   "execution_count": 38,
   "metadata": {
    "collapsed": true
   },
   "outputs": [],
   "source": [
    "def p_w_given_Y (w,y):\n",
    "    return (p_Y_given_w (y,w) * p_w(w) )/ p_Y(y)"
   ]
  },
  {
   "cell_type": "markdown",
   "metadata": {},
   "source": [
    "Now we can plot the posterior distribution given the data"
   ]
  },
  {
   "cell_type": "code",
   "execution_count": 39,
   "metadata": {
    "collapsed": false
   },
   "outputs": [],
   "source": [
    "w_grid = []\n",
    "for w1 in np.linspace(-10,10):\n",
    "    for w2 in np.linspace(-10,10):\n",
    "        w = np.array(w1,w2)\n",
    "        w_grid.append(w)\n",
    "        p_w_given_Y (w,y=1)\n",
    "        "
   ]
  },
  {
   "cell_type": "code",
   "execution_count": 40,
   "metadata": {
    "collapsed": false
   },
   "outputs": [
    {
     "data": {
      "text/plain": [
       "array([  0.        ,   0.20408163,   0.40816327,   0.6122449 ,\n",
       "         0.81632653,   1.02040816,   1.2244898 ,   1.42857143,\n",
       "         1.63265306,   1.83673469,   2.04081633,   2.24489796,\n",
       "         2.44897959,   2.65306122,   2.85714286,   3.06122449,\n",
       "         3.26530612,   3.46938776,   3.67346939,   3.87755102,\n",
       "         4.08163265,   4.28571429,   4.48979592,   4.69387755,\n",
       "         4.89795918,   5.10204082,   5.30612245,   5.51020408,\n",
       "         5.71428571,   5.91836735,   6.12244898,   6.32653061,\n",
       "         6.53061224,   6.73469388,   6.93877551,   7.14285714,\n",
       "         7.34693878,   7.55102041,   7.75510204,   7.95918367,\n",
       "         8.16326531,   8.36734694,   8.57142857,   8.7755102 ,\n",
       "         8.97959184,   9.18367347,   9.3877551 ,   9.59183673,\n",
       "         9.79591837,  10.        ])"
      ]
     },
     "execution_count": 40,
     "metadata": {},
     "output_type": "execute_result"
    }
   ],
   "source": [
    "np.linspace(0,10)"
   ]
  },
  {
   "cell_type": "markdown",
   "metadata": {},
   "source": [
    "p_w_given_Y(w,y=1)"
   ]
  },
  {
   "cell_type": "markdown",
   "metadata": {},
   "source": [
    "## Distribution of network outputs"
   ]
  },
  {
   "cell_type": "code",
   "execution_count": null,
   "metadata": {
    "collapsed": true
   },
   "outputs": [],
   "source": []
  },
  {
   "cell_type": "markdown",
   "metadata": {},
   "source": [
    "## Distribution of network outputs: classification"
   ]
  },
  {
   "cell_type": "code",
   "execution_count": null,
   "metadata": {
    "collapsed": true
   },
   "outputs": [],
   "source": []
  }
 ],
 "metadata": {
  "kernelspec": {
   "display_name": "Python 2",
   "language": "python",
   "name": "python2"
  },
  "language_info": {
   "codemirror_mode": {
    "name": "ipython",
    "version": 2
   },
   "file_extension": ".py",
   "mimetype": "text/x-python",
   "name": "python",
   "nbconvert_exporter": "python",
   "pygments_lexer": "ipython2",
   "version": "2.7.12"
  }
 },
 "nbformat": 4,
 "nbformat_minor": 0
}
