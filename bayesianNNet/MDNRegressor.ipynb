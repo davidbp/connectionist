{
 "cells": [
  {
   "cell_type": "markdown",
   "metadata": {},
   "source": [
    "# mixture density networks \n",
    "\n",
    "\n",
    "- About density estimation: http://scikit-learn.org/stable/modules/density.html\n",
    "\n",
    "\n",
    "- http://tullo.ch/articles/speeding-up-isotonic-regression/\n",
    "\n",
    "We want to model the conditional distribution as a mixture of Gaussians, where each Gaussian component parameters are dependent on the input, that is \n",
    "\n",
    "\n",
    "\\begin{equation}\n",
    "P(y^m \\mid x^m) = \\sum_{k=1}^K \\pi_k(x^m) \\mathcal{N} \\left( y^m \\mid \\mu_k(x^m) , \\sigma_k^2(x^m) \\right)\n",
    "\\end{equation}\n"
   ]
  },
  {
   "cell_type": "code",
   "execution_count": 13,
   "metadata": {
    "collapsed": false
   },
   "outputs": [
    {
     "name": "stdout",
     "output_type": "stream",
     "text": [
      "The autoreload extension is already loaded. To reload it, use:\n",
      "  %reload_ext autoreload\n"
     ]
    }
   ],
   "source": [
    "import numpy as np\n",
    "import numpy as np\n",
    "import matplotlib.pyplot as plt\n",
    "\n",
    "%matplotlib inline\n",
    "%load_ext autoreload\n",
    "%autoreload 2"
   ]
  },
  {
   "cell_type": "code",
   "execution_count": 14,
   "metadata": {
    "collapsed": false,
    "scrolled": false
   },
   "outputs": [
    {
     "data": {
      "text/plain": [
       "<matplotlib.collections.PathCollection at 0x7fe704b12490>"
      ]
     },
     "execution_count": 14,
     "metadata": {},
     "output_type": "execute_result"
    },
    {
     "data": {
      "image/png": "[encoded data removed]",
      "text/plain": [
       "<matplotlib.figure.Figure at 0x7fe704bf5690>"
      ]
     },
     "metadata": {},
     "output_type": "display_data"
    }
   ],
   "source": [
    "# generate some 1D regression data (reproducing Bishop book data, page 273). \n",
    "# Note that the P(y|x) is not a nice distribution.\n",
    "# E.g. it has three modes for x ~= 0.5\n",
    "N = 200\n",
    "X = np.linspace(0,1,N)\n",
    "Y = X + 0.3 * np.sin(2*3.1415926*X) + np.random.uniform(-0.1, 0.2, N)\n",
    "X,Y = Y,X\n",
    "plt.scatter(X,Y,color='g')"
   ]
  },
  {
   "cell_type": "markdown",
   "metadata": {},
   "source": [
    "## About the model\n",
    "\n",
    "Now we will present a mixture density network (MDN) with a single hidden layer. This model can be generalized using as many hidden layers as we want defined just like in a regular multilayer perceptron. The main difference between an standard MLP and a MDN is the output layer which will be specified in the following:\n",
    "\n",
    "#### Weights\n",
    "\n",
    "Let us assume we are training a MDN with $K$ Gaussian components and the objective is to build a density $P(t \\mid x)$ where the target $t$ is a 1D variable (that is we are studying a 1D regression problem).\n",
    "\n",
    "- First layer weights W1 defines a mapping from the input to the hidden layer.\n",
    "\n",
    "- Second layer weights are composed by:\n",
    "\n",
    "    - A weight matrix for the mixing coefficients $\\pi_k$:  ```W_pi``` of shape ```(hidden_size, K)```\n",
    "        \n",
    "    - A weight matrix for the for the means of the Gaussian components $\\mu_k$: ```W_mean``` of shape ```(hidden_size, K)```\n",
    "    \n",
    "    -  A weight matrix for the variances of the Gaussian components $\\sigma_k^2$:  ```W_variance``` of shape ```(hidden_size, K)```\n",
    "\n",
    "- Second layer biases are composed by:\n",
    "\n",
    "    - A bias for the hidden layer: shape (hidden_size,1)\n",
    "    \n",
    "    - A bias for the mixing coefficients: shape (K,1)\n",
    "    \n",
    "    - A bias for the means of the Gaussian components: shape (K,1)\n",
    "    \n",
    "    - A bias for the variances of the Gaussian components: shape (K,1)\n"
   ]
  },
  {
   "cell_type": "code",
   "execution_count": 15,
   "metadata": {
    "collapsed": false
   },
   "outputs": [],
   "source": [
    "#from sklearn import utils, base\n",
    "import numpy as np\n",
    "from sklearn.base import BaseEstimator, RegressorMixin\n",
    "from sklearn.utils import check_array, check_X_y, column_or_1d\n",
    "from sklearn.utils.extmath import safe_sparse_dot"
   ]
  },
  {
   "cell_type": "code",
   "execution_count": 16,
   "metadata": {
    "collapsed": false
   },
   "outputs": [
    {
     "name": "stdout",
     "output_type": "stream",
     "text": [
      "Help on function safe_sparse_dot in module sklearn.utils.extmath:\n",
      "\n",
      "safe_sparse_dot(a, b, dense_output=False)\n",
      "    Dot product that handle the sparse matrix case correctly\n",
      "    \n",
      "    Uses BLAS GEMM as replacement for numpy.dot where possible\n",
      "    to avoid unnecessary copies.\n",
      "\n"
     ]
    }
   ],
   "source": [
    "help(safe_sparse_dot)"
   ]
  },
  {
   "cell_type": "code",
   "execution_count": 17,
   "metadata": {
    "collapsed": false
   },
   "outputs": [
    {
     "data": {
      "text/plain": [
       "array([ 0.14390051, -0.17577744,  1.75482121, -0.94836317, -0.69809561,\n",
       "       -0.98091346, -0.89505919,  0.91743192, -0.52511486, -0.04715616])"
      ]
     },
     "execution_count": 17,
     "metadata": {},
     "output_type": "execute_result"
    }
   ],
   "source": [
    "np.random.randn(10,)"
   ]
  },
  {
   "cell_type": "code",
   "execution_count": 20,
   "metadata": {
    "collapsed": false
   },
   "outputs": [
    {
     "data": {
      "text/plain": [
       "array([[-0.02456247],\n",
       "       [ 0.66782762],\n",
       "       [ 0.83379884],\n",
       "       [-1.17220891],\n",
       "       [ 1.96622617]])"
      ]
     },
     "execution_count": 20,
     "metadata": {},
     "output_type": "execute_result"
    }
   ],
   "source": [
    "np.random.randn(5,1)"
   ]
  },
  {
   "cell_type": "code",
   "execution_count": 21,
   "metadata": {
    "collapsed": true
   },
   "outputs": [],
   "source": [
    "def softmax(x):\n",
    "    # softmaxes the columns of x\n",
    "    #z = x - np.max(x, axis=0, keepdims=True) # for safety\n",
    "    e = np.exp(x)\n",
    "    en = e / np.sum(e, axis=0, keepdims=True)\n",
    "    return en\n"
   ]
  },
  {
   "cell_type": "code",
   "execution_count": 23,
   "metadata": {
    "collapsed": false
   },
   "outputs": [],
   "source": [
    "class MDNRegressor(BaseEstimator, RegressorMixin):\n",
    "\n",
    "    \"\"\"\n",
    "    Mixture density network regression. This version assumes\n",
    "        - A single layer of hidden units.\n",
    "        - Target variable to be 1-dimensional\n",
    "    \n",
    "    hidden_layer_sizes : tuple, length = n_layers - 2, default (100,)\n",
    " \n",
    "       The ith element represents the number of neurons in the ith\n",
    "       hidden layer.\n",
    "       \n",
    "    activation: {'tanh'}\n",
    "    \n",
    "    shuffle : bool, optional, default True\n",
    "        Whether to shuffle samples in each iteration. \n",
    "        \n",
    "    \"\"\"\n",
    "    \n",
    "    def __init__(self,\n",
    "                 hidden_layer_size,\n",
    "                 n_components = 5,\n",
    "                 activation=\"tanh\",\n",
    "                 batch_size= \"auto\",\n",
    "                 shuffle=True):\n",
    "        \n",
    "        self.hidden_layer_size = hidden_layer_size\n",
    "        self.n_components = n_components\n",
    "        self.activation = activation\n",
    "        self.batch_size = batch_size\n",
    "        self.shuffle = shuffle\n",
    "                \n",
    "            \n",
    "    def _initialize_in_fit(self, n_features, n_hidden, n_outputs, n_components):\n",
    "        \"\"\"\n",
    "        Initialize the model weights and biases\n",
    "        \"\"\"\n",
    "        scaling_factor = 0.1\n",
    "        \n",
    "        # n_outputs = y.shape[1]\n",
    "        self.n_outputs_ = n_outputs\n",
    "        \n",
    "        # Initialize coefficient and intercept layers\n",
    "        self.coefs_ = {'W_1': np.random.randn(n_features, n_hidden) * scaling_factor,\n",
    "                       'W_variance': np.random.randn(n_hidden, n_components) * scaling_factor,\n",
    "                       'W_mean': np.random.randn(n_hidden, n_components) * scaling_factor,\n",
    "                       'W_mix_coeff':np.random.randn(n_hidden, n_components) * scaling_factor}\n",
    "        \n",
    "        self.intercepts_ = {'b_1':  np.zeros(n_hidden, ),\n",
    "                            'b_variance': np.zeros(n_hidden, ),\n",
    "                            'b_mean': np.zeros(n_hidden, ),\n",
    "                            'b_mix_coeff':  np.zeros(n_hidden, )}\n",
    "            \n",
    "    def predict_statistics(self, X):\n",
    "        \"\"\"\n",
    "        For each of the K components predicts\n",
    "            - the expected value (mean of the Gaussian) for a given x\n",
    "            - the variance of the prediction (variance of the Gaussian)\n",
    "            - the weight or coefficient of the component\n",
    "        \"\"\"\n",
    "        # compute hidden activation\n",
    "        \n",
    "        \n",
    "    def _validate_hyperparameters(self):\n",
    "        \"\"\"\n",
    "        Ensures hyperparameters are set correctly\n",
    "        \"\"\"\n",
    "        if not isinstance(self.shuffle, bool):\n",
    "            raise ValueError(\"shuffle must be either True or False, got %s.\" %\n",
    "                             self.shuffle)       \n",
    "    \n",
    "    def _validate_input(self, X, y, incremental):\n",
    "        \n",
    "        if y.ndim == 2 and y.shape[1] == 1:\n",
    "            y = column_or_1d(y, warn=True)\n",
    "        return X,y\n",
    "            \n",
    "    def _forward_pass(self, X):\n",
    "        activations = [X]\n",
    "        \n",
    "\n",
    "    def _compute_loss(self, act_means, act_variances, act_mixing_coeff)\n",
    "        \"\"\"\n",
    "        Returns the probability\n",
    "        \"\"\"\n",
    "        \n",
    "        \n",
    "    def _fit(self, X, y):\n",
    "        \"\"\"\n",
    "        Train the model\n",
    "        \"\"\"\n",
    "        ###########\n",
    "        # Prepare #\n",
    "        ###########\n",
    "        \n",
    "        # Do stuff here\n",
    "        hidden_layer_size = self.hidden_layer_size\n",
    "        \n",
    "        # Validate input parameters.\n",
    "        self._validate_hyperparameters()\n",
    "        if np.any(np.array(hidden_layer_size) <= 0):\n",
    "            raise ValueError(\"hidden_layer_sizes must be > 0, got %s.\" %\n",
    "                             hidden_layer_size)\n",
    "            \n",
    "        # Validate input\n",
    "        X, y = self._validate_input(X, y, incremental=True)\n",
    "        \n",
    "        # Ensure y is 2D\n",
    "        if y.ndim == 1:\n",
    "            y = y.reshape((-1, 1))            \n",
    "\n",
    "        self.n_outputs_ = y.shape[1]\n",
    "        n_features = X.shape[1]\n",
    "        \n",
    "        # Initialize model\n",
    "        self._initialize_in_fit(n_features,\n",
    "                                hidden_layer_size,\n",
    "                                self.n_outputs_,\n",
    "                                self.n_components)\n",
    "        \n",
    "        ###########\n",
    "        # Train   #\n",
    "        ###########\n",
    "        \n",
    "        ### Forward pass ###\n",
    "        act_h1 = np.tanh( np.dot(X, self.coefs_['W_1']) + self.intercepts_['b_1']  )\n",
    "        \n",
    "        act_means = np.dot(m['W_mean'], act_h1) + m['b_mean']\n",
    "        act_variances = np.exp(np.dot(m['W_variance'], act_h1) + m['b_variance'])\n",
    "        act_mixing_coeff = softmax(np.dot(m['W_mix_coeff'], act_h1) + m['b_mix_coeff'])\n",
    "        \n",
    "        ###\n",
    "        ### Compute Loss (- mean log-likelihood)\n",
    "        ###\n",
    "        n_components, n_samples = act_means.shape\n",
    "        # prob_per_sample has shape (n_components, n_samples)\n",
    "        prob_per_sample = np.exp(-((y - act_means)**2)/(2*act_variances**2))/(act_variances*np.sqrt(2*math.pi))\n",
    "        pin = act_mixing_coeff * prob_per_sample\n",
    "        # logprob has shape (1,n_samples)\n",
    "        logprob = -np.log(np.sum(pin, axis=0, keepdims=True))\n",
    "        loss = np.sum(logprob)/n_samples\n",
    "\n",
    "        ###\n",
    "        ### Gradients of the loss with respect to the parameters of the output layer\n",
    "        ###\n",
    "        gammas = pin / np.sum(pin, axis=0, keepdims = True)\n",
    "        dmu = gammas * ((act_means - y)/sig**2) / n_samples\n",
    "        dlogsig = gammas * (1.0 - (y-act_means)**2/(sig**2)) / n_samples\n",
    "        dpiu = (pi - gammas) / n_samples\n",
    "    \n",
    "        grads = {}\n",
    "        grads['W_mean'] = np.dot(dmu, act_h1.T)\n",
    "        grads['W_variance'] = np.dot(dlogsig, act_h1.T)\n",
    "        grads['W_mix_coeff'] = np.dot(dpiu, act_h.T)\n",
    "\n",
    "        grads['b_mean'] = np.sum(dmu, axis=1, keepdims=True)\n",
    "        grads['b_variance'] = np.sum(dlogsig, axis=1, keepdims=True)\n",
    "        grads['b_mix_coeff'] = np.sum(dpiu, axis=1, keepdims=True)\n",
    "\n",
    "        ### Gradients of the loss with respect to the parameters of the first layer\n",
    "        dh = np.dot(m['Whu'].T, dmu) + np.dot(m['Whs'].T, dlogsig) + np.dot(m['Whp'].T, dpiu)\n",
    "        dh = (1.0-h**2)*dh\n",
    "        grads['W_1'] = np.sum(dh, axis=1, keepdims=True)       \n",
    "        grads['b_1'] = np.dot(dh, x.T)\n",
    "        \n",
    "        \n",
    "    def fit(self, X, y):\n",
    "        return self._fit(X, y)"
   ]
  },
  {
   "cell_type": "code",
   "execution_count": 64,
   "metadata": {
    "collapsed": false
   },
   "outputs": [],
   "source": [
    "MDN =  MDNRegressor(hidden_layer_size=10)"
   ]
  },
  {
   "cell_type": "code",
   "execution_count": 65,
   "metadata": {
    "collapsed": false
   },
   "outputs": [
    {
     "data": {
      "text/plain": [
       "((200, 1), (200,))"
      ]
     },
     "execution_count": 65,
     "metadata": {},
     "output_type": "execute_result"
    }
   ],
   "source": [
    "X.shape, Y.shape"
   ]
  },
  {
   "cell_type": "code",
   "execution_count": 66,
   "metadata": {
    "collapsed": true
   },
   "outputs": [],
   "source": [
    "X = X.reshape(-1,1)"
   ]
  },
  {
   "cell_type": "code",
   "execution_count": 67,
   "metadata": {
    "collapsed": false
   },
   "outputs": [
    {
     "data": {
      "text/plain": [
       "((200, 1), (200,))"
      ]
     },
     "execution_count": 67,
     "metadata": {},
     "output_type": "execute_result"
    }
   ],
   "source": [
    "X.shape, Y.shape"
   ]
  },
  {
   "cell_type": "code",
   "execution_count": 68,
   "metadata": {
    "collapsed": false
   },
   "outputs": [
    {
     "name": "stdout",
     "output_type": "stream",
     "text": [
      "> <ipython-input-63-f1c590dc7750>(131)_fit()\n",
      "-> return self\n",
      "(Pdb) np.dot(X, self.coefs_[\"W_1\"]).shape\n",
      "(200, 10)\n",
      "(Pdb) np.dot(X, self.coefs_[\"W_1\"]) + self.intercepts_[\"b_1\"]\n",
      "array([[ 0.00339578, -0.00840269, -0.00056861, ..., -0.00355555,\n",
      "         0.00258466, -0.00390758],\n",
      "       [ 0.00238363, -0.00589818, -0.00039913, ..., -0.00249578,\n",
      "         0.00181428, -0.00274289],\n",
      "       [-0.00513246,  0.01270005,  0.00085941, ...,  0.00537395,\n",
      "        -0.00390653,  0.00590603],\n",
      "       ..., \n",
      "       [-0.03598199,  0.08903581,  0.00602502, ...,  0.03767495,\n",
      "        -0.02738735,  0.04140518],\n",
      "       [-0.03541653,  0.0876366 ,  0.00593034, ...,  0.03708289,\n",
      "        -0.02695696,  0.04075449],\n",
      "       [-0.04471425,  0.11064338,  0.0074872 , ...,  0.04681806,\n",
      "        -0.03403382,  0.05145355]])\n",
      "(Pdb) (np.dot(X, self.coefs_[\"W_1\"]) + self.intercepts_[\"b_1\"]).shape\n",
      "(200, 10)\n",
      "(Pdb) np.tanh( np.dot(X, self.coefs_[\"W_1\"]) + self.intercepts_[\"b_1\"]  )\n",
      "array([[ 0.00339576, -0.00840249, -0.00056861, ..., -0.00355553,\n",
      "         0.00258466, -0.00390756],\n",
      "       [ 0.00238362, -0.00589811, -0.00039913, ..., -0.00249577,\n",
      "         0.00181427, -0.00274288],\n",
      "       [-0.00513242,  0.01269937,  0.00085941, ...,  0.0053739 ,\n",
      "        -0.00390651,  0.00590596],\n",
      "       ..., \n",
      "       [-0.03596647,  0.08880128,  0.00602495, ...,  0.03765714,\n",
      "        -0.0273805 ,  0.04138153],\n",
      "       [-0.03540173,  0.08741293,  0.00593027, ...,  0.0370659 ,\n",
      "        -0.02695043,  0.04073194],\n",
      "       [-0.04468447,  0.11019408,  0.00748706, ...,  0.04678388,\n",
      "        -0.03402069,  0.0514082 ]])\n",
      "(Pdb) np.tanh( np.dot(X, self.coefs_[\"W_1\"]) + self.intercepts_[\"b_1\"]  ).shape\n",
      "(200, 10)\n",
      "(Pdb) q\n"
     ]
    },
    {
     "ename": "BdbQuit",
     "evalue": "",
     "output_type": "error",
     "traceback": [
      "\u001b[1;31m---------------------------------------------------------------------------\u001b[0m",
      "\u001b[1;31mBdbQuit\u001b[0m                                   Traceback (most recent call last)",
      "\u001b[1;32m<ipython-input-68-551ba265df0e>\u001b[0m in \u001b[0;36m<module>\u001b[1;34m()\u001b[0m\n\u001b[1;32m----> 1\u001b[1;33m \u001b[0mMDN\u001b[0m\u001b[1;33m.\u001b[0m\u001b[0mfit\u001b[0m\u001b[1;33m(\u001b[0m\u001b[0mX\u001b[0m\u001b[1;33m,\u001b[0m\u001b[0mY\u001b[0m\u001b[1;33m)\u001b[0m\u001b[1;33m\u001b[0m\u001b[0m\n\u001b[0m",
      "\u001b[1;32m<ipython-input-63-f1c590dc7750>\u001b[0m in \u001b[0;36mfit\u001b[1;34m(self, X, y)\u001b[0m\n\u001b[0;32m    133\u001b[0m \u001b[1;33m\u001b[0m\u001b[0m\n\u001b[0;32m    134\u001b[0m     \u001b[1;32mdef\u001b[0m \u001b[0mfit\u001b[0m\u001b[1;33m(\u001b[0m\u001b[0mself\u001b[0m\u001b[1;33m,\u001b[0m \u001b[0mX\u001b[0m\u001b[1;33m,\u001b[0m \u001b[0my\u001b[0m\u001b[1;33m)\u001b[0m\u001b[1;33m:\u001b[0m\u001b[1;33m\u001b[0m\u001b[0m\n\u001b[1;32m--> 135\u001b[1;33m         \u001b[1;32mreturn\u001b[0m \u001b[0mself\u001b[0m\u001b[1;33m.\u001b[0m\u001b[0m_fit\u001b[0m\u001b[1;33m(\u001b[0m\u001b[0mX\u001b[0m\u001b[1;33m,\u001b[0m \u001b[0my\u001b[0m\u001b[1;33m)\u001b[0m\u001b[1;33m\u001b[0m\u001b[0m\n\u001b[0m",
      "\u001b[1;32m<ipython-input-63-f1c590dc7750>\u001b[0m in \u001b[0;36m_fit\u001b[1;34m(self, X, y)\u001b[0m\n\u001b[0;32m    129\u001b[0m         \u001b[1;32mimport\u001b[0m \u001b[0mpdb\u001b[0m\u001b[1;33m;\u001b[0m \u001b[0mpdb\u001b[0m\u001b[1;33m.\u001b[0m\u001b[0mset_trace\u001b[0m\u001b[1;33m(\u001b[0m\u001b[1;33m)\u001b[0m\u001b[1;33m\u001b[0m\u001b[0m\n\u001b[0;32m    130\u001b[0m \u001b[1;33m\u001b[0m\u001b[0m\n\u001b[1;32m--> 131\u001b[1;33m         \u001b[1;32mreturn\u001b[0m \u001b[0mself\u001b[0m\u001b[1;33m\u001b[0m\u001b[0m\n\u001b[0m\u001b[0;32m    132\u001b[0m         \u001b[0mX\u001b[0m\u001b[1;33m\u001b[0m\u001b[0m\n\u001b[0;32m    133\u001b[0m \u001b[1;33m\u001b[0m\u001b[0m\n",
      "\u001b[1;32m<ipython-input-63-f1c590dc7750>\u001b[0m in \u001b[0;36m_fit\u001b[1;34m(self, X, y)\u001b[0m\n\u001b[0;32m    129\u001b[0m         \u001b[1;32mimport\u001b[0m \u001b[0mpdb\u001b[0m\u001b[1;33m;\u001b[0m \u001b[0mpdb\u001b[0m\u001b[1;33m.\u001b[0m\u001b[0mset_trace\u001b[0m\u001b[1;33m(\u001b[0m\u001b[1;33m)\u001b[0m\u001b[1;33m\u001b[0m\u001b[0m\n\u001b[0;32m    130\u001b[0m \u001b[1;33m\u001b[0m\u001b[0m\n\u001b[1;32m--> 131\u001b[1;33m         \u001b[1;32mreturn\u001b[0m \u001b[0mself\u001b[0m\u001b[1;33m\u001b[0m\u001b[0m\n\u001b[0m\u001b[0;32m    132\u001b[0m         \u001b[0mX\u001b[0m\u001b[1;33m\u001b[0m\u001b[0m\n\u001b[0;32m    133\u001b[0m \u001b[1;33m\u001b[0m\u001b[0m\n",
      "\u001b[1;32m/home/david/anaconda/envs/py3/lib/python3.5/bdb.py\u001b[0m in \u001b[0;36mtrace_dispatch\u001b[1;34m(self, frame, event, arg)\u001b[0m\n\u001b[0;32m     46\u001b[0m             \u001b[1;32mreturn\u001b[0m \u001b[1;31m# None\u001b[0m\u001b[1;33m\u001b[0m\u001b[0m\n\u001b[0;32m     47\u001b[0m         \u001b[1;32mif\u001b[0m \u001b[0mevent\u001b[0m \u001b[1;33m==\u001b[0m \u001b[1;34m'line'\u001b[0m\u001b[1;33m:\u001b[0m\u001b[1;33m\u001b[0m\u001b[0m\n\u001b[1;32m---> 48\u001b[1;33m             \u001b[1;32mreturn\u001b[0m \u001b[0mself\u001b[0m\u001b[1;33m.\u001b[0m\u001b[0mdispatch_line\u001b[0m\u001b[1;33m(\u001b[0m\u001b[0mframe\u001b[0m\u001b[1;33m)\u001b[0m\u001b[1;33m\u001b[0m\u001b[0m\n\u001b[0m\u001b[0;32m     49\u001b[0m         \u001b[1;32mif\u001b[0m \u001b[0mevent\u001b[0m \u001b[1;33m==\u001b[0m \u001b[1;34m'call'\u001b[0m\u001b[1;33m:\u001b[0m\u001b[1;33m\u001b[0m\u001b[0m\n\u001b[0;32m     50\u001b[0m             \u001b[1;32mreturn\u001b[0m \u001b[0mself\u001b[0m\u001b[1;33m.\u001b[0m\u001b[0mdispatch_call\u001b[0m\u001b[1;33m(\u001b[0m\u001b[0mframe\u001b[0m\u001b[1;33m,\u001b[0m \u001b[0marg\u001b[0m\u001b[1;33m)\u001b[0m\u001b[1;33m\u001b[0m\u001b[0m\n",
      "\u001b[1;32m/home/david/anaconda/envs/py3/lib/python3.5/bdb.py\u001b[0m in \u001b[0;36mdispatch_line\u001b[1;34m(self, frame)\u001b[0m\n\u001b[0;32m     65\u001b[0m         \u001b[1;32mif\u001b[0m \u001b[0mself\u001b[0m\u001b[1;33m.\u001b[0m\u001b[0mstop_here\u001b[0m\u001b[1;33m(\u001b[0m\u001b[0mframe\u001b[0m\u001b[1;33m)\u001b[0m \u001b[1;32mor\u001b[0m \u001b[0mself\u001b[0m\u001b[1;33m.\u001b[0m\u001b[0mbreak_here\u001b[0m\u001b[1;33m(\u001b[0m\u001b[0mframe\u001b[0m\u001b[1;33m)\u001b[0m\u001b[1;33m:\u001b[0m\u001b[1;33m\u001b[0m\u001b[0m\n\u001b[0;32m     66\u001b[0m             \u001b[0mself\u001b[0m\u001b[1;33m.\u001b[0m\u001b[0muser_line\u001b[0m\u001b[1;33m(\u001b[0m\u001b[0mframe\u001b[0m\u001b[1;33m)\u001b[0m\u001b[1;33m\u001b[0m\u001b[0m\n\u001b[1;32m---> 67\u001b[1;33m             \u001b[1;32mif\u001b[0m \u001b[0mself\u001b[0m\u001b[1;33m.\u001b[0m\u001b[0mquitting\u001b[0m\u001b[1;33m:\u001b[0m \u001b[1;32mraise\u001b[0m \u001b[0mBdbQuit\u001b[0m\u001b[1;33m\u001b[0m\u001b[0m\n\u001b[0m\u001b[0;32m     68\u001b[0m         \u001b[1;32mreturn\u001b[0m \u001b[0mself\u001b[0m\u001b[1;33m.\u001b[0m\u001b[0mtrace_dispatch\u001b[0m\u001b[1;33m\u001b[0m\u001b[0m\n\u001b[0;32m     69\u001b[0m \u001b[1;33m\u001b[0m\u001b[0m\n",
      "\u001b[1;31mBdbQuit\u001b[0m: "
     ]
    }
   ],
   "source": [
    "MDN.fit(X,Y)"
   ]
  },
  {
   "cell_type": "code",
   "execution_count": 34,
   "metadata": {
    "collapsed": false
   },
   "outputs": [
    {
     "ename": "TypeError",
     "evalue": "data type not understood",
     "output_type": "error",
     "traceback": [
      "\u001b[1;31m---------------------------------------------------------------------------\u001b[0m",
      "\u001b[1;31mTypeError\u001b[0m                                 Traceback (most recent call last)",
      "\u001b[1;32m<ipython-input-34-84c2bdcf294c>\u001b[0m in \u001b[0;36m<module>\u001b[1;34m()\u001b[0m\n\u001b[0;32m      1\u001b[0m \u001b[0mn_hidden\u001b[0m \u001b[1;33m=\u001b[0m \u001b[1;36m10\u001b[0m\u001b[1;33m\u001b[0m\u001b[0m\n\u001b[1;32m----> 2\u001b[1;33m \u001b[0ma\u001b[0m\u001b[1;33m=\u001b[0m\u001b[1;33m{\u001b[0m\u001b[1;34m\"b_1\"\u001b[0m\u001b[1;33m:\u001b[0m  \u001b[0mnp\u001b[0m\u001b[1;33m.\u001b[0m\u001b[0mzeros\u001b[0m\u001b[1;33m(\u001b[0m\u001b[0mn_hidden\u001b[0m\u001b[1;33m,\u001b[0m \u001b[1;36m0\u001b[0m\u001b[1;33m)\u001b[0m\u001b[1;33m}\u001b[0m\u001b[1;33m\u001b[0m\u001b[0m\n\u001b[0m",
      "\u001b[1;31mTypeError\u001b[0m: data type not understood"
     ]
    }
   ],
   "source": [
    "n_hidden = 10\n",
    "a = {\"b_1\":  np.zeros(n_hidden, 0)}"
   ]
  },
  {
   "cell_type": "code",
   "execution_count": 39,
   "metadata": {
    "collapsed": false
   },
   "outputs": [
    {
     "ename": "TypeError",
     "evalue": "data type not understood",
     "output_type": "error",
     "traceback": [
      "\u001b[1;31m---------------------------------------------------------------------------\u001b[0m",
      "\u001b[1;31mTypeError\u001b[0m                                 Traceback (most recent call last)",
      "\u001b[1;32m<ipython-input-39-2ce794eaf7f0>\u001b[0m in \u001b[0;36m<module>\u001b[1;34m()\u001b[0m\n\u001b[1;32m----> 1\u001b[1;33m \u001b[0ma\u001b[0m \u001b[1;33m=\u001b[0m \u001b[1;33m{\u001b[0m\u001b[1;34m\"b_1\"\u001b[0m\u001b[1;33m:\u001b[0m  \u001b[0mnp\u001b[0m\u001b[1;33m.\u001b[0m\u001b[0mzeros\u001b[0m\u001b[1;33m(\u001b[0m\u001b[1;36m100\u001b[0m\u001b[1;33m,\u001b[0m \u001b[1;36m0\u001b[0m\u001b[1;33m)\u001b[0m\u001b[1;33m}\u001b[0m\u001b[1;33m\u001b[0m\u001b[0m\n\u001b[0m",
      "\u001b[1;31mTypeError\u001b[0m: data type not understood"
     ]
    }
   ],
   "source": [
    "a = {\"b_1\":  np.zeros(100, 0)}"
   ]
  },
  {
   "cell_type": "code",
   "execution_count": 40,
   "metadata": {
    "collapsed": false
   },
   "outputs": [
    {
     "ename": "TypeError",
     "evalue": "data type not understood",
     "output_type": "error",
     "traceback": [
      "\u001b[1;31m---------------------------------------------------------------------------\u001b[0m",
      "\u001b[1;31mTypeError\u001b[0m                                 Traceback (most recent call last)",
      "\u001b[1;32m<ipython-input-40-fa0c623da6f3>\u001b[0m in \u001b[0;36m<module>\u001b[1;34m()\u001b[0m\n\u001b[1;32m----> 1\u001b[1;33m \u001b[0mnp\u001b[0m\u001b[1;33m.\u001b[0m\u001b[0mzeros\u001b[0m\u001b[1;33m(\u001b[0m\u001b[1;36m100\u001b[0m\u001b[1;33m,\u001b[0m \u001b[1;36m0\u001b[0m\u001b[1;33m)\u001b[0m\u001b[1;33m\u001b[0m\u001b[0m\n\u001b[0m",
      "\u001b[1;31mTypeError\u001b[0m: data type not understood"
     ]
    }
   ],
   "source": [
    "np.zeros(100, 0)"
   ]
  },
  {
   "cell_type": "code",
   "execution_count": 43,
   "metadata": {
    "collapsed": false
   },
   "outputs": [
    {
     "data": {
      "text/plain": [
       "array([ 0.,  0.,  0.,  0.,  0.,  0.,  0.,  0.,  0.,  0.,  0.,  0.,  0.,\n",
       "        0.,  0.,  0.,  0.,  0.,  0.,  0.,  0.,  0.,  0.,  0.,  0.,  0.,\n",
       "        0.,  0.,  0.,  0.,  0.,  0.,  0.,  0.,  0.,  0.,  0.,  0.,  0.,\n",
       "        0.,  0.,  0.,  0.,  0.,  0.,  0.,  0.,  0.,  0.,  0.,  0.,  0.,\n",
       "        0.,  0.,  0.,  0.,  0.,  0.,  0.,  0.,  0.,  0.,  0.,  0.,  0.,\n",
       "        0.,  0.,  0.,  0.,  0.,  0.,  0.,  0.,  0.,  0.,  0.,  0.,  0.,\n",
       "        0.,  0.,  0.,  0.,  0.,  0.,  0.,  0.,  0.,  0.,  0.,  0.,  0.,\n",
       "        0.,  0.,  0.,  0.,  0.,  0.,  0.,  0.,  0.])"
      ]
     },
     "execution_count": 43,
     "metadata": {},
     "output_type": "execute_result"
    }
   ],
   "source": [
    "np.zeros(100,)"
   ]
  },
  {
   "cell_type": "code",
   "execution_count": null,
   "metadata": {
    "collapsed": true
   },
   "outputs": [],
   "source": []
  }
 ],
 "metadata": {
  "kernelspec": {
   "display_name": "Python 2",
   "language": "python",
   "name": "python2"
  },
  "language_info": {
   "codemirror_mode": {
    "name": "ipython",
    "version": 2
   },
   "file_extension": ".py",
   "mimetype": "text/x-python",
   "name": "python",
   "nbconvert_exporter": "python",
   "pygments_lexer": "ipython2",
   "version": "2.7.12"
  }
 },
 "nbformat": 4,
 "nbformat_minor": 0
}
