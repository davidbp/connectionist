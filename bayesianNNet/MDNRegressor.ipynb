{
 "cells": [
  {
   "cell_type": "markdown",
   "metadata": {},
   "source": [
    "# mixture density networks \n",
    "\n",
    "\n",
    "- About density estimation: http://scikit-learn.org/stable/modules/density.html\n",
    "\n",
    "\n",
    "- http://tullo.ch/articles/speeding-up-isotonic-regression/\n",
    "\n",
    "We want to model the conditional distribution as a mixture of Gaussians, where each Gaussian component parameters are dependent on the input, that is \n",
    "\n",
    "\n",
    "\\begin{equation}\n",
    "P(y^m \\mid x^m) = \\sum_{k=1}^K \\pi_k(x^m) \\mathcal{N} \\left( y^m \\mid \\mu_k(x^m) , \\sigma_k^2(x^m) \\right)\n",
    "\\end{equation}\n"
   ]
  },
  {
   "cell_type": "code",
   "execution_count": 2,
   "metadata": {
    "collapsed": false
   },
   "outputs": [],
   "source": [
    "import numpy as np\n",
    "import numpy as np\n",
    "import matplotlib.pyplot as plt\n",
    "\n",
    "%matplotlib inline\n",
    "%load_ext autoreload\n",
    "%autoreload 2"
   ]
  },
  {
   "cell_type": "code",
   "execution_count": 3,
   "metadata": {
    "collapsed": false,
    "scrolled": false
   },
   "outputs": [
    {
     "data": {
      "text/plain": [
       "<matplotlib.collections.PathCollection at 0x7f8bb30c7320>"
      ]
     },
     "execution_count": 3,
     "metadata": {},
     "output_type": "execute_result"
    },
    {
     "data": {
      "image/png": "[encoded data removed]",
      "text/plain": [
       "<matplotlib.figure.Figure at 0x7f8bb5615dd8>"
      ]
     },
     "metadata": {},
     "output_type": "display_data"
    }
   ],
   "source": [
    "# generate some 1D regression data (reproducing Bishop book data, page 273). \n",
    "# Note that the P(y|x) is not a nice distribution.\n",
    "# E.g. it has three modes for x ~= 0.5\n",
    "N = 200\n",
    "X = np.linspace(0,1,N)\n",
    "Y = X + 0.3 * np.sin(2*3.1415926*X) + np.random.uniform(-0.1, 0.2, N)\n",
    "X,Y = Y,X\n",
    "plt.scatter(X,Y,color='g')"
   ]
  },
  {
   "cell_type": "markdown",
   "metadata": {},
   "source": [
    "## About the model\n",
    "\n",
    "Now we will present a mixture density network (MDN) with a single hidden layer. This model can be generalized using as many hidden layers as we want defined just like in a regular multilayer perceptron. The main difference between an standard MLP and a MDN is the output layer which will be specified in the following:\n",
    "\n",
    "#### Weights\n",
    "\n",
    "Let us assume we are training a MDN with $K$ Gaussian components and the objective is to build a density $P(t \\mid x)$ where the target $t$ is a 1D variable (that is we are studying a 1D regression problem).\n",
    "\n",
    "- First layer weights W1 defines a mapping from the input to the hidden layer.\n",
    "\n",
    "- Second layer weights are composed by:\n",
    "\n",
    "    - A weight matrix for the mixing coefficients $\\pi_k$:  ```W_pi``` of shape ```(hidden_size, K)```\n",
    "        \n",
    "    - A weight matrix for the for the means of the Gaussian components $\\mu_k$: ```W_mean``` of shape ```(hidden_size, K)```\n",
    "    \n",
    "    -  A weight matrix for the variances of the Gaussian components $\\sigma_k^2$:  ```W_variance``` of shape ```(hidden_size, K)```\n",
    "\n",
    "- Second layer biases are composed by:\n",
    "\n",
    "    - A bias for the hidden layer: shape (hidden_size,1)\n",
    "    \n",
    "    - A bias for the mixing coefficients: shape (K,1)\n",
    "    \n",
    "    - A bias for the means of the Gaussian components: shape (K,1)\n",
    "    \n",
    "    - A bias for the variances of the Gaussian components: shape (K,1)\n"
   ]
  },
  {
   "cell_type": "code",
   "execution_count": 4,
   "metadata": {
    "collapsed": false
   },
   "outputs": [],
   "source": [
    "#from sklearn import utils, base\n",
    "import numpy as np\n",
    "from sklearn.base import BaseEstimator, RegressorMixin\n",
    "from sklearn.utils import check_array, check_X_y, column_or_1d\n",
    "from sklearn.utils.extmath import safe_sparse_dot"
   ]
  },
  {
   "cell_type": "code",
   "execution_count": 5,
   "metadata": {
    "collapsed": false
   },
   "outputs": [
    {
     "name": "stdout",
     "output_type": "stream",
     "text": [
      "Help on function safe_sparse_dot in module sklearn.utils.extmath:\n",
      "\n",
      "safe_sparse_dot(a, b, dense_output=False)\n",
      "    Dot product that handle the sparse matrix case correctly\n",
      "    \n",
      "    Uses BLAS GEMM as replacement for numpy.dot where possible\n",
      "    to avoid unnecessary copies.\n",
      "\n"
     ]
    }
   ],
   "source": [
    "help(safe_sparse_dot)"
   ]
  },
  {
   "cell_type": "code",
   "execution_count": 6,
   "metadata": {
    "collapsed": false
   },
   "outputs": [
    {
     "data": {
      "text/plain": [
       "array([ 0.92111535, -0.07208919,  0.46236699,  0.24376157,  0.83892899,\n",
       "       -1.48736362,  0.36939184,  0.25705309,  0.71534711, -0.20409744])"
      ]
     },
     "execution_count": 6,
     "metadata": {},
     "output_type": "execute_result"
    }
   ],
   "source": [
    "np.random.randn(10,)"
   ]
  },
  {
   "cell_type": "code",
   "execution_count": 7,
   "metadata": {
    "collapsed": false
   },
   "outputs": [
    {
     "data": {
      "text/plain": [
       "array([[-0.55907185],\n",
       "       [-0.2859028 ],\n",
       "       [-1.03135695],\n",
       "       [ 1.32765524],\n",
       "       [ 0.97546939]])"
      ]
     },
     "execution_count": 7,
     "metadata": {},
     "output_type": "execute_result"
    }
   ],
   "source": [
    "np.random.randn(5,1)"
   ]
  },
  {
   "cell_type": "code",
   "execution_count": 8,
   "metadata": {
    "collapsed": true
   },
   "outputs": [],
   "source": [
    "def softmax(x):\n",
    "    # softmaxes the columns of x\n",
    "    #z = x - np.max(x, axis=0, keepdims=True) # for safety\n",
    "    e = np.exp(x)\n",
    "    en = e / np.sum(e, axis=0, keepdims=True)\n",
    "    return en\n"
   ]
  },
  {
   "cell_type": "code",
   "execution_count": 9,
   "metadata": {
    "collapsed": true
   },
   "outputs": [],
   "source": [
    "import numpy  as np"
   ]
  },
  {
   "cell_type": "code",
   "execution_count": 24,
   "metadata": {
    "collapsed": false
   },
   "outputs": [],
   "source": [
    "class MDNRegressor(BaseEstimator, RegressorMixin):\n",
    "\n",
    "    \"\"\"\n",
    "    Mixture density network regression. This version assumes\n",
    "        - A single layer of hidden units.\n",
    "        - Target variable to be 1-dimensional\n",
    "    \n",
    "    hidden_layer_sizes : tuple, length = n_layers - 2, default (100,)\n",
    " \n",
    "       The ith element represents the number of neurons in the ith\n",
    "       hidden layer.\n",
    "       \n",
    "    activation: {'tanh'}\n",
    "    \n",
    "    shuffle : bool, optional, default True\n",
    "        Whether to shuffle samples in each iteration. \n",
    "        \n",
    "    \"\"\"\n",
    "    \n",
    "    def __init__(self,\n",
    "                 hidden_layer_size,\n",
    "                 n_components = 5,\n",
    "                 activation=\"tanh\",\n",
    "                 batch_size= \"auto\",\n",
    "                 shuffle=True):\n",
    "        \n",
    "        self.hidden_layer_size = hidden_layer_size\n",
    "        self.n_components = n_components\n",
    "        self.activation = activation\n",
    "        self.batch_size = batch_size\n",
    "        self.shuffle = shuffle\n",
    "            \n",
    "    def _initialize_in_fit(self, \n",
    "                           n_features,\n",
    "                           n_hidden, \n",
    "                           n_outputs, \n",
    "                           n_components):\n",
    "        \"\"\"\n",
    "        Initialize the model weights and biases\n",
    "        \"\"\"\n",
    "        scaling_factor = 0.1\n",
    "        \n",
    "        # n_outputs = y.shape[1]\n",
    "        self.n_outputs_ = n_outputs\n",
    "        self.loss_per_epoch = []\n",
    "        \n",
    "        # Initialize coefficient and intercept layers\n",
    "        self.coefs_ = {'W_1': np.random.randn(n_features, n_hidden) * scaling_factor,\n",
    "                       'W_variance': np.random.randn(n_hidden, n_components) * scaling_factor,\n",
    "                       'W_mean': np.random.randn(n_hidden, n_components) * scaling_factor,\n",
    "                       'W_mix_coeff':np.random.randn(n_hidden, n_components) * scaling_factor}\n",
    "        \n",
    "        self.intercepts_ = {'b_1':  np.zeros(n_hidden, ),\n",
    "                            'b_variance': np.zeros(n_components, ),\n",
    "                            'b_mean': np.zeros(n_components, ),\n",
    "                            'b_mix_coeff':  np.zeros(n_components, )}\n",
    "            \n",
    "    def predict_statistics(self, X):\n",
    "        \"\"\"\n",
    "        For each of the K components predicts\n",
    "            - the expected value (mean of the Gaussian) for a given x\n",
    "            - the variance of the prediction (variance of the Gaussian)\n",
    "            - the weight or coefficient of the component\n",
    "        \"\"\"\n",
    "        # compute hidden activation\n",
    "        \n",
    "        \n",
    "    def _validate_hyperparameters(self):\n",
    "        \"\"\"\n",
    "        Ensures hyperparameters are set correctly\n",
    "        \"\"\"\n",
    "        if not isinstance(self.shuffle, bool):\n",
    "            raise ValueError(\"shuffle must be either True or False, got %s.\" %\n",
    "                             self.shuffle)       \n",
    "    \n",
    "    def _validate_input(self, X, y, incremental):\n",
    "        \n",
    "        if y.ndim == 2 and y.shape[1] == 1:\n",
    "            y = column_or_1d(y, warn=True)\n",
    "        return X,y\n",
    "            \n",
    "    def _forward_pass(self, X):\n",
    "        activations = [X]\n",
    "        \n",
    "\n",
    "    def _compute_loss(self, X, y):\n",
    "        \"\"\"\n",
    "        Returns the probability\n",
    "        \"\"\"\n",
    "             \n",
    "        # Ensure y is 2D\n",
    "        if y.ndim == 1:\n",
    "            y = y.reshape((-1, 1))            \n",
    "\n",
    "        ### Forward pass ###\n",
    "        act_h1 = np.tanh( np.dot(X, self.coefs_['W_1']) + self.intercepts_['b_1']  )\n",
    "        \n",
    "        act_means = np.dot(act_h1, self.coefs_['W_mean']) + self.intercepts_['b_mean']\n",
    "        act_variances = np.exp(np.dot(act_h1,self.coefs_['W_variance']) + self.intercepts_['b_variance'])\n",
    "        act_mixing_coeff = softmax(np.dot(act_h1,self.coefs_['W_mix_coeff']) + self.intercepts_['b_mix_coeff'])\n",
    "        \n",
    "        ###\n",
    "        ### Compute Loss (- mean log-likelihood)\n",
    "        ###\n",
    "        n_samples, n_components = act_means.shape\n",
    "        \n",
    "        # prob_per_sample has shape (n_components, n_samples)\n",
    "        prob_per_sample = np.exp(-((y - act_means)**2)/(2*act_variances**2))/(act_variances*np.sqrt(2*np.pi))\n",
    "\n",
    "        pin = act_mixing_coeff * prob_per_sample\n",
    "        # logprob has shape (1,n_samples)\n",
    "        logprob = -np.log(np.sum(pin, axis=0, keepdims=True))\n",
    "        loss = np.sum(logprob)/n_samples\n",
    "        import pdb;pdb.set_trace()\n",
    "        \n",
    "        stats = {}\n",
    "        stats[\"lp\"] = logprob \n",
    "        return stats\n",
    "\n",
    "\n",
    "    def _compute_grads(self, X, y):\n",
    "        \n",
    "        ### Forward pass ###\n",
    "        act_h1 = np.tanh( np.dot(X, self.coefs_['W_1']) + self.intercepts_['b_1']  )\n",
    "        \n",
    "        act_means = np.dot(act_h1, self.coefs_['W_mean']) + self.intercepts_['b_mean']\n",
    "        act_variances = np.exp(np.dot(act_h1,self.coefs_['W_variance']) + self.intercepts_['b_variance'])\n",
    "        act_mixing_coeff = softmax(np.dot(act_h1,self.coefs_['W_mix_coeff']) + self.intercepts_['b_mix_coeff'])\n",
    "        \n",
    "        ###\n",
    "        ### Compute Loss (- mean log-likelihood)\n",
    "        ###\n",
    "        n_samples, n_components = act_means.shape\n",
    "        \n",
    "        # prob_per_sample has shape (n_components, n_samples)\n",
    "        prob_per_sample = np.exp(-((y - act_means)**2)/(2*act_variances**2))/(act_variances*np.sqrt(2*np.pi))\n",
    "        pin = act_mixing_coeff * prob_per_sample\n",
    "        \n",
    "        # logprob has shape (1,n_samples)\n",
    "        logprob = -np.log(np.sum(pin, axis=0, keepdims=True))\n",
    "        loss = np.sum(logprob)/n_samples\n",
    "\n",
    "        ###\n",
    "        ### Gradients \n",
    "        ###\n",
    "        \n",
    "        ### Gradients of the loss with respect to the parameters of the output layer\n",
    "        gammas = pin / np.sum(pin, axis=0, keepdims = True)\n",
    "        dmu = gammas * ((act_means - y)/act_variances**2) / n_samples\n",
    "        dlogsig = gammas * (1.0 - (y - act_means)**2/(act_variances**2)) / n_samples\n",
    "        dpiu = (act_mixing_coeff - gammas) / n_samples\n",
    "    \n",
    "        grads = {}\n",
    "        grads['W_mean'] = np.dot(dmu.T, act_h1).T\n",
    "        grads['W_variance'] = np.dot(dlogsig.T, act_h1).T\n",
    "        grads['W_mix_coeff'] = np.dot(dpiu.T, act_h1).T\n",
    "\n",
    "        grads['b_mean'] = np.sum(dmu, axis=0)\n",
    "        grads['b_variance'] = np.sum(dlogsig, axis=0)\n",
    "        grads['b_mix_coeff'] = np.sum(dpiu, axis=0)\n",
    "\n",
    "        ### Gradients of the loss with respect to the parameters of the first layer\n",
    "        dh = np.dot(self.coefs_['W_mean'], dmu.T) + \\\n",
    "             np.dot(self.coefs_['W_variance'], dlogsig.T) +\\\n",
    "             np.dot(self.coefs_['W_mix_coeff'], dpiu.T)\n",
    "\n",
    "        #import pdb; pdb.set_trace()\n",
    "        \n",
    "        dh = (1.0 - act_h1**2)*dh.T\n",
    "        grads['W_1'] = np.sum(dh, axis=0)       \n",
    "        grads['b_1'] = np.dot(dh.T, X).flatten()\n",
    "        self.loss_per_epoch.append(loss)\n",
    "        \n",
    "        return grads\n",
    "        \n",
    "        \n",
    "    def _fit(self, X, y, n_epochs = 20000, n_epochs_to_print=1000):\n",
    "        \"\"\"\n",
    "        Train the model\n",
    "        \"\"\"\n",
    "        ###########\n",
    "        # Prepare #\n",
    "        ###########\n",
    "        \n",
    "        # Do stuff here\n",
    "        hidden_layer_size = self.hidden_layer_size\n",
    "        \n",
    "        # Validate input parameters.\n",
    "        self._validate_hyperparameters()\n",
    "        if np.any(np.array(hidden_layer_size) <= 0):\n",
    "            raise ValueError(\"hidden_layer_sizes must be > 0, got %s.\" %\n",
    "                             hidden_layer_size)\n",
    "            \n",
    "        # Validate input\n",
    "        X, y = self._validate_input(X, y, incremental=True)\n",
    "        \n",
    "        # Ensure y is 2D\n",
    "        if y.ndim == 1:\n",
    "            y = y.reshape((-1, 1))            \n",
    "\n",
    "        self.n_outputs_ = y.shape[1]\n",
    "        n_features = X.shape[1]\n",
    "        \n",
    "        # Initialize model\n",
    "        self._initialize_in_fit(n_features,\n",
    "                                hidden_layer_size,\n",
    "                                self.n_outputs_,\n",
    "                                self.n_components)\n",
    "        \n",
    "        ###########\n",
    "        # Train   #\n",
    "        ###########\n",
    "        learning_rate = 0.01\n",
    "        \n",
    "        ### Initialize adagrad\n",
    "        mem = {}\n",
    "        for k in self.coefs_.keys(): \n",
    "            mem[k] = np.zeros_like(self.coefs_[k]) \n",
    "        for k in self.intercepts_.keys(): \n",
    "            mem[k] = np.zeros_like(self.intercepts_[k])\n",
    "        \n",
    "        \n",
    "        #nb = n_samples #full batch\n",
    "        #xbatch = np.reshape(X[:nb], (1,nb))\n",
    "        #ybatch = np.reshape(Y[:nb], (1,nb))\n",
    "        \n",
    "        for epoch in range(n_epochs):\n",
    "            \n",
    "            grads = self._compute_grads(X, y)\n",
    "            if epoch % n_epochs_to_print == 0:\n",
    "                print (\"epoch: \", epoch, \"loss: \", self.loss_per_epoch[-1])\n",
    "\n",
    "            for k,v in grads.items():\n",
    "                mem[k] += grads[k]**2\n",
    "                \n",
    "                if k in self.coefs_:\n",
    "                    self.coefs_[k] += -learning_rate * grads[k] / np.sqrt(mem[k] + 1e-8)\n",
    "                else:\n",
    "                    self.intercepts_[k] += -learning_rate * grads[k] / np.sqrt(mem[k] + 1e-8)                \n",
    "        \n",
    "            \n",
    "    def fit(self, X, y):\n",
    "        return self._fit(X, y)"
   ]
  },
  {
   "cell_type": "code",
   "execution_count": 25,
   "metadata": {
    "collapsed": false
   },
   "outputs": [
    {
     "data": {
      "text/plain": [
       "((200, 1), (200,))"
      ]
     },
     "execution_count": 25,
     "metadata": {},
     "output_type": "execute_result"
    }
   ],
   "source": [
    "X = X.reshape(-1,1)\n",
    "X.shape, Y.shape"
   ]
  },
  {
   "cell_type": "code",
   "execution_count": 26,
   "metadata": {
    "collapsed": false
   },
   "outputs": [],
   "source": [
    "mdn =  MDNRegressor(hidden_layer_size=10, n_components=3)"
   ]
  },
  {
   "cell_type": "code",
   "execution_count": 27,
   "metadata": {
    "collapsed": false,
    "scrolled": true
   },
   "outputs": [
    {
     "name": "stdout",
     "output_type": "stream",
     "text": [
      "epoch:  0 loss:  0.0160993764265\n",
      "epoch:  1000 loss:  -0.0228657552289\n",
      "epoch:  2000 loss:  -0.0254963668592\n",
      "epoch:  3000 loss:  -0.0327408437624\n",
      "epoch:  4000 loss:  -0.0310569039853\n",
      "epoch:  5000 loss:  -0.0330759457432\n",
      "epoch:  6000 loss:  -0.03539244037\n",
      "epoch:  7000 loss:  -0.0380374859807\n",
      "epoch:  8000 loss:  -0.0383454857401\n",
      "epoch:  9000 loss:  -0.0350753191918\n",
      "epoch:  10000 loss:  -0.0400612147553\n",
      "epoch:  11000 loss:  -0.0450724908892\n",
      "epoch:  12000 loss:  -0.0368639968515\n",
      "epoch:  13000 loss:  -0.044084565098\n",
      "epoch:  14000 loss:  -0.0411556493412\n",
      "epoch:  15000 loss:  -0.0349220317919\n",
      "epoch:  16000 loss:  -0.0349891216175\n",
      "epoch:  17000 loss:  -0.0413660976969\n",
      "epoch:  18000 loss:  -0.0256860038159\n",
      "epoch:  19000 loss:  -0.0261618928669\n"
     ]
    }
   ],
   "source": [
    "mdn.fit(X,Y)"
   ]
  },
  {
   "cell_type": "code",
   "execution_count": 28,
   "metadata": {
    "collapsed": false
   },
   "outputs": [
    {
     "data": {
      "text/plain": [
       "((200, 1), (200,))"
      ]
     },
     "execution_count": 28,
     "metadata": {},
     "output_type": "execute_result"
    }
   ],
   "source": [
    "X.shape, Y.shape"
   ]
  },
  {
   "cell_type": "code",
   "execution_count": 29,
   "metadata": {
    "collapsed": false
   },
   "outputs": [
    {
     "name": "stderr",
     "output_type": "stream",
     "text": [
      "/home/david/anaconda/envs/py3/lib/python3.5/site-packages/ipykernel/__main__.py:112: RuntimeWarning: divide by zero encountered in log\n"
     ]
    },
    {
     "name": "stdout",
     "output_type": "stream",
     "text": [
      "> <ipython-input-24-a35d80926ce1>(116)_compute_loss()\n",
      "-> stats = {}\n",
      "(Pdb) loss\n",
      "inf\n",
      "(Pdb) logprob \n",
      "array([[ inf,  inf,  inf]])\n",
      "(Pdb) pin =\n",
      "*** SyntaxError: invalid syntax\n",
      "(Pdb) pin \n",
      "array([[ 0.,  0.,  0.],\n",
      "       [ 0.,  0.,  0.],\n",
      "       [ 0.,  0.,  0.],\n",
      "       [ 0.,  0.,  0.],\n",
      "       [ 0.,  0.,  0.],\n",
      "       [ 0.,  0.,  0.],\n",
      "       [ 0.,  0.,  0.],\n",
      "       [ 0.,  0.,  0.]])\n",
      "(Pdb) pin.shape\n",
      "(8, 3)\n",
      "(Pdb) act_mixing_coeff.shape\n",
      "(8, 3)\n",
      "(Pdb) act_mixing_coeff\n",
      "array([[ 0.07150622,  0.0677239 ,  0.07628362],\n",
      "       [ 0.14521919,  0.14607263,  0.14399567],\n",
      "       [ 0.10576605,  0.10356144,  0.10836633],\n",
      "       [ 0.21052553,  0.21854085,  0.20088492],\n",
      "       [ 0.17519287,  0.17905113,  0.17037871],\n",
      "       [ 0.08914909,  0.08603195,  0.09296647],\n",
      "       [ 0.06307593,  0.05910529,  0.06816584],\n",
      "       [ 0.13956511,  0.13991282,  0.13895844]])\n",
      "(Pdb) prob_per_sample\n",
      "array([[ 0.,  0.,  0.],\n",
      "       [ 0.,  0.,  0.],\n",
      "       [ 0.,  0.,  0.],\n",
      "       [ 0.,  0.,  0.],\n",
      "       [ 0.,  0.,  0.],\n",
      "       [ 0.,  0.,  0.],\n",
      "       [ 0.,  0.,  0.],\n",
      "       [ 0.,  0.,  0.]])\n",
      "(Pdb) act_means\n",
      "array([[ 0.71118925,  0.7138347 ,  0.69845637],\n",
      "       [ 0.74926073,  0.75009982,  0.73445189],\n",
      "       [ 0.73222756,  0.7338467 ,  0.71830297],\n",
      "       [ 0.76920752,  0.76919463,  0.75345998],\n",
      "       [ 0.75934044,  0.75974047,  0.74404387],\n",
      "       [ 0.72304221,  0.72510114,  0.70962473],\n",
      "       [ 0.70444595,  0.70743434,  0.69211732],\n",
      "       [ 0.74712722,  0.74806142,  0.73242505]])\n",
      "(Pdb) act_variances\n",
      "array([[ 0.00202658,  0.00321517,  0.0019605 ],\n",
      "       [ 0.00155372,  0.0025183 ,  0.00150083],\n",
      "       [ 0.00174986,  0.00280911,  0.00169137],\n",
      "       [ 0.00135176,  0.00221583,  0.00130484],\n",
      "       [ 0.00144816,  0.00236061,  0.00139836],\n",
      "       [ 0.0018657 ,  0.00297967,  0.00180399],\n",
      "       [ 0.00212421,  0.00335738,  0.00205553],\n",
      "       [ 0.00157703,  0.00255301,  0.00152347]])\n",
      "(Pdb) act_mixing_coeff\n",
      "array([[ 0.07150622,  0.0677239 ,  0.07628362],\n",
      "       [ 0.14521919,  0.14607263,  0.14399567],\n",
      "       [ 0.10576605,  0.10356144,  0.10836633],\n",
      "       [ 0.21052553,  0.21854085,  0.20088492],\n",
      "       [ 0.17519287,  0.17905113,  0.17037871],\n",
      "       [ 0.08914909,  0.08603195,  0.09296647],\n",
      "       [ 0.06307593,  0.05910529,  0.06816584],\n",
      "       [ 0.13956511,  0.13991282,  0.13895844]])\n",
      "(Pdb) pin\n",
      "array([[ 0.,  0.,  0.],\n",
      "       [ 0.,  0.,  0.],\n",
      "       [ 0.,  0.,  0.],\n",
      "       [ 0.,  0.,  0.],\n",
      "       [ 0.,  0.,  0.],\n",
      "       [ 0.,  0.,  0.],\n",
      "       [ 0.,  0.,  0.],\n",
      "       [ 0.,  0.,  0.]])\n",
      "(Pdb) q\n"
     ]
    },
    {
     "ename": "BdbQuit",
     "evalue": "",
     "output_type": "error",
     "traceback": [
      "\u001b[1;31m---------------------------------------------------------------------------\u001b[0m",
      "\u001b[1;31mBdbQuit\u001b[0m                                   Traceback (most recent call last)",
      "\u001b[1;32m<ipython-input-29-f036b0e4464a>\u001b[0m in \u001b[0;36m<module>\u001b[1;34m()\u001b[0m\n\u001b[1;32m----> 1\u001b[1;33m \u001b[0mmdn\u001b[0m\u001b[1;33m.\u001b[0m\u001b[0m_compute_loss\u001b[0m\u001b[1;33m(\u001b[0m\u001b[0mX\u001b[0m\u001b[1;33m[\u001b[0m\u001b[1;36m0\u001b[0m\u001b[1;33m:\u001b[0m\u001b[1;36m8\u001b[0m\u001b[1;33m]\u001b[0m\u001b[1;33m,\u001b[0m\u001b[0mY\u001b[0m\u001b[1;33m[\u001b[0m\u001b[1;36m0\u001b[0m\u001b[1;33m:\u001b[0m\u001b[1;36m8\u001b[0m\u001b[1;33m]\u001b[0m\u001b[1;33m)\u001b[0m\u001b[1;33m\u001b[0m\u001b[0m\n\u001b[0m",
      "\u001b[1;32m<ipython-input-24-a35d80926ce1>\u001b[0m in \u001b[0;36m_compute_loss\u001b[1;34m(self, X, y)\u001b[0m\n\u001b[0;32m    114\u001b[0m         \u001b[1;32mimport\u001b[0m \u001b[0mpdb\u001b[0m\u001b[1;33m;\u001b[0m\u001b[0mpdb\u001b[0m\u001b[1;33m.\u001b[0m\u001b[0mset_trace\u001b[0m\u001b[1;33m(\u001b[0m\u001b[1;33m)\u001b[0m\u001b[1;33m\u001b[0m\u001b[0m\n\u001b[0;32m    115\u001b[0m \u001b[1;33m\u001b[0m\u001b[0m\n\u001b[1;32m--> 116\u001b[1;33m         \u001b[0mstats\u001b[0m \u001b[1;33m=\u001b[0m \u001b[1;33m{\u001b[0m\u001b[1;33m}\u001b[0m\u001b[1;33m\u001b[0m\u001b[0m\n\u001b[0m\u001b[0;32m    117\u001b[0m         \u001b[0mstats\u001b[0m\u001b[1;33m[\u001b[0m\u001b[1;34m\"lp\"\u001b[0m\u001b[1;33m]\u001b[0m \u001b[1;33m=\u001b[0m \u001b[0mlogprob\u001b[0m\u001b[1;33m\u001b[0m\u001b[0m\n\u001b[0;32m    118\u001b[0m         \u001b[1;32mreturn\u001b[0m \u001b[0mstats\u001b[0m\u001b[1;33m\u001b[0m\u001b[0m\n",
      "\u001b[1;32m<ipython-input-24-a35d80926ce1>\u001b[0m in \u001b[0;36m_compute_loss\u001b[1;34m(self, X, y)\u001b[0m\n\u001b[0;32m    114\u001b[0m         \u001b[1;32mimport\u001b[0m \u001b[0mpdb\u001b[0m\u001b[1;33m;\u001b[0m\u001b[0mpdb\u001b[0m\u001b[1;33m.\u001b[0m\u001b[0mset_trace\u001b[0m\u001b[1;33m(\u001b[0m\u001b[1;33m)\u001b[0m\u001b[1;33m\u001b[0m\u001b[0m\n\u001b[0;32m    115\u001b[0m \u001b[1;33m\u001b[0m\u001b[0m\n\u001b[1;32m--> 116\u001b[1;33m         \u001b[0mstats\u001b[0m \u001b[1;33m=\u001b[0m \u001b[1;33m{\u001b[0m\u001b[1;33m}\u001b[0m\u001b[1;33m\u001b[0m\u001b[0m\n\u001b[0m\u001b[0;32m    117\u001b[0m         \u001b[0mstats\u001b[0m\u001b[1;33m[\u001b[0m\u001b[1;34m\"lp\"\u001b[0m\u001b[1;33m]\u001b[0m \u001b[1;33m=\u001b[0m \u001b[0mlogprob\u001b[0m\u001b[1;33m\u001b[0m\u001b[0m\n\u001b[0;32m    118\u001b[0m         \u001b[1;32mreturn\u001b[0m \u001b[0mstats\u001b[0m\u001b[1;33m\u001b[0m\u001b[0m\n",
      "\u001b[1;32m/home/david/anaconda/envs/py3/lib/python3.5/bdb.py\u001b[0m in \u001b[0;36mtrace_dispatch\u001b[1;34m(self, frame, event, arg)\u001b[0m\n\u001b[0;32m     46\u001b[0m             \u001b[1;32mreturn\u001b[0m \u001b[1;31m# None\u001b[0m\u001b[1;33m\u001b[0m\u001b[0m\n\u001b[0;32m     47\u001b[0m         \u001b[1;32mif\u001b[0m \u001b[0mevent\u001b[0m \u001b[1;33m==\u001b[0m \u001b[1;34m'line'\u001b[0m\u001b[1;33m:\u001b[0m\u001b[1;33m\u001b[0m\u001b[0m\n\u001b[1;32m---> 48\u001b[1;33m             \u001b[1;32mreturn\u001b[0m \u001b[0mself\u001b[0m\u001b[1;33m.\u001b[0m\u001b[0mdispatch_line\u001b[0m\u001b[1;33m(\u001b[0m\u001b[0mframe\u001b[0m\u001b[1;33m)\u001b[0m\u001b[1;33m\u001b[0m\u001b[0m\n\u001b[0m\u001b[0;32m     49\u001b[0m         \u001b[1;32mif\u001b[0m \u001b[0mevent\u001b[0m \u001b[1;33m==\u001b[0m \u001b[1;34m'call'\u001b[0m\u001b[1;33m:\u001b[0m\u001b[1;33m\u001b[0m\u001b[0m\n\u001b[0;32m     50\u001b[0m             \u001b[1;32mreturn\u001b[0m \u001b[0mself\u001b[0m\u001b[1;33m.\u001b[0m\u001b[0mdispatch_call\u001b[0m\u001b[1;33m(\u001b[0m\u001b[0mframe\u001b[0m\u001b[1;33m,\u001b[0m \u001b[0marg\u001b[0m\u001b[1;33m)\u001b[0m\u001b[1;33m\u001b[0m\u001b[0m\n",
      "\u001b[1;32m/home/david/anaconda/envs/py3/lib/python3.5/bdb.py\u001b[0m in \u001b[0;36mdispatch_line\u001b[1;34m(self, frame)\u001b[0m\n\u001b[0;32m     65\u001b[0m         \u001b[1;32mif\u001b[0m \u001b[0mself\u001b[0m\u001b[1;33m.\u001b[0m\u001b[0mstop_here\u001b[0m\u001b[1;33m(\u001b[0m\u001b[0mframe\u001b[0m\u001b[1;33m)\u001b[0m \u001b[1;32mor\u001b[0m \u001b[0mself\u001b[0m\u001b[1;33m.\u001b[0m\u001b[0mbreak_here\u001b[0m\u001b[1;33m(\u001b[0m\u001b[0mframe\u001b[0m\u001b[1;33m)\u001b[0m\u001b[1;33m:\u001b[0m\u001b[1;33m\u001b[0m\u001b[0m\n\u001b[0;32m     66\u001b[0m             \u001b[0mself\u001b[0m\u001b[1;33m.\u001b[0m\u001b[0muser_line\u001b[0m\u001b[1;33m(\u001b[0m\u001b[0mframe\u001b[0m\u001b[1;33m)\u001b[0m\u001b[1;33m\u001b[0m\u001b[0m\n\u001b[1;32m---> 67\u001b[1;33m             \u001b[1;32mif\u001b[0m \u001b[0mself\u001b[0m\u001b[1;33m.\u001b[0m\u001b[0mquitting\u001b[0m\u001b[1;33m:\u001b[0m \u001b[1;32mraise\u001b[0m \u001b[0mBdbQuit\u001b[0m\u001b[1;33m\u001b[0m\u001b[0m\n\u001b[0m\u001b[0;32m     68\u001b[0m         \u001b[1;32mreturn\u001b[0m \u001b[0mself\u001b[0m\u001b[1;33m.\u001b[0m\u001b[0mtrace_dispatch\u001b[0m\u001b[1;33m\u001b[0m\u001b[0m\n\u001b[0;32m     69\u001b[0m \u001b[1;33m\u001b[0m\u001b[0m\n",
      "\u001b[1;31mBdbQuit\u001b[0m: "
     ]
    }
   ],
   "source": [
    "mdn._compute_loss(X[0:8],Y[0:8])"
   ]
  },
  {
   "cell_type": "code",
   "execution_count": null,
   "metadata": {
    "collapsed": true
   },
   "outputs": [],
   "source": []
  },
  {
   "cell_type": "code",
   "execution_count": 71,
   "metadata": {
    "collapsed": true
   },
   "outputs": [],
   "source": [
    "\n",
    "\n",
    "act_h1 = np.tanh( np.dot(X, mdn.coefs_['W_1']) + mdn.intercepts_['b_1']  )\n",
    "\n",
    "act_means = np.dot(act_h1, mdn.coefs_['W_mean']) + mdn.intercepts_['b_mean']\n",
    "act_variances = np.exp(np.dot(act_h1,mdn.coefs_['W_variance']) + mdn.intercepts_['b_variance'])\n",
    "act_mixing_coeff = softmax(np.dot(act_h1,mdn.coefs_['W_mix_coeff']) + mdn.intercepts_['b_mix_coeff'])\n",
    "\n",
    "\n"
   ]
  },
  {
   "cell_type": "code",
   "execution_count": 72,
   "metadata": {
    "collapsed": true
   },
   "outputs": [],
   "source": [
    "\n",
    "###\n",
    "### Compute Loss (- mean log-likelihood)\n",
    "###\n",
    "n_samples, n_components = act_means.shape\n",
    "#import pdb;pdb.set_trace()\n",
    "\n"
   ]
  },
  {
   "cell_type": "code",
   "execution_count": 73,
   "metadata": {
    "collapsed": false
   },
   "outputs": [
    {
     "data": {
      "text/plain": [
       "(200,)"
      ]
     },
     "execution_count": 73,
     "metadata": {},
     "output_type": "execute_result"
    }
   ],
   "source": [
    "Y.shape"
   ]
  },
  {
   "cell_type": "code",
   "execution_count": 65,
   "metadata": {
    "collapsed": false
   },
   "outputs": [
    {
     "data": {
      "text/plain": [
       "(200, 3)"
      ]
     },
     "execution_count": 65,
     "metadata": {},
     "output_type": "execute_result"
    }
   ],
   "source": [
    "act_means.shape"
   ]
  },
  {
   "cell_type": "code",
   "execution_count": null,
   "metadata": {
    "collapsed": true
   },
   "outputs": [],
   "source": []
  },
  {
   "cell_type": "code",
   "execution_count": 59,
   "metadata": {
    "collapsed": false
   },
   "outputs": [
    {
     "ename": "ValueError",
     "evalue": "operands could not be broadcast together with shapes (200,) (200,3) ",
     "output_type": "error",
     "traceback": [
      "\u001b[1;31m---------------------------------------------------------------------------\u001b[0m",
      "\u001b[1;31mValueError\u001b[0m                                Traceback (most recent call last)",
      "\u001b[1;32m<ipython-input-59-33cc57b967bd>\u001b[0m in \u001b[0;36m<module>\u001b[1;34m()\u001b[0m\n\u001b[1;32m----> 1\u001b[1;33m \u001b[0mnp\u001b[0m\u001b[1;33m.\u001b[0m\u001b[0mexp\u001b[0m\u001b[1;33m(\u001b[0m\u001b[1;33m-\u001b[0m\u001b[1;33m(\u001b[0m\u001b[1;33m(\u001b[0m\u001b[0mY\u001b[0m \u001b[1;33m-\u001b[0m \u001b[0mact_means\u001b[0m\u001b[1;33m)\u001b[0m\u001b[1;33m**\u001b[0m\u001b[1;36m2\u001b[0m\u001b[1;33m)\u001b[0m\u001b[1;33m)\u001b[0m\u001b[1;33m\u001b[0m\u001b[0m\n\u001b[0m",
      "\u001b[1;31mValueError\u001b[0m: operands could not be broadcast together with shapes (200,) (200,3) "
     ]
    }
   ],
   "source": [
    "np.exp(-((Y - act_means)**2))"
   ]
  },
  {
   "cell_type": "code",
   "execution_count": 54,
   "metadata": {
    "collapsed": false
   },
   "outputs": [
    {
     "ename": "NameError",
     "evalue": "name 'p' is not defined",
     "output_type": "error",
     "traceback": [
      "\u001b[1;31m---------------------------------------------------------------------------\u001b[0m",
      "\u001b[1;31mNameError\u001b[0m                                 Traceback (most recent call last)",
      "\u001b[1;32m<ipython-input-54-ada331f89b0c>\u001b[0m in \u001b[0;36m<module>\u001b[1;34m()\u001b[0m\n\u001b[1;32m----> 1\u001b[1;33m \u001b[0mp\u001b[0m\u001b[1;33m.\u001b[0m\u001b[0mexp\u001b[0m\u001b[1;33m(\u001b[0m\u001b[1;33m-\u001b[0m\u001b[1;33m(\u001b[0m\u001b[1;33m(\u001b[0m\u001b[0mY\u001b[0m \u001b[1;33m-\u001b[0m \u001b[0mact_means\u001b[0m\u001b[1;33m)\u001b[0m\u001b[1;33m**\u001b[0m\u001b[1;36m2\u001b[0m\u001b[1;33m)\u001b[0m\u001b[1;33m/\u001b[0m\u001b[1;33m(\u001b[0m\u001b[1;36m2\u001b[0m\u001b[1;33m*\u001b[0m\u001b[0mact_variances\u001b[0m\u001b[1;33m**\u001b[0m\u001b[1;36m2\u001b[0m\u001b[1;33m)\u001b[0m\u001b[1;33m)\u001b[0m\u001b[1;33m/\u001b[0m\u001b[1;33m(\u001b[0m\u001b[0mact_variances\u001b[0m\u001b[1;33m*\u001b[0m\u001b[0mnp\u001b[0m\u001b[1;33m.\u001b[0m\u001b[0msqrt\u001b[0m\u001b[1;33m(\u001b[0m\u001b[1;36m2\u001b[0m\u001b[1;33m*\u001b[0m\u001b[0mnp\u001b[0m\u001b[1;33m.\u001b[0m\u001b[0mpi\u001b[0m\u001b[1;33m)\u001b[0m\u001b[1;33m)\u001b[0m\u001b[1;33m\u001b[0m\u001b[0m\n\u001b[0m",
      "\u001b[1;31mNameError\u001b[0m: name 'p' is not defined"
     ]
    }
   ],
   "source": [
    "p.exp(-((Y - act_means)**2)/(2*act_variances**2))/(act_variances*np.sqrt(2*np.pi))\n"
   ]
  },
  {
   "cell_type": "code",
   "execution_count": null,
   "metadata": {
    "collapsed": true
   },
   "outputs": [],
   "source": []
  },
  {
   "cell_type": "code",
   "execution_count": null,
   "metadata": {
    "collapsed": true
   },
   "outputs": [],
   "source": [
    "\n",
    "\n",
    "# prob_per_sample has shape (n_components, n_samples)\n",
    "prob_per_sample = np.exp(-((y - act_means)**2)/(2*act_variances**2))/(act_variances*np.sqrt(2*np.pi))\n",
    "pin = act_mixing_coeff * prob_per_sample\n",
    "# logprob has shape (1,n_samples)\n",
    "logprob = -np.log(np.sum(pin, axis=0, keepdims=True))\n",
    "loss = np.sum(logprob)/n_samples"
   ]
  },
  {
   "cell_type": "code",
   "execution_count": 78,
   "metadata": {
    "collapsed": false
   },
   "outputs": [],
   "source": [
    "# utility function for creating contour plot of the predictions\n",
    "def drawContour(model):\n",
    "    n = 50\n",
    "    xx = np.linspace(0,1,n)\n",
    "    yy = np.linspace(0,1,n)\n",
    "    xm, ym = np.meshgrid(xx, yy)\n",
    "    \n",
    "    X = xm.reshape(xm.size,1)\n",
    "    y =  ym.reshape(ym.size)\n",
    "    \n",
    "    print(\"X :\", X.shape)\n",
    "    print(\"y: \", y.shape)\n",
    "    print(X)\n",
    "    _, _, stats = model._compute_loss(X, y)\n",
    "    logps = stats[\"lp\"]\n",
    "    plt.figure(figsize=(10,10))\n",
    "    plt.scatter(X,Y,color='g')\n",
    "    lp = stats['lp']\n",
    "    plt.contour(xm, ym, np.reshape(logps, (n, n)), levels=np.linspace(lp.min(), lp.max(), 50))\n",
    "    plt.xlabel('x')\n",
    "    plt.ylabel('y')\n",
    "    plt.title('3-component Gaussian Mixture Model for P(y|x)')"
   ]
  },
  {
   "cell_type": "code",
   "execution_count": 76,
   "metadata": {
    "collapsed": false
   },
   "outputs": [
    {
     "name": "stdout",
     "output_type": "stream",
     "text": [
      "X : (2500, 1)\n",
      "y:  (2500,)\n",
      "[[ 0.        ]\n",
      " [ 0.02040816]\n",
      " [ 0.04081633]\n",
      " ..., \n",
      " [ 0.95918367]\n",
      " [ 0.97959184]\n",
      " [ 1.        ]]\n"
     ]
    },
    {
     "ename": "ValueError",
     "evalue": "operands could not be broadcast together with shapes (2500,) (2500,3) ",
     "output_type": "error",
     "traceback": [
      "\u001b[1;31m---------------------------------------------------------------------------\u001b[0m",
      "\u001b[1;31mValueError\u001b[0m                                Traceback (most recent call last)",
      "\u001b[1;32m<ipython-input-76-be5241ef43c6>\u001b[0m in \u001b[0;36m<module>\u001b[1;34m()\u001b[0m\n\u001b[1;32m----> 1\u001b[1;33m \u001b[0mdrawContour\u001b[0m\u001b[1;33m(\u001b[0m\u001b[0mmodel\u001b[0m\u001b[1;33m=\u001b[0m\u001b[0mmdn\u001b[0m\u001b[1;33m)\u001b[0m\u001b[1;33m\u001b[0m\u001b[0m\n\u001b[0m",
      "\u001b[1;32m<ipython-input-75-21a226c792fd>\u001b[0m in \u001b[0;36mdrawContour\u001b[1;34m(model)\u001b[0m\n\u001b[0;32m     12\u001b[0m     \u001b[0mprint\u001b[0m\u001b[1;33m(\u001b[0m\u001b[1;34m\"y: \"\u001b[0m\u001b[1;33m,\u001b[0m \u001b[0my\u001b[0m\u001b[1;33m.\u001b[0m\u001b[0mshape\u001b[0m\u001b[1;33m)\u001b[0m\u001b[1;33m\u001b[0m\u001b[0m\n\u001b[0;32m     13\u001b[0m     \u001b[0mprint\u001b[0m\u001b[1;33m(\u001b[0m\u001b[0mX\u001b[0m\u001b[1;33m)\u001b[0m\u001b[1;33m\u001b[0m\u001b[0m\n\u001b[1;32m---> 14\u001b[1;33m     \u001b[0m_\u001b[0m\u001b[1;33m,\u001b[0m \u001b[0m_\u001b[0m\u001b[1;33m,\u001b[0m \u001b[0mstats\u001b[0m \u001b[1;33m=\u001b[0m \u001b[0mmodel\u001b[0m\u001b[1;33m.\u001b[0m\u001b[0m_compute_loss\u001b[0m\u001b[1;33m(\u001b[0m\u001b[0mX\u001b[0m\u001b[1;33m,\u001b[0m \u001b[0my\u001b[0m\u001b[1;33m)\u001b[0m\u001b[1;33m\u001b[0m\u001b[0m\n\u001b[0m\u001b[0;32m     15\u001b[0m     \u001b[0mlogps\u001b[0m \u001b[1;33m=\u001b[0m \u001b[0mstats\u001b[0m\u001b[1;33m[\u001b[0m\u001b[1;34m\"lp\"\u001b[0m\u001b[1;33m]\u001b[0m\u001b[1;33m\u001b[0m\u001b[0m\n\u001b[0;32m     16\u001b[0m     \u001b[0mplt\u001b[0m\u001b[1;33m.\u001b[0m\u001b[0mfigure\u001b[0m\u001b[1;33m(\u001b[0m\u001b[0mfigsize\u001b[0m\u001b[1;33m=\u001b[0m\u001b[1;33m(\u001b[0m\u001b[1;36m10\u001b[0m\u001b[1;33m,\u001b[0m\u001b[1;36m10\u001b[0m\u001b[1;33m)\u001b[0m\u001b[1;33m)\u001b[0m\u001b[1;33m\u001b[0m\u001b[0m\n",
      "\u001b[1;32m<ipython-input-51-9a5d670b0608>\u001b[0m in \u001b[0;36m_compute_loss\u001b[1;34m(self, X, y)\u001b[0m\n\u001b[0;32m    101\u001b[0m         \u001b[0mn_components\u001b[0m\u001b[1;33m,\u001b[0m \u001b[0mn_samples\u001b[0m \u001b[1;33m=\u001b[0m \u001b[0mact_means\u001b[0m\u001b[1;33m.\u001b[0m\u001b[0mshape\u001b[0m\u001b[1;33m\u001b[0m\u001b[0m\n\u001b[0;32m    102\u001b[0m         \u001b[1;31m# prob_per_sample has shape (n_components, n_samples)\u001b[0m\u001b[1;33m\u001b[0m\u001b[1;33m\u001b[0m\u001b[0m\n\u001b[1;32m--> 103\u001b[1;33m         \u001b[0mprob_per_sample\u001b[0m \u001b[1;33m=\u001b[0m \u001b[0mnp\u001b[0m\u001b[1;33m.\u001b[0m\u001b[0mexp\u001b[0m\u001b[1;33m(\u001b[0m\u001b[1;33m-\u001b[0m\u001b[1;33m(\u001b[0m\u001b[1;33m(\u001b[0m\u001b[0my\u001b[0m \u001b[1;33m-\u001b[0m \u001b[0mact_means\u001b[0m\u001b[1;33m)\u001b[0m\u001b[1;33m**\u001b[0m\u001b[1;36m2\u001b[0m\u001b[1;33m)\u001b[0m\u001b[1;33m/\u001b[0m\u001b[1;33m(\u001b[0m\u001b[1;36m2\u001b[0m\u001b[1;33m*\u001b[0m\u001b[0mact_variances\u001b[0m\u001b[1;33m**\u001b[0m\u001b[1;36m2\u001b[0m\u001b[1;33m)\u001b[0m\u001b[1;33m)\u001b[0m\u001b[1;33m/\u001b[0m\u001b[1;33m(\u001b[0m\u001b[0mact_variances\u001b[0m\u001b[1;33m*\u001b[0m\u001b[0mnp\u001b[0m\u001b[1;33m.\u001b[0m\u001b[0msqrt\u001b[0m\u001b[1;33m(\u001b[0m\u001b[1;36m2\u001b[0m\u001b[1;33m*\u001b[0m\u001b[0mnp\u001b[0m\u001b[1;33m.\u001b[0m\u001b[0mpi\u001b[0m\u001b[1;33m)\u001b[0m\u001b[1;33m)\u001b[0m\u001b[1;33m\u001b[0m\u001b[0m\n\u001b[0m\u001b[0;32m    104\u001b[0m         \u001b[0mpin\u001b[0m \u001b[1;33m=\u001b[0m \u001b[0mact_mixing_coeff\u001b[0m \u001b[1;33m*\u001b[0m \u001b[0mprob_per_sample\u001b[0m\u001b[1;33m\u001b[0m\u001b[0m\n\u001b[0;32m    105\u001b[0m         \u001b[1;31m# logprob has shape (1,n_samples)\u001b[0m\u001b[1;33m\u001b[0m\u001b[1;33m\u001b[0m\u001b[0m\n",
      "\u001b[1;31mValueError\u001b[0m: operands could not be broadcast together with shapes (2500,) (2500,3) "
     ]
    }
   ],
   "source": [
    "drawContour(model=mdn)"
   ]
  },
  {
   "cell_type": "code",
   "execution_count": 36,
   "metadata": {
    "collapsed": false
   },
   "outputs": [
    {
     "data": {
      "text/plain": [
       "(200, 1)"
      ]
     },
     "execution_count": 36,
     "metadata": {},
     "output_type": "execute_result"
    }
   ],
   "source": [
    "X.shape"
   ]
  },
  {
   "cell_type": "code",
   "execution_count": null,
   "metadata": {
    "collapsed": true
   },
   "outputs": [],
   "source": []
  },
  {
   "cell_type": "code",
   "execution_count": null,
   "metadata": {
    "collapsed": true
   },
   "outputs": [],
   "source": []
  },
  {
   "cell_type": "code",
   "execution_count": null,
   "metadata": {
    "collapsed": true
   },
   "outputs": [],
   "source": []
  },
  {
   "cell_type": "code",
   "execution_count": null,
   "metadata": {
    "collapsed": true
   },
   "outputs": [],
   "source": []
  },
  {
   "cell_type": "code",
   "execution_count": null,
   "metadata": {
    "collapsed": true
   },
   "outputs": [],
   "source": []
  },
  {
   "cell_type": "code",
   "execution_count": null,
   "metadata": {
    "collapsed": true
   },
   "outputs": [],
   "source": []
  },
  {
   "cell_type": "code",
   "execution_count": null,
   "metadata": {
    "collapsed": true
   },
   "outputs": [],
   "source": []
  },
  {
   "cell_type": "code",
   "execution_count": null,
   "metadata": {
    "collapsed": true
   },
   "outputs": [],
   "source": []
  },
  {
   "cell_type": "code",
   "execution_count": null,
   "metadata": {
    "collapsed": true
   },
   "outputs": [],
   "source": []
  },
  {
   "cell_type": "code",
   "execution_count": null,
   "metadata": {
    "collapsed": true
   },
   "outputs": [],
   "source": []
  },
  {
   "cell_type": "code",
   "execution_count": null,
   "metadata": {
    "collapsed": true
   },
   "outputs": [],
   "source": []
  },
  {
   "cell_type": "code",
   "execution_count": 19,
   "metadata": {
    "collapsed": false
   },
   "outputs": [
    {
     "data": {
      "text/plain": [
       "((200, 1), (200,))"
      ]
     },
     "execution_count": 19,
     "metadata": {},
     "output_type": "execute_result"
    }
   ],
   "source": [
    "X.shape, Y.shape"
   ]
  },
  {
   "cell_type": "code",
   "execution_count": 20,
   "metadata": {
    "collapsed": true
   },
   "outputs": [],
   "source": [
    "X = X.reshape(-1,1)"
   ]
  },
  {
   "cell_type": "code",
   "execution_count": 42,
   "metadata": {
    "collapsed": false
   },
   "outputs": [
    {
     "data": {
      "text/plain": [
       "((200, 1), (200,))"
      ]
     },
     "execution_count": 42,
     "metadata": {},
     "output_type": "execute_result"
    }
   ],
   "source": [
    "X.shape, Y.shape"
   ]
  },
  {
   "cell_type": "code",
   "execution_count": 43,
   "metadata": {
    "collapsed": false
   },
   "outputs": [
    {
     "data": {
      "text/plain": [
       "(array([[-0.06288342],\n",
       "        [-0.02550665],\n",
       "        [ 0.02676715]]), array([ 0.        ,  0.00502513,  0.01005025]))"
      ]
     },
     "execution_count": 43,
     "metadata": {},
     "output_type": "execute_result"
    }
   ],
   "source": [
    "X[0:3], Y[0:3]"
   ]
  },
  {
   "cell_type": "code",
   "execution_count": 44,
   "metadata": {
    "collapsed": false
   },
   "outputs": [],
   "source": [
    "mdn._initialize_in_fit(n_features=1, n_hidden=4, n_outputs=1, n_components=5)"
   ]
  },
  {
   "cell_type": "code",
   "execution_count": 45,
   "metadata": {
    "collapsed": false
   },
   "outputs": [],
   "source": [
    "Xbatch = X[0:3]\n",
    "# activation at the hidden layer for each of the element s in the minibatch\n",
    "act_h1 = np.dot(Xbatch, mdn.coefs_[\"W_1\"]) + mdn.intercepts_[\"b_1\"]"
   ]
  },
  {
   "cell_type": "code",
   "execution_count": 46,
   "metadata": {
    "collapsed": false
   },
   "outputs": [
    {
     "data": {
      "text/plain": [
       "array([[  1.72225560e-03,  -2.82623485e-04,  -1.50002264e-04,\n",
       "          9.53050363e-04,  -4.09432060e-04],\n",
       "       [  6.98577901e-04,  -1.14637177e-04,  -6.08436207e-05,\n",
       "          3.86574398e-04,  -1.66073020e-04],\n",
       "       [ -7.33100586e-04,   1.20302377e-04,   6.38504223e-05,\n",
       "         -4.05678332e-04,   1.74280102e-04]])"
      ]
     },
     "execution_count": 46,
     "metadata": {},
     "output_type": "execute_result"
    }
   ],
   "source": [
    "np.dot(act_h1,mdn.coefs_['W_mean'])"
   ]
  },
  {
   "cell_type": "code",
   "execution_count": 47,
   "metadata": {
    "collapsed": false
   },
   "outputs": [
    {
     "data": {
      "text/plain": [
       "(5,)"
      ]
     },
     "execution_count": 47,
     "metadata": {},
     "output_type": "execute_result"
    }
   ],
   "source": [
    "mdn.intercepts_['b_mean'].shape"
   ]
  },
  {
   "cell_type": "code",
   "execution_count": 48,
   "metadata": {
    "collapsed": false
   },
   "outputs": [],
   "source": [
    "act_means = np.dot(act_h1,mdn.coefs_['W_mean']) + mdn.intercepts_['b_mean']"
   ]
  },
  {
   "cell_type": "code",
   "execution_count": 49,
   "metadata": {
    "collapsed": false
   },
   "outputs": [],
   "source": [
    "#mdn.fit(X,Y)"
   ]
  },
  {
   "cell_type": "code",
   "execution_count": 50,
   "metadata": {
    "collapsed": false
   },
   "outputs": [
    {
     "ename": "TypeError",
     "evalue": "data type not understood",
     "output_type": "error",
     "traceback": [
      "\u001b[1;31m---------------------------------------------------------------------------\u001b[0m",
      "\u001b[1;31mTypeError\u001b[0m                                 Traceback (most recent call last)",
      "\u001b[1;32m<ipython-input-50-b57f75ee4871>\u001b[0m in \u001b[0;36m<module>\u001b[1;34m()\u001b[0m\n\u001b[0;32m      1\u001b[0m \u001b[0mn_hidden\u001b[0m \u001b[1;33m=\u001b[0m \u001b[1;36m10\u001b[0m\u001b[1;33m\u001b[0m\u001b[0m\n\u001b[1;32m----> 2\u001b[1;33m \u001b[0ma\u001b[0m \u001b[1;33m=\u001b[0m \u001b[1;33m{\u001b[0m\u001b[1;34m\"b_1\"\u001b[0m\u001b[1;33m:\u001b[0m  \u001b[0mnp\u001b[0m\u001b[1;33m.\u001b[0m\u001b[0mzeros\u001b[0m\u001b[1;33m(\u001b[0m\u001b[0mn_hidden\u001b[0m\u001b[1;33m,\u001b[0m \u001b[1;36m0\u001b[0m\u001b[1;33m)\u001b[0m\u001b[1;33m}\u001b[0m\u001b[1;33m\u001b[0m\u001b[0m\n\u001b[0m",
      "\u001b[1;31mTypeError\u001b[0m: data type not understood"
     ]
    }
   ],
   "source": [
    "n_hidden = 10\n",
    "a = {\"b_1\":  np.zeros(n_hidden, 0)}"
   ]
  },
  {
   "cell_type": "code",
   "execution_count": 39,
   "metadata": {
    "collapsed": false
   },
   "outputs": [
    {
     "ename": "TypeError",
     "evalue": "data type not understood",
     "output_type": "error",
     "traceback": [
      "\u001b[1;31m---------------------------------------------------------------------------\u001b[0m",
      "\u001b[1;31mTypeError\u001b[0m                                 Traceback (most recent call last)",
      "\u001b[1;32m<ipython-input-39-2ce794eaf7f0>\u001b[0m in \u001b[0;36m<module>\u001b[1;34m()\u001b[0m\n\u001b[1;32m----> 1\u001b[1;33m \u001b[0ma\u001b[0m \u001b[1;33m=\u001b[0m \u001b[1;33m{\u001b[0m\u001b[1;34m\"b_1\"\u001b[0m\u001b[1;33m:\u001b[0m  \u001b[0mnp\u001b[0m\u001b[1;33m.\u001b[0m\u001b[0mzeros\u001b[0m\u001b[1;33m(\u001b[0m\u001b[1;36m100\u001b[0m\u001b[1;33m,\u001b[0m \u001b[1;36m0\u001b[0m\u001b[1;33m)\u001b[0m\u001b[1;33m}\u001b[0m\u001b[1;33m\u001b[0m\u001b[0m\n\u001b[0m",
      "\u001b[1;31mTypeError\u001b[0m: data type not understood"
     ]
    }
   ],
   "source": [
    "a = {\"b_1\":  np.zeros(100, 0)}"
   ]
  },
  {
   "cell_type": "code",
   "execution_count": 40,
   "metadata": {
    "collapsed": false
   },
   "outputs": [
    {
     "ename": "TypeError",
     "evalue": "data type not understood",
     "output_type": "error",
     "traceback": [
      "\u001b[1;31m---------------------------------------------------------------------------\u001b[0m",
      "\u001b[1;31mTypeError\u001b[0m                                 Traceback (most recent call last)",
      "\u001b[1;32m<ipython-input-40-fa0c623da6f3>\u001b[0m in \u001b[0;36m<module>\u001b[1;34m()\u001b[0m\n\u001b[1;32m----> 1\u001b[1;33m \u001b[0mnp\u001b[0m\u001b[1;33m.\u001b[0m\u001b[0mzeros\u001b[0m\u001b[1;33m(\u001b[0m\u001b[1;36m100\u001b[0m\u001b[1;33m,\u001b[0m \u001b[1;36m0\u001b[0m\u001b[1;33m)\u001b[0m\u001b[1;33m\u001b[0m\u001b[0m\n\u001b[0m",
      "\u001b[1;31mTypeError\u001b[0m: data type not understood"
     ]
    }
   ],
   "source": [
    "np.zeros(100, 0)"
   ]
  },
  {
   "cell_type": "code",
   "execution_count": 43,
   "metadata": {
    "collapsed": false
   },
   "outputs": [
    {
     "data": {
      "text/plain": [
       "array([ 0.,  0.,  0.,  0.,  0.,  0.,  0.,  0.,  0.,  0.,  0.,  0.,  0.,\n",
       "        0.,  0.,  0.,  0.,  0.,  0.,  0.,  0.,  0.,  0.,  0.,  0.,  0.,\n",
       "        0.,  0.,  0.,  0.,  0.,  0.,  0.,  0.,  0.,  0.,  0.,  0.,  0.,\n",
       "        0.,  0.,  0.,  0.,  0.,  0.,  0.,  0.,  0.,  0.,  0.,  0.,  0.,\n",
       "        0.,  0.,  0.,  0.,  0.,  0.,  0.,  0.,  0.,  0.,  0.,  0.,  0.,\n",
       "        0.,  0.,  0.,  0.,  0.,  0.,  0.,  0.,  0.,  0.,  0.,  0.,  0.,\n",
       "        0.,  0.,  0.,  0.,  0.,  0.,  0.,  0.,  0.,  0.,  0.,  0.,  0.,\n",
       "        0.,  0.,  0.,  0.,  0.,  0.,  0.,  0.,  0.])"
      ]
     },
     "execution_count": 43,
     "metadata": {},
     "output_type": "execute_result"
    }
   ],
   "source": [
    "np.zeros(100,)"
   ]
  },
  {
   "cell_type": "code",
   "execution_count": null,
   "metadata": {
    "collapsed": true
   },
   "outputs": [],
   "source": []
  }
 ],
 "metadata": {
  "kernelspec": {
   "display_name": "Python 3",
   "language": "python",
   "name": "python3"
  },
  "language_info": {
   "codemirror_mode": {
    "name": "ipython",
    "version": 3
   },
   "file_extension": ".py",
   "mimetype": "text/x-python",
   "name": "python",
   "nbconvert_exporter": "python",
   "pygments_lexer": "ipython3",
   "version": "3.5.1"
  }
 },
 "nbformat": 4,
 "nbformat_minor": 0
}
